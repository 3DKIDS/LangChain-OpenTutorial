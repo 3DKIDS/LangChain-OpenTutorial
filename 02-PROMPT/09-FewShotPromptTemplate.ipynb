{
  "cells": [
    {
      "cell_type": "markdown",
      "id": "121e072e",
      "metadata": {},
      "source": [
        "# Few-Shot Templates\n",
        "\n",
        "- Author: [hong-seongmin](https://github.com/hong-seongmin)\n",
        "- Design: \n",
        "- Peer Review: [Wooseok-Jeong](https://github.com/jeong-wooseok), [Hye-yoon](https://github.com/Hye-yoonJeong)\n",
        "- This is a part of [LangChain OpenTutorial](https://github.com/LangChain-OpenTutorial/LangChain-OpenTutorial)\n",
        "\n",
        "[![Open in Colab](https://colab.research.google.com/assets/colab-badge.svg)](https://colab.research.google.com/github/langchain-ai/langchain-academy/blob/main/module-4/sub-graph.ipynb) [![Open in LangChain Academy](https://cdn.prod.website-files.com/65b8cd72835ceeacd4449a53/66e9eba12c7b7688aa3dbb5e_LCA-badge-green.svg)](https://academy.langchain.com/courses/take/intro-to-langgraph/lessons/58239937-lesson-2-sub-graphs)\n",
        "\n",
        "\n",
        "## Overview\n",
        "\n",
        "LangChain's Few-Shot Prompting provides a robust framework for guiding language models to generate high-quality outputs by supplying carefully selected examples. This technique minimizes the need for extensive model fine-tuning while ensuring precise, context-aware results across diverse use cases.\n",
        "\n",
        "### Key Components:\n",
        "\n",
        "- **Few-Shot Prompt Templates**: Define the structure and format of prompts by embedding illustrative examples, guiding the model to produce consistent outputs.\n",
        "- **Example Selection Strategies**: Dynamically select the most relevant examples for a given query, enhancing the model's contextual understanding and response accuracy.\n",
        "- **Chroma Vector Store**: A powerful utility for storing and retrieving examples based on semantic similarity, enabling scalable and efficient prompt construction.\n",
        "\n",
        "---\n",
        "\n",
        "### Table of Contents\n",
        "\n",
        "- [Overview](#overview)\n",
        "- [Environment Setup](#environment-setup)\n",
        "- [FewShotPromptTemplate](#FewShotPromptTemplate)\n",
        "- [Dynamic Example Selection with Chroma](#dynamic-example-selection-with-chroma)\n",
        "- [FewShotChatMessagePromptTemplate](#FewShotChatMessagePromptTemplate)\n",
        "\n",
        "---\n",
        "\n",
        "### References\n",
        "\n",
        "- [LangChain Documentation: Few-shot prompting](https://python.langchain.com/docs/concepts/few_shot_prompting/#3-selecting-examples)\n",
        "- [How to better prompt when doing SQL question-answering](https://python.langchain.com/docs/how_to/sql_prompting/#few-shot-examples)"
      ]
    },
    {
      "cell_type": "markdown",
      "id": "90c6c17c",
      "metadata": {},
      "source": [
        "## Environment Setup\n",
        "\n",
        "Set up the environment. You may refer to [Environment Setup](https://wikidocs.net/257836) for more details.\n",
        "\n",
        "**[Note]**\n",
        "- `langchain-opentutorial` is a package that provides a set of easy-to-use environment setup, useful functions and utilities for tutorials. \n",
        "- You can checkout the [`langchain-opentutorial`](https://github.com/LangChain-OpenTutorial/langchain-opentutorial-pypi) for more details."
      ]
    },
    {
      "cell_type": "code",
      "execution_count": 1,
      "id": "d06a9fb9",
      "metadata": {},
      "outputs": [
        {
          "name": "stderr",
          "output_type": "stream",
          "text": [
            "WARNING: Ignoring invalid distribution -angchain-community (c:\\users\\user\\appdata\\local\\programs\\python\\python310\\lib\\site-packages)\n",
            "WARNING: Ignoring invalid distribution -orch (c:\\users\\user\\appdata\\local\\programs\\python\\python310\\lib\\site-packages)\n",
            "WARNING: Ignoring invalid distribution -rotobuf (c:\\users\\user\\appdata\\local\\programs\\python\\python310\\lib\\site-packages)\n",
            "WARNING: Ignoring invalid distribution -treamlit (c:\\users\\user\\appdata\\local\\programs\\python\\python310\\lib\\site-packages)\n",
            "WARNING: Error parsing dependencies of torchsde: .* suffix can only be used with `==` or `!=` operators\n",
            "    numpy (>=1.19.*) ; python_version >= \"3.7\"\n",
            "           ~~~~~~~^\n",
            "WARNING: Ignoring invalid distribution -angchain-community (c:\\users\\user\\appdata\\local\\programs\\python\\python310\\lib\\site-packages)\n",
            "WARNING: Ignoring invalid distribution -orch (c:\\users\\user\\appdata\\local\\programs\\python\\python310\\lib\\site-packages)\n",
            "WARNING: Ignoring invalid distribution -rotobuf (c:\\users\\user\\appdata\\local\\programs\\python\\python310\\lib\\site-packages)\n",
            "WARNING: Ignoring invalid distribution -treamlit (c:\\users\\user\\appdata\\local\\programs\\python\\python310\\lib\\site-packages)\n",
            "WARNING: Ignoring invalid distribution -angchain-community (c:\\users\\user\\appdata\\local\\programs\\python\\python310\\lib\\site-packages)\n",
            "WARNING: Ignoring invalid distribution -orch (c:\\users\\user\\appdata\\local\\programs\\python\\python310\\lib\\site-packages)\n",
            "WARNING: Ignoring invalid distribution -rotobuf (c:\\users\\user\\appdata\\local\\programs\\python\\python310\\lib\\site-packages)\n",
            "WARNING: Ignoring invalid distribution -treamlit (c:\\users\\user\\appdata\\local\\programs\\python\\python310\\lib\\site-packages)\n"
          ]
        }
      ],
      "source": [
        "%%capture --no-stderr\n",
        "!pip install langchain-opentutorial"
      ]
    },
    {
      "cell_type": "code",
      "execution_count": 2,
      "id": "84162da8",
      "metadata": {},
      "outputs": [],
      "source": [
        "# Install required packages\n",
        "from langchain_opentutorial import package\n",
        "\n",
        "package.install(\n",
        "    [\n",
        "        \"langsmith\",\n",
        "        \"langchain\",\n",
        "        \"langchain_core\",\n",
        "        \"langchain_openai\",\n",
        "        \"langchain-chroma\",\n",
        "    ],\n",
        "    verbose=False,\n",
        "    upgrade=False,\n",
        ")"
      ]
    },
    {
      "cell_type": "code",
      "execution_count": 1,
      "id": "a6297cdf",
      "metadata": {},
      "outputs": [
        {
          "data": {
            "text/plain": [
              "True"
            ]
          },
          "execution_count": 1,
          "metadata": {},
          "output_type": "execute_result"
        }
      ],
      "source": [
        "from dotenv import load_dotenv\n",
        "\n",
        "load_dotenv(override=True)"
      ]
    },
    {
      "cell_type": "code",
      "execution_count": 3,
      "id": "dc022228",
      "metadata": {},
      "outputs": [
        {
          "name": "stdout",
          "output_type": "stream",
          "text": [
            "Environment variables have been set successfully.\n"
          ]
        }
      ],
      "source": [
        "# Set environment variables\n",
        "from langchain_opentutorial import set_env\n",
        "\n",
        "set_env(\n",
        "    {\n",
        "        \"LANGCHAIN_TRACING_V2\": \"true\",\n",
        "        \"LANGCHAIN_ENDPOINT\": \"https://api.smith.langchain.com\",\n",
        "        \"LANGCHAIN_PROJECT\": \"09-FewShot-Prompt-Templates\",\n",
        "    }\n",
        ")"
      ]
    },
    {
      "cell_type": "markdown",
      "id": "8f61bf15",
      "metadata": {},
      "source": [
        "## FewShotPromptTemplate\n",
        "\n",
        "Few-shot prompting is a powerful technique that guides language models to produce accurate and contextually relevant outputs by providing a small set of carefully designed examples. LangChain's `FewShotPromptTemplate` streamlines this process, allowing users to construct flexible and reusable prompts for various tasks like question answering, summarization, and correction.\n",
        "\n",
        "1. **Designing Few-Shot Prompts**\n",
        "\n",
        "   - Define examples that illustrate the desired structure and style of the output.\n",
        "   - Ensure examples cover edge cases to improve model understanding and performance.\n",
        "\n",
        "2. **Dynamic Example Selection**\n",
        "\n",
        "   - Use semantic similarity techniques or vector-based search to select the most relevant examples for a query.\n",
        "\n",
        "3. **Integrating Few-Shot Prompts**\n",
        "\n",
        "   - Combine prompt templates with language models to create robust chains for generating responses."
      ]
    },
    {
      "cell_type": "markdown",
      "id": "98a9a9b3",
      "metadata": {},
      "source": [
        "### FewShotPromptTemplate Example\n",
        "\n",
        "The FewShotPromptTemplate allows you to provide a language model with a small set of examples that demonstrate the desired structure and format of its output. By leveraging these examples, the model can better understand the context and generate more accurate responses for new queries. This technique is especially useful for tasks like question answering, summarization, or generating structured outputs.\n",
        "\n",
        "Below, we define a few examples to help the model answer questions more effectively by breaking them down into intermediate steps. We then use the `FewShotPromptTemplate` to format the prompt dynamically based on the query.\n",
        "\n",
        "---"
      ]
    },
    {
      "cell_type": "code",
      "execution_count": 5,
      "id": "97361f8b",
      "metadata": {},
      "outputs": [
        {
          "name": "stdout",
          "output_type": "stream",
          "text": [
            "The capital of the United States of America is Washington, D.C.\n"
          ]
        }
      ],
      "source": [
        "from langchain_openai import ChatOpenAI\n",
        "\n",
        "# Initialize the language model\n",
        "llm = ChatOpenAI(\n",
        "    temperature=0,  # Creativity\n",
        "    model_name=\"gpt-4o-mini\",  # Use a valid model name\n",
        ")\n",
        "\n",
        "# User query\n",
        "question = \"What is the capital of United States of America?\"\n",
        "\n",
        "# Query the model\n",
        "response = llm.predict(question)\n",
        "\n",
        "# Print the response\n",
        "print(response)"
      ]
    },
    {
      "cell_type": "code",
      "execution_count": 6,
      "id": "5153912a",
      "metadata": {},
      "outputs": [],
      "source": [
        "from langchain_core.prompts import PromptTemplate, FewShotPromptTemplate\n",
        "\n",
        "# Define examples for the few-shot prompt\n",
        "examples = [\n",
        "    {\n",
        "        \"question\": \"Who lived longer, Steve Jobs or Einstein?\",\n",
        "        \"answer\": \"\"\"Does this question require additional questions: Yes.\n",
        "Additional Question: At what age did Steve Jobs die?\n",
        "Intermediate Answer: Steve Jobs died at the age of 56.\n",
        "Additional Question: At what age did Einstein die?\n",
        "Intermediate Answer: Einstein died at the age of 76.\n",
        "The final answer is: Einstein\n",
        "\"\"\",\n",
        "    },\n",
        "    {\n",
        "        \"question\": \"When was the founder of Naver born?\",\n",
        "        \"answer\": \"\"\"Does this question require additional questions: Yes.\n",
        "Additional Question: Who is the founder of Naver?\n",
        "Intermediate Answer: Naver was founded by Lee Hae-jin.\n",
        "Additional Question: When was Lee Hae-jin born?\n",
        "Intermediate Answer: Lee Hae-jin was born on June 22, 1967.\n",
        "The final answer is: June 22, 1967\n",
        "\"\"\",\n",
        "    },\n",
        "    {\n",
        "        \"question\": \"Who was the reigning king when Yulgok Yi's mother was born?\",\n",
        "        \"answer\": \"\"\"Does this question require additional questions: Yes.\n",
        "Additional Question: Who is Yulgok Yi's mother?\n",
        "Intermediate Answer: Yulgok Yi's mother is Shin Saimdang.\n",
        "Additional Question: When was Shin Saimdang born?\n",
        "Intermediate Answer: Shin Saimdang was born in 1504.\n",
        "Additional Question: Who was the king of Joseon in 1504?\n",
        "Intermediate Answer: The king of Joseon in 1504 was Yeonsangun.\n",
        "The final answer is: Yeonsangun\n",
        "\"\"\",\n",
        "    },\n",
        "    {\n",
        "        \"question\": \"Are the directors of Oldboy and Parasite from the same country?\",\n",
        "        \"answer\": \"\"\"Does this question require additional questions: Yes.\n",
        "Additional Question: Who is the director of Oldboy?\n",
        "Intermediate Answer: The director of Oldboy is Park Chan-wook.\n",
        "Additional Question: Which country is Park Chan-wook from?\n",
        "Intermediate Answer: Park Chan-wook is from South Korea.\n",
        "Additional Question: Who is the director of Parasite?\n",
        "Intermediate Answer: The director of Parasite is Bong Joon-ho.\n",
        "Additional Question: Which country is Bong Joon-ho from?\n",
        "Intermediate Answer: Bong Joon-ho is from South Korea.\n",
        "The final answer is: Yes\n",
        "\"\"\",\n",
        "    },\n",
        "]"
      ]
    },
    {
      "cell_type": "code",
      "execution_count": 7,
      "id": "58bb7d6c",
      "metadata": {},
      "outputs": [
        {
          "name": "stdout",
          "output_type": "stream",
          "text": [
            "Question:\n",
            "Who lived longer, Steve Jobs or Einstein?\n",
            "Answer:\n",
            "Does this question require additional questions: Yes.\n",
            "Additional Question: At what age did Steve Jobs die?\n",
            "Intermediate Answer: Steve Jobs died at the age of 56.\n",
            "Additional Question: At what age did Einstein die?\n",
            "Intermediate Answer: Einstein died at the age of 76.\n",
            "The final answer is: Einstein\n",
            "\n"
          ]
        }
      ],
      "source": [
        "# Create an example prompt template\n",
        "example_prompt = PromptTemplate.from_template(\n",
        "    \"Question:\\n{question}\\nAnswer:\\n{answer}\"\n",
        ")\n",
        "\n",
        "# Print the first formatted example\n",
        "print(example_prompt.format(**examples[0]))"
      ]
    },
    {
      "cell_type": "code",
      "execution_count": 9,
      "id": "9372a454",
      "metadata": {},
      "outputs": [
        {
          "name": "stdout",
          "output_type": "stream",
          "text": [
            "Question:\n",
            "Who lived longer, Steve Jobs or Einstein?\n",
            "Answer:\n",
            "Does this question require additional questions: Yes.\n",
            "Additional Question: At what age did Steve Jobs die?\n",
            "Intermediate Answer: Steve Jobs died at the age of 56.\n",
            "Additional Question: At what age did Einstein die?\n",
            "Intermediate Answer: Einstein died at the age of 76.\n",
            "The final answer is: Einstein\n",
            "\n",
            "\n",
            "Question:\n",
            "When was the founder of Naver born?\n",
            "Answer:\n",
            "Does this question require additional questions: Yes.\n",
            "Additional Question: Who is the founder of Naver?\n",
            "Intermediate Answer: Naver was founded by Lee Hae-jin.\n",
            "Additional Question: When was Lee Hae-jin born?\n",
            "Intermediate Answer: Lee Hae-jin was born on June 22, 1967.\n",
            "The final answer is: June 22, 1967\n",
            "\n",
            "\n",
            "Question:\n",
            "Who was the reigning king when Yulgok Yi's mother was born?\n",
            "Answer:\n",
            "Does this question require additional questions: Yes.\n",
            "Additional Question: Who is Yulgok Yi's mother?\n",
            "Intermediate Answer: Yulgok Yi's mother is Shin Saimdang.\n",
            "Additional Question: When was Shin Saimdang born?\n",
            "Intermediate Answer: Shin Saimdang was born in 1504.\n",
            "Additional Question: Who was the king of Joseon in 1504?\n",
            "Intermediate Answer: The king of Joseon in 1504 was Yeonsangun.\n",
            "The final answer is: Yeonsangun\n",
            "\n",
            "\n",
            "Question:\n",
            "Are the directors of Oldboy and Parasite from the same country?\n",
            "Answer:\n",
            "Does this question require additional questions: Yes.\n",
            "Additional Question: Who is the director of Oldboy?\n",
            "Intermediate Answer: The director of Oldboy is Park Chan-wook.\n",
            "Additional Question: Which country is Park Chan-wook from?\n",
            "Intermediate Answer: Park Chan-wook is from South Korea.\n",
            "Additional Question: Who is the director of Parasite?\n",
            "Intermediate Answer: The director of Parasite is Bong Joon-ho.\n",
            "Additional Question: Which country is Bong Joon-ho from?\n",
            "Intermediate Answer: Bong Joon-ho is from South Korea.\n",
            "The final answer is: Yes\n",
            "\n",
            "\n",
            "Question:\n",
            "How old was Bill Gates when Google was founded?\n",
            "Answer:\n"
          ]
        }
      ],
      "source": [
        "# Initialize the FewShotPromptTemplate\n",
        "few_shot_prompt = FewShotPromptTemplate(\n",
        "    examples=examples,\n",
        "    example_prompt=example_prompt,\n",
        "    suffix=\"Question:\\n{question}\\nAnswer:\",\n",
        "    input_variables=[\"question\"],\n",
        ")\n",
        "\n",
        "# Example question\n",
        "question = \"How old was Bill Gates when Google was founded?\"\n",
        "\n",
        "# Generate the final prompt\n",
        "final_prompt = few_shot_prompt.format(question=question)\n",
        "print(final_prompt)"
      ]
    },
    {
      "cell_type": "code",
      "execution_count": 10,
      "id": "946d6668",
      "metadata": {},
      "outputs": [
        {
          "name": "stdout",
          "output_type": "stream",
          "text": [
            "Does this question require additional questions: Yes.  \n",
            "Additional Question: When was Google founded?  \n",
            "Intermediate Answer: Google was founded on September 4, 1998.  \n",
            "Additional Question: What is Bill Gates' birth date?  \n",
            "Intermediate Answer: Bill Gates was born on October 28, 1955.  \n",
            "Additional Question: How old was Bill Gates on September 4, 1998?  \n",
            "Intermediate Answer: Bill Gates was 42 years old when Google was founded.  \n",
            "The final answer is: 42 years old.\n"
          ]
        }
      ],
      "source": [
        "# Query the model with the final prompt\n",
        "response = llm.predict(final_prompt)\n",
        "print(response)"
      ]
    },
    {
      "cell_type": "markdown",
      "id": "dd73809b",
      "metadata": {},
      "source": [
        "## Dynamic Example Selection with Chroma\n",
        "\n",
        "When working with multiple examples, selecting the most relevant ones for a given input is critical to ensuring high-quality outputs. Chroma provides an efficient way to store and retrieve examples based on semantic similarity, enabling dynamic example selection in workflows.\n",
        "\n",
        "1. **Embedding and Vector Store Initialization**\n",
        "\n",
        "   - Use OpenAIEmbeddings to embed examples.\n",
        "   - Store the embeddings in a Chroma vector store for efficient retrieval.\n",
        "\n",
        "2. **Example Storage**\n",
        "\n",
        "   - Examples are stored with both their content and metadata.\n",
        "   - Metadata can include details such as the question and answer, which are used for further processing after retrieval.\n",
        "\n",
        "3. **Similarity Search**\n",
        "\n",
        "   - Query the vector store to retrieve the most similar examples based on the input.\n",
        "   - Enables context-aware dynamic prompt creation."
      ]
    },
    {
      "cell_type": "code",
      "execution_count": 26,
      "id": "b7e2e3d3",
      "metadata": {},
      "outputs": [
        {
          "name": "stdout",
          "output_type": "stream",
          "text": [
            "Constructed Prompt:\n",
            "\n",
            "Question:\n",
            "Who lived longer, Steve Jobs or Einstein?\n",
            "Answer:\n",
            "Einstein\n",
            "\n",
            "\n",
            "Question:\n",
            "How old was Bill Gates when Google was founded?\n",
            "Answer:\n",
            "\n",
            "Response:\n",
            "\n",
            "Google was founded on September 4, 1998. Bill Gates was born on October 28, 1955, which means he was 42 years old at the time Google was founded.\n"
          ]
        }
      ],
      "source": [
        "from langchain_openai.embeddings.base import OpenAIEmbeddings\n",
        "from langchain_chroma import Chroma\n",
        "from langchain_core.prompts.few_shot import FewShotPromptTemplate\n",
        "from langchain_core.example_selectors import SemanticSimilarityExampleSelector\n",
        "from langchain_openai import ChatOpenAI\n",
        "\n",
        "# Initialize embeddings and vector store\n",
        "embeddings = OpenAIEmbeddings()\n",
        "chroma = Chroma(persist_directory=\"example_selector\", embedding_function=embeddings)\n",
        "\n",
        "# Define examples for Few-Shot prompting\n",
        "examples = [\n",
        "    {\"question\": \"Who lived longer, Steve Jobs or Einstein?\", \"answer\": \"Einstein\"},\n",
        "    {\"question\": \"When was the founder of Naver born?\", \"answer\": \"June 22, 1967\"},\n",
        "    {\"question\": \"Who was the reigning king when Yulgok Yi's mother was born?\", \"answer\": \"Yeonsangun\"},\n",
        "    {\"question\": \"Are the directors of Oldboy and Parasite from the same country?\", \"answer\": \"Yes\"},\n",
        "]\n",
        "\n",
        "# Add examples to the vector store\n",
        "texts = [example[\"question\"] for example in examples]\n",
        "metadatas = [example for example in examples]\n",
        "chroma.add_texts(texts=texts, metadatas=metadatas)\n",
        "\n",
        "# Set up Example Selector\n",
        "example_selector = SemanticSimilarityExampleSelector(\n",
        "    vectorstore=chroma,  # Only vectorstore is needed\n",
        "    k=1  # Number of examples to select\n",
        ")\n",
        "\n",
        "# Define Few-Shot Prompt Template\n",
        "example_prompt_template = PromptTemplate.from_template(\n",
        "    \"Question:\\n{question}\\nAnswer:\\n{answer}\\n\"\n",
        ")\n",
        "prompt = FewShotPromptTemplate(\n",
        "    example_selector=example_selector,\n",
        "    example_prompt=example_prompt_template,\n",
        "    suffix=\"Question:\\n{question}\\nAnswer:\",\n",
        "    input_variables=[\"question\"],\n",
        ")\n",
        "\n",
        "# Query input and process\n",
        "query = {\"question\": \"How old was Bill Gates when Google was founded?\"}\n",
        "formatted_prompt = prompt.format(**query)\n",
        "\n",
        "# Print the constructed prompt\n",
        "print(\"Constructed Prompt:\\n\")\n",
        "print(formatted_prompt)\n",
        "\n",
        "# Initialize the language model\n",
        "llm = ChatOpenAI(model_name=\"gpt-4o-mini\", temperature=0)\n",
        "\n",
        "# Query the language model with the constructed prompt\n",
        "response = llm.predict(formatted_prompt)\n",
        "print(\"\\nResponse:\\n\")\n",
        "print(response)\n"
      ]
    },
    {
      "cell_type": "code",
      "execution_count": 17,
      "id": "d9c37030",
      "metadata": {},
      "outputs": [
        {
          "ename": "TypeError",
          "evalue": "SemanticSimilarityExampleSelector.from_examples() missing 2 required positional arguments: 'embeddings' and 'vectorstore_cls'",
          "output_type": "error",
          "traceback": [
            "\u001b[1;31m---------------------------------------------------------------------------\u001b[0m",
            "\u001b[1;31mTypeError\u001b[0m                                 Traceback (most recent call last)",
            "Cell \u001b[1;32mIn[17], line 2\u001b[0m\n\u001b[0;32m      1\u001b[0m \u001b[38;5;66;03m# Step 4: Set up Example Selector\u001b[39;00m\n\u001b[1;32m----> 2\u001b[0m example_selector \u001b[38;5;241m=\u001b[39m \u001b[43mSemanticSimilarityExampleSelector\u001b[49m\u001b[38;5;241;43m.\u001b[39;49m\u001b[43mfrom_examples\u001b[49m\u001b[43m(\u001b[49m\n\u001b[0;32m      3\u001b[0m \u001b[43m    \u001b[49m\u001b[43mexamples\u001b[49m\u001b[38;5;241;43m=\u001b[39;49m\u001b[43mexamples\u001b[49m\u001b[43m,\u001b[49m\n\u001b[0;32m      4\u001b[0m \u001b[43m    \u001b[49m\u001b[43membedding_function\u001b[49m\u001b[38;5;241;43m=\u001b[39;49m\u001b[43membeddings\u001b[49m\u001b[43m,\u001b[49m\n\u001b[0;32m      5\u001b[0m \u001b[43m    \u001b[49m\u001b[43mvector_store\u001b[49m\u001b[38;5;241;43m=\u001b[39;49m\u001b[43mchroma\u001b[49m\u001b[43m,\u001b[49m\n\u001b[0;32m      6\u001b[0m \u001b[43m    \u001b[49m\u001b[43mk\u001b[49m\u001b[38;5;241;43m=\u001b[39;49m\u001b[38;5;241;43m1\u001b[39;49m\u001b[43m,\u001b[49m\u001b[43m  \u001b[49m\u001b[38;5;66;43;03m# Select the top 1 most similar example\u001b[39;49;00m\n\u001b[0;32m      7\u001b[0m \u001b[43m)\u001b[49m\n\u001b[0;32m      9\u001b[0m \u001b[38;5;66;03m# Step 5: Define Few-Shot Prompt Template\u001b[39;00m\n\u001b[0;32m     10\u001b[0m example_prompt_template \u001b[38;5;241m=\u001b[39m \u001b[38;5;124m\"\u001b[39m\u001b[38;5;124mQuestion:\u001b[39m\u001b[38;5;130;01m\\n\u001b[39;00m\u001b[38;5;132;01m{question}\u001b[39;00m\u001b[38;5;130;01m\\n\u001b[39;00m\u001b[38;5;124mAnswer:\u001b[39m\u001b[38;5;130;01m\\n\u001b[39;00m\u001b[38;5;132;01m{answer}\u001b[39;00m\u001b[38;5;130;01m\\n\u001b[39;00m\u001b[38;5;124m\"\u001b[39m\n",
            "\u001b[1;31mTypeError\u001b[0m: SemanticSimilarityExampleSelector.from_examples() missing 2 required positional arguments: 'embeddings' and 'vectorstore_cls'"
          ]
        }
      ],
      "source": [
        "# Step 4: Set up Example Selector\n",
        "example_selector = SemanticSimilarityExampleSelector.from_examples(\n",
        "    examples=examples,\n",
        "    embedding_function=embeddings,\n",
        "    vector_store=chroma,\n",
        "    k=1,  # Select the top 1 most similar example\n",
        ")\n",
        "\n",
        "# Step 5: Define Few-Shot Prompt Template\n",
        "example_prompt_template = \"Question:\\n{question}\\nAnswer:\\n{answer}\\n\"\n",
        "prompt = FewShotPromptTemplate(\n",
        "    example_selector=example_selector,\n",
        "    example_prompt=example_prompt_template,\n",
        "    suffix=\"Question:\\n{question}\\nAnswer:\",\n",
        "    input_variables=[\"question\"],\n",
        ")"
      ]
    },
    {
      "cell_type": "code",
      "execution_count": 35,
      "id": "912665c5",
      "metadata": {},
      "outputs": [
        {
          "name": "stdout",
          "output_type": "stream",
          "text": [
            "Most similar example to the input:\n",
            "How old was Bill Gates when Google was founded?\n",
            "\n",
            "question:\n",
            "Who lived longer, Steve Jobs or Einstein?\n",
            "answer:\n",
            "Einstein\n"
          ]
        }
      ],
      "source": [
        "# Print the most similar example\n",
        "print(f\"Most similar example to the input:\\n{query}\\n\")\n",
        "for result in results:\n",
        "    print(f'question:\\n{result.page_content}')\n",
        "    print(f'answer:\\n{result.metadata[\"answer\"]}')"
      ]
    },
    {
      "cell_type": "markdown",
      "id": "b09d8ac4",
      "metadata": {},
      "source": [
        "## FewShotChatMessagePromptTemplate\n",
        "\n",
        "The `FewShotChatMessagePromptTemplate` leverages a few-shot learning approach to dynamically generate chat-based prompts by combining relevant examples with a structured format. This method is especially effective for tasks like summarization, meeting minute creation, or document processing.\n"
      ]
    },
    {
      "cell_type": "code",
      "execution_count": 36,
      "id": "1b4ebd3f",
      "metadata": {},
      "outputs": [
        {
          "name": "stdout",
          "output_type": "stream",
          "text": [
            "[Document(metadata={'answer': 'Meeting minutes: Weekly meeting held on December 26, 2023. Focused on progress updates and milestone planning.', 'input': 'On December 26, 2023, the product development team held a weekly meeting. The meeting focused on progress updates and milestone planning.', 'instruction': 'Please write the meeting minutes'}, page_content='Please write the meeting minutes On December 26, 2023, the product development team held a weekly meeting. The meeting focused on progress updates and milestone planning.')]\n"
          ]
        }
      ],
      "source": [
        "from langchain_core.prompts.chat import ChatPromptTemplate\n",
        "from langchain_openai.embeddings.base import OpenAIEmbeddings\n",
        "from langchain_chroma import Chroma\n",
        "\n",
        "# Initialize OpenAI embeddings\n",
        "embeddings = OpenAIEmbeddings()\n",
        "\n",
        "# Initialize the Vector DB\n",
        "chroma = Chroma(persist_directory=\"fewshot_chat\", embedding_function=embeddings)\n",
        "\n",
        "# Define examples for few-shot prompting\n",
        "examples = [\n",
        "    {\n",
        "        \"instruction\": \"Please summarize the following document\",\n",
        "        \"input\": \"This document discusses the importance of teamwork in corporate settings, emphasizing collaboration and communication.\",\n",
        "        \"answer\": \"Teamwork is essential in corporate settings, focusing on collaboration and communication.\",\n",
        "    },\n",
        "    {\n",
        "        \"instruction\": \"Please write the meeting minutes\",\n",
        "        \"input\": \"On December 26, 2023, the product development team held a weekly meeting. The meeting focused on progress updates and milestone planning.\",\n",
        "        \"answer\": \"Meeting minutes: Weekly meeting held on December 26, 2023. Focused on progress updates and milestone planning.\",\n",
        "    },\n",
        "]\n",
        "\n",
        "# Add examples to the vector store\n",
        "texts = [example[\"instruction\"] + \" \" + example[\"input\"] for example in examples]\n",
        "metadatas = examples\n",
        "chroma.add_texts(texts=texts, metadatas=metadatas)\n",
        "\n",
        "# Example query\n",
        "query = {\n",
        "    \"instruction\": \"Please write the meeting minutes\",\n",
        "    \"input\": \"On December 26, 2023, the product development team of ABC Technology Company held a weekly progress meeting for a new mobile application project. The meeting was attended by Project Manager Choi Hyun-soo, Lead Developer Hwang Ji-yeon, and UI/UX Designer Kim Tae-young. The main purpose of the meeting was to review the current progress of the project and establish plans for upcoming milestones. Each team member provided updates on their respective areas of work, and the team set goals for the next week.\",\n",
        "}\n",
        "\n",
        "# Perform similarity search\n",
        "query_text = query[\"instruction\"] + \" \" + query[\"input\"]\n",
        "results = chroma.similarity_search(query_text, k=1)\n",
        "print(results)"
      ]
    },
    {
      "cell_type": "code",
      "execution_count": 37,
      "id": "8073b916",
      "metadata": {},
      "outputs": [
        {
          "name": "stdout",
          "output_type": "stream",
          "text": [
            "Most similar example to the input:\n",
            "Please write the meeting minutes On December 26, 2023, the product development team of ABC Technology Company held a weekly progress meeting for a new mobile application project. The meeting was attended by Project Manager Choi Hyun-soo, Lead Developer Hwang Ji-yeon, and UI/UX Designer Kim Tae-young. The main purpose of the meeting was to review the current progress of the project and establish plans for upcoming milestones. Each team member provided updates on their respective areas of work, and the team set goals for the next week.\n",
            "\n",
            "Instruction:\n",
            "Please write the meeting minutes\n",
            "Input:\n",
            "On December 26, 2023, the product development team held a weekly meeting. The meeting focused on progress updates and milestone planning.\n",
            "Answer:\n",
            "Meeting minutes: Weekly meeting held on December 26, 2023. Focused on progress updates and milestone planning.\n"
          ]
        }
      ],
      "source": [
        "# Print the most similar example\n",
        "print(f\"Most similar example to the input:\\n{query_text}\\n\")\n",
        "for result in results:\n",
        "    print(f'Instruction:\\n{result.metadata[\"instruction\"]}')\n",
        "    print(f'Input:\\n{result.metadata[\"input\"]}')\n",
        "    print(f'Answer:\\n{result.metadata[\"answer\"]}')"
      ]
    },
    {
      "cell_type": "code",
      "execution_count": 38,
      "id": "77a31cdf",
      "metadata": {},
      "outputs": [
        {
          "name": "stdout",
          "output_type": "stream",
          "text": [
            "\n",
            "Filled Prompt:\n",
            "\n",
            "SystemMessage:\n",
            "You are a helpful assistant.\n",
            "\n",
            "HumanMessage:\n",
            "Please write the meeting minutes:\n",
            "On December 26, 2023, the product development team held a weekly meeting. The meeting focused on progress updates and milestone planning.\n",
            "\n",
            "AIMessage:\n",
            "Meeting minutes: Weekly meeting held on December 26, 2023. Focused on progress updates and milestone planning.\n",
            "\n"
          ]
        }
      ],
      "source": [
        "# Create the final prompt template\n",
        "final_prompt = ChatPromptTemplate.from_messages(\n",
        "    [\n",
        "        (\n",
        "            \"system\",\n",
        "            \"You are a helpful assistant.\",\n",
        "        ),\n",
        "        (\n",
        "            \"human\",\n",
        "            \"{instruction}:\\n{input}\",\n",
        "        ),\n",
        "    ]\n",
        ")\n",
        "\n",
        "# Combine the prompt and the best example\n",
        "best_example = results[0].metadata\n",
        "filled_prompt = final_prompt.format_messages(**best_example)\n",
        "\n",
        "# Print the filled prompt\n",
        "print(\"\\nFilled Prompt:\\n\")\n",
        "for message in filled_prompt:\n",
        "    # Determine message type and extract content\n",
        "    message_type = type(message).__name__  # e.g., SystemMessage, HumanMessage, AIMessage\n",
        "    content = message.content\n",
        "    print(f\"{message_type}:\\n{content}\\n\")"
      ]
    },
    {
      "cell_type": "markdown",
      "id": "2105cb92",
      "metadata": {},
      "source": [
        "### Resolving Similarity Search Issues in Example Selector\n",
        "\n",
        "When calculating similarity, both `instruction` and `input` are used. However, searching based only on `instruction` does not yield accurate similarity results.\n",
        "\n",
        "To resolve this, a custom class for similarity calculation is defined.\n",
        "\n",
        "Below is an example of incorrectly retrieved results.\n"
      ]
    },
    {
      "cell_type": "code",
      "execution_count": 39,
      "id": "5ec4266a",
      "metadata": {},
      "outputs": [
        {
          "name": "stdout",
          "output_type": "stream",
          "text": [
            "Most similar examples:\n",
            "Instruction: Please write the meeting minutes\n",
            "Input: On December 26, 2023, the product development team held a weekly meeting. The meeting focused on progress updates and milestone planning.\n",
            "Answer: Meeting minutes: Weekly meeting held on December 26, 2023. Focused on progress updates and milestone planning.\n"
          ]
        }
      ],
      "source": [
        "# Initialize example selector\n",
        "example_selector = chroma\n",
        "\n",
        "# Example question with only instruction\n",
        "question = {\n",
        "    \"instruction\": \"Please write the meeting minutes\",\n",
        "}\n",
        "\n",
        "# Select examples using similarity search\n",
        "query_text = question[\"instruction\"]\n",
        "results = example_selector.similarity_search(query_text, k=1)\n",
        "\n",
        "# Print the selected examples\n",
        "print(\"Most similar examples:\")\n",
        "for result in results:\n",
        "    print(f'Instruction: {result.metadata[\"instruction\"]}')\n",
        "    print(f'Input: {result.metadata[\"input\"]}')\n",
        "    print(f'Answer: {result.metadata[\"answer\"]}')"
      ]
    },
    {
      "cell_type": "code",
      "execution_count": 40,
      "id": "ae09686a",
      "metadata": {},
      "outputs": [
        {
          "name": "stdout",
          "output_type": "stream",
          "text": [
            "Most similar example:\n",
            "Instruction: Please write the meeting minutes\n",
            "Input: On December 26, 2023, the product development team held a weekly meeting. The meeting focused on progress updates and milestone planning.\n",
            "Answer: Meeting minutes: Weekly meeting held on December 26, 2023. Focused on progress updates and milestone planning.\n"
          ]
        }
      ],
      "source": [
        "# Example question with only instruction\n",
        "question = {\n",
        "    \"instruction\": \"Please write the meeting minutes\",\n",
        "}\n",
        "\n",
        "# Use similarity_search to find the most similar example\n",
        "query_text = question[\"instruction\"]\n",
        "results = chroma.similarity_search(query_text, k=1)\n",
        "\n",
        "# Print the selected example\n",
        "print(\"Most similar example:\")\n",
        "for result in results:\n",
        "    print(f'Instruction: {result.metadata[\"instruction\"]}')\n",
        "    print(f'Input: {result.metadata[\"input\"]}')\n",
        "    print(f'Answer: {result.metadata[\"answer\"]}')"
      ]
    },
    {
      "cell_type": "code",
      "execution_count": 41,
      "id": "22a6df91",
      "metadata": {},
      "outputs": [
        {
          "name": "stdout",
          "output_type": "stream",
          "text": [
            "Question:\n",
            "Please write the meeting minutes On December 26, 2023, the product development team of ABC Technology Company held a weekly progress meeting for a new mobile application project. The meeting was attended by Project Manager Choi Hyun-soo, Lead Developer Hwang Ji-yeon, and UI/UX Designer Kim Tae-young. The main purpose of the meeting was to review the current progress of the project and establish plans for upcoming milestones. Each team member provided updates on their respective areas of work, and the team set goals for the next week.\n",
            "\n",
            "Most similar example:\n",
            "Instruction: Please write the meeting minutes\n",
            "Input: On December 26, 2023, the product development team held a weekly meeting. The meeting focused on progress updates and milestone planning.\n",
            "Answer: Meeting minutes: Weekly meeting held on December 26, 2023. Focused on progress updates and milestone planning.\n",
            "\n",
            "---\n",
            "\n",
            "Question:\n",
            "Please summarize the document This document is a detailed 30-page report on 'Global Economic Outlook for 2023'. The report comprehensively covers the importance of sustainable urban development, current urbanization issues, and various strategies to make urban development sustainable. It also introduces successful sustainable urban development cases from multiple countries and summarizes the lessons learned from these cases.\n",
            "\n",
            "Most similar example:\n",
            "Instruction: Please summarize the following document\n",
            "Input: This document discusses the importance of teamwork in corporate settings, emphasizing collaboration and communication.\n",
            "Answer: Teamwork is essential in corporate settings, focusing on collaboration and communication.\n",
            "\n",
            "---\n",
            "\n",
            "Question:\n",
            "Please correct the following sentences The company expects revenue to increase this year. The new strategy is working well.\n",
            "\n",
            "Most similar example:\n",
            "Instruction: Please correct the following sentences\n",
            "Input: The company expects revenue to increase this year. The new strategy is working well.\n",
            "Answer: The company expects its revenue to increase this year as the new strategy is working well.\n",
            "\n",
            "---\n",
            "\n"
          ]
        }
      ],
      "source": [
        "from langchain_core.prompts.chat import ChatPromptTemplate\n",
        "from langchain_openai.embeddings.base import OpenAIEmbeddings\n",
        "from langchain_chroma import Chroma\n",
        "\n",
        "# Initialize OpenAI embeddings\n",
        "embeddings = OpenAIEmbeddings()\n",
        "\n",
        "# Initialize the Vector DB\n",
        "chroma = Chroma(persist_directory=\"fewshot_chat\", embedding_function=embeddings)\n",
        "\n",
        "# Define examples for few-shot prompting\n",
        "examples = [\n",
        "    {\n",
        "        \"instruction\": \"Please summarize the following document\",\n",
        "        \"input\": \"This document discusses the importance of teamwork in corporate settings, emphasizing collaboration and communication.\",\n",
        "        \"answer\": \"Teamwork is essential in corporate settings, focusing on collaboration and communication.\",\n",
        "    },\n",
        "    {\n",
        "        \"instruction\": \"Please write the meeting minutes\",\n",
        "        \"input\": \"On December 26, 2023, the product development team held a weekly meeting. The meeting focused on progress updates and milestone planning.\",\n",
        "        \"answer\": \"Meeting minutes: Weekly meeting held on December 26, 2023. Focused on progress updates and milestone planning.\",\n",
        "    },\n",
        "    {\n",
        "        \"instruction\": \"Please correct the following sentences\",\n",
        "        \"input\": \"The company expects revenue to increase this year. The new strategy is working well.\",\n",
        "        \"answer\": \"The company expects its revenue to increase this year as the new strategy is working well.\",\n",
        "    },\n",
        "]\n",
        "\n",
        "# Add examples to the vector store\n",
        "texts = [example[\"instruction\"] + \" \" + example[\"input\"] for example in examples]\n",
        "metadatas = examples\n",
        "chroma.add_texts(texts=texts, metadatas=metadatas)\n",
        "\n",
        "# Example question to test\n",
        "questions = [\n",
        "    {\n",
        "        \"instruction\": \"Please write the meeting minutes\",\n",
        "        \"input\": \"On December 26, 2023, the product development team of ABC Technology Company held a weekly progress meeting for a new mobile application project. The meeting was attended by Project Manager Choi Hyun-soo, Lead Developer Hwang Ji-yeon, and UI/UX Designer Kim Tae-young. The main purpose of the meeting was to review the current progress of the project and establish plans for upcoming milestones. Each team member provided updates on their respective areas of work, and the team set goals for the next week.\",\n",
        "    },\n",
        "    {\n",
        "        \"instruction\": \"Please summarize the document\",\n",
        "        \"input\": \"This document is a detailed 30-page report on 'Global Economic Outlook for 2023'. The report comprehensively covers the importance of sustainable urban development, current urbanization issues, and various strategies to make urban development sustainable. It also introduces successful sustainable urban development cases from multiple countries and summarizes the lessons learned from these cases.\",\n",
        "    },\n",
        "    {\n",
        "        \"instruction\": \"Please correct the following sentences\",\n",
        "        \"input\": \"The company expects revenue to increase this year. The new strategy is working well.\",\n",
        "    },\n",
        "]\n",
        "\n",
        "# Process each question and find the most similar example\n",
        "for question in questions:\n",
        "    query_text = question[\"instruction\"] + \" \" + question[\"input\"]\n",
        "    results = chroma.similarity_search(query_text, k=1)\n",
        "\n",
        "    print(f\"Question:\\n{query_text}\\n\")\n",
        "    print(\"Most similar example:\")\n",
        "    for result in results:\n",
        "        print(f'Instruction: {result.metadata[\"instruction\"]}')\n",
        "        print(f'Input: {result.metadata[\"input\"]}')\n",
        "        print(f'Answer: {result.metadata[\"answer\"]}')\n",
        "    print(\"\\n---\\n\")\n"
      ]
    },
    {
      "cell_type": "code",
      "execution_count": 42,
      "id": "ae689534",
      "metadata": {},
      "outputs": [
        {
          "name": "stdout",
          "output_type": "stream",
          "text": [
            "Most similar example:\n",
            "Instruction: Please summarize the following document\n",
            "Input: This document discusses the importance of teamwork in corporate settings, emphasizing collaboration and communication.\n",
            "Answer: Teamwork is essential in corporate settings, focusing on collaboration and communication.\n"
          ]
        }
      ],
      "source": [
        "# Example question with only instruction\n",
        "question = {\n",
        "    \"instruction\": \"Please summarize the following sentence\",\n",
        "}\n",
        "\n",
        "# Use similarity_search to find the most similar example\n",
        "query_text = question[\"instruction\"]\n",
        "results = chroma.similarity_search(query_text, k=1)\n",
        "\n",
        "# Print the selected example\n",
        "print(\"Most similar example:\")\n",
        "for result in results:\n",
        "    print(f'Instruction: {result.metadata[\"instruction\"]}')\n",
        "    print(f'Input: {result.metadata[\"input\"]}')\n",
        "    print(f'Answer: {result.metadata[\"answer\"]}')"
      ]
    },
    {
      "cell_type": "code",
      "execution_count": 43,
      "id": "a0ccde61",
      "metadata": {},
      "outputs": [
        {
          "name": "stdout",
          "output_type": "stream",
          "text": [
            "\n",
            "Final Prompt:\n",
            "\n",
            "You are a helpful assistant.\n",
            "\n",
            "Human: Please write the meeting minutes:\n",
            "On December 26, 2023, the product development team held a weekly meeting. The meeting focused on progress updates and milestone planning.\n",
            "AI: Meeting minutes: Weekly meeting held on December 26, 2023. Focused on progress updates and milestone planning.\n",
            "\n",
            "Human:\n",
            "Please write the meeting minutes:\n",
            "On December 26, 2023, the product development team of ABC Technology Company held a weekly progress meeting for a new mobile application project. The meeting was attended by Project Manager Choi Hyun-soo, Lead Developer Hwang Ji-yeon, and UI/UX Designer Kim Tae-young. The main purpose of the meeting was to review the current progress of the project and establish plans for upcoming milestones. Each team member provided updates on their respective areas of work, and the team set goals for the next week.\n",
            "AI:\n",
            "\n",
            "---\n",
            "\n",
            "\n",
            "Final Prompt:\n",
            "\n",
            "You are a helpful assistant.\n",
            "\n",
            "Human: Please summarize the following document:\n",
            "This document discusses the importance of teamwork in corporate settings, emphasizing collaboration and communication.\n",
            "AI: Teamwork is essential in corporate settings, focusing on collaboration and communication.\n",
            "\n",
            "Human:\n",
            "Please summarize the document:\n",
            "This document is a detailed 30-page report on 'Global Economic Outlook for 2023'. The report comprehensively covers the importance of sustainable urban development, current urbanization issues, and various strategies to make urban development sustainable. It also introduces successful sustainable urban development cases from multiple countries and summarizes the lessons learned from these cases.\n",
            "AI:\n",
            "\n",
            "---\n",
            "\n",
            "\n",
            "Final Prompt:\n",
            "\n",
            "You are a helpful assistant.\n",
            "\n",
            "Human: Please correct the following sentences:\n",
            "The company expects revenue to increase this year. The new strategy is working well.\n",
            "AI: The company expects its revenue to increase this year as the new strategy is working well.\n",
            "\n",
            "Human:\n",
            "Please correct the following sentences:\n",
            "The company expects revenue to increase this year. The new strategy is working well.\n",
            "AI:\n",
            "\n",
            "---\n",
            "\n"
          ]
        }
      ],
      "source": [
        "# Use Chroma for example selection\n",
        "def select_examples(query):\n",
        "    query_text = query[\"instruction\"] + \" \" + query.get(\"input\", \"\")\n",
        "    results = chroma.similarity_search(query_text, k=1)\n",
        "    return results\n",
        "\n",
        "\n",
        "# Example selector using Chroma\n",
        "def custom_selector(query):\n",
        "    results = select_examples(query)\n",
        "    selected_examples = [\n",
        "        {\n",
        "            \"instruction\": result.metadata[\"instruction\"],\n",
        "            \"input\": result.metadata[\"input\"],\n",
        "            \"answer\": result.metadata[\"answer\"],\n",
        "        }\n",
        "        for result in results\n",
        "    ]\n",
        "    return selected_examples\n",
        "\n",
        "\n",
        "# Define a new example prompt template with the custom selector\n",
        "example_prompt = ChatPromptTemplate.from_messages(\n",
        "    [\n",
        "        (\"human\", \"{instruction}:\\n{input}\"),\n",
        "        (\"ai\", \"{answer}\"),\n",
        "    ]\n",
        ")\n",
        "\n",
        "# Create a prompt template with selected examples\n",
        "def create_fewshot_prompt(query):\n",
        "    selected_examples = custom_selector(query)\n",
        "    fewshot_prompt = \"\"\n",
        "    for example in selected_examples:\n",
        "        fewshot_prompt += example_prompt.format(\n",
        "            instruction=example[\"instruction\"],\n",
        "            input=example[\"input\"],\n",
        "            answer=example[\"answer\"],\n",
        "        )\n",
        "    return fewshot_prompt\n",
        "\n",
        "# Create the final prompt for the chain\n",
        "def create_final_prompt(query):\n",
        "    fewshot_prompt = create_fewshot_prompt(query)\n",
        "    final_prompt = (\n",
        "        \"You are a helpful assistant.\\n\\n\" + fewshot_prompt + \"\\n\\n\"\n",
        "        f\"Human:\\n{query['instruction']}:\\n{query['input']}\\nAI:\"\n",
        "    )\n",
        "    return final_prompt\n",
        "\n",
        "# Example questions\n",
        "questions = [\n",
        "    {\n",
        "        \"instruction\": \"Please write the meeting minutes\",\n",
        "        \"input\": \"On December 26, 2023, the product development team of ABC Technology Company held a weekly progress meeting for a new mobile application project. The meeting was attended by Project Manager Choi Hyun-soo, Lead Developer Hwang Ji-yeon, and UI/UX Designer Kim Tae-young. The main purpose of the meeting was to review the current progress of the project and establish plans for upcoming milestones. Each team member provided updates on their respective areas of work, and the team set goals for the next week.\",\n",
        "    },\n",
        "    {\n",
        "        \"instruction\": \"Please summarize the document\",\n",
        "        \"input\": \"This document is a detailed 30-page report on 'Global Economic Outlook for 2023'. The report comprehensively covers the importance of sustainable urban development, current urbanization issues, and various strategies to make urban development sustainable. It also introduces successful sustainable urban development cases from multiple countries and summarizes the lessons learned from these cases.\",\n",
        "    },\n",
        "    {\n",
        "        \"instruction\": \"Please correct the following sentences\",\n",
        "        \"input\": \"The company expects revenue to increase this year. The new strategy is working well.\",\n",
        "    },\n",
        "]\n",
        "\n",
        "# Process each question and print the responses\n",
        "for question in questions:\n",
        "    final_prompt = create_final_prompt(question)\n",
        "    print(\"\\nFinal Prompt:\\n\")\n",
        "    print(final_prompt)\n",
        "    print(\"\\n---\\n\")"
      ]
    }
  ],
  "metadata": {
    "kernelspec": {
      "display_name": "langchain-kr-ARohChI8-py3.11",
      "language": "python",
      "name": "python3"
    },
    "language_info": {
      "codemirror_mode": {
        "name": "ipython",
        "version": 3
      },
      "file_extension": ".py",
      "mimetype": "text/x-python",
      "name": "python",
      "nbconvert_exporter": "python",
      "pygments_lexer": "ipython3",
      "version": "3.10.11"
    }
  },
  "nbformat": 4,
  "nbformat_minor": 5
}
