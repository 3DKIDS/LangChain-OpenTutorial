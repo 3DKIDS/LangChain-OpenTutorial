{
 "cells": [
  {
   "cell_type": "markdown",
   "id": "8b209cf5",
   "metadata": {},
   "source": [
    "# PandasDataFrameOutputParser\n",
    "\n",
    "- Author: [Jiwon Kim](https://github.com/brian604)\n",
    "- Design: []()\n",
    "- Peer Review: []()\n",
    "- This is a part of [LangChain Open Tutorial](https://github.com/LangChain-OpenTutorial/LangChain-OpenTutorial)\n",
    "\n",
    "[![Open in Colab](https://colab.research.google.com/assets/colab-badge.svg)](https://colab.research.google.com/github/langchain-ai/langchain-academy/blob/main/module-4/sub-graph.ipynb) [![Open in LangChain Academy](https://cdn.prod.website-files.com/65b8cd72835ceeacd4449a53/66e9eba12c7b7688aa3dbb5e_LCA-badge-green.svg)](https://academy.langchain.com/courses/take/intro-to-langgraph/lessons/58239937-lesson-2-sub-graphs)\n",
    "\n",
    "\n",
    "## Overview\n",
    "\n",
    "This tutorial handles how LLM output could be controlled as `pd.DataFrame` format.   \n",
    "\n",
    "Pandas is a package, useful in a format of table (i.e. tabular data), widely used by data scientist. It will help you explore, clean, and process the data.\n",
    "\n",
    "To learn more about `pd.DataFrame` and its capabilities, visit one of Pandas official tutorial, \n",
    "[10 minutes to pandas](https://pandas.pydata.org/docs/user_guide/10min.html).\n",
    "\n",
    "`PandasDataFrameOutputParser` parses an output using Pandas DataFrame format, according to the [official API doc](https://python.langchain.com/api_reference/langchain/output_parsers/langchain.output_parsers.pandas_dataframe.PandasDataFrameOutputParser.html)\n",
    "- This can be utilized both as forming of structured output to LLM query in a string and as a forming of structured input for LLM query\n",
    "    - As an output, you can further look at the usage of pydantic in [01-PydanticOutputParser](https://github.com/LangChain-OpenTutorial/LangChain-OpenTutorial/blob/main/03-OutputParser/01-PydanticOutputParser.ipynb) and elsewhere in this learning guide.\n",
    "    - As an input, `pd.DataFrame` dataset can be utilized, to make LLM interact with the data    \n",
    "\n",
    "**Objective of this tutorial**\n",
    "\n",
    "- Know where `PandasDataFrameOutputParser` is used to interact with `pd.DataFrame`\n",
    "\n",
    "**Data Acqusition**\n",
    "- Access to [figshare.com](https://figshare.com) where you can discover the outputs of the academic research from csv to pdfs.\n",
    "\n",
    "### Table of Contents\n",
    "\n",
    "- [Overview](#overview)\n",
    "- [Environement Setup](#environment-setup)\n",
    "- [When input is `pd.DataFrame` or file](#when-input-is-pd.DataFrame-or-file)\n",
    "    - [Example of looking up a value for a column](#example-of-looking-up-a-value-for-a-column)\n",
    "    - [Example of a row lookup](#example-of-a-row-lookup)\n",
    "    - [Further Operations on Column](#further-operations-on-column)\n",
    "\n",
    "### References\n",
    "\n",
    "- [PandasDataFrameOutputParser Official API](https://python.langchain.com/api_reference/langchain/output_parsers/langchain.output_parsers.pandas_dataframe.PandasDataFrameOutputParser.html)\n",
    "- [10 minutes to pandas](https://pandas.pydata.org/docs/user_guide/10min.html)    \n",
    "\n",
    "Internal Reference\n",
    "- [01-PydanticOutputParser](https://github.com/LangChain-OpenTutorial/LangChain-OpenTutorial/blob/main/03-OutputParser/01-PydanticOutputParser.ipynb)"
   ]
  },
  {
   "cell_type": "markdown",
   "id": "049104e9",
   "metadata": {},
   "source": [
    "## Environment Setup\n",
    "\n",
    "Set up the environment. You may refer to [Environment Setup](https://wikidocs.net/257836) for more details.\n",
    "\n",
    "**[Note]**\n",
    "- `langchain-opentutorial` is a package that provides a set of easy-to-use environment setup, useful functions and utilities for tutorials. \n",
    "- You can checkout the [`langchain-opentutorial`](https://github.com/LangChain-OpenTutorial/langchain-opentutorial-pypi) for more details."
   ]
  },
  {
   "cell_type": "code",
   "execution_count": 1,
   "id": "459b9cb1",
   "metadata": {},
   "outputs": [],
   "source": [
    "%%capture --no-stderr\n",
    "!pip install langchain-opentutorial"
   ]
  },
  {
   "cell_type": "code",
   "execution_count": 2,
   "id": "937f3ea6",
   "metadata": {},
   "outputs": [
    {
     "name": "stderr",
     "output_type": "stream",
     "text": [
      "\u001b[31mERROR: Could not find a version that satisfies the requirement pprint (from versions: none)\u001b[0m\u001b[31m\n",
      "\u001b[0m\u001b[31mERROR: No matching distribution found for pprint\u001b[0m\u001b[31m\n",
      "\u001b[0m"
     ]
    }
   ],
   "source": [
    "# Install required packages\n",
    "from langchain_opentutorial import package\n",
    "\n",
    "package.install(\n",
    "    [\n",
    "        \"pprint\",  # Need installation\n",
    "        \"typing\",  # Need installation\n",
    "        \"os\",\n",
    "        \"pandas\",\n",
    "        \"langchain\",\n",
    "        \"langchain_core\",\n",
    "        \"langchain_community\",\n",
    "        \"langchain_openai\",\n",
    "    ],\n",
    "    verbose=False,\n",
    "    upgrade=False,\n",
    ")"
   ]
  },
  {
   "cell_type": "code",
   "execution_count": 3,
   "id": "30e24eda",
   "metadata": {},
   "outputs": [
    {
     "name": "stdout",
     "output_type": "stream",
     "text": [
      "Environment variables have been set successfully.\n"
     ]
    }
   ],
   "source": [
    "# Set environment variables\n",
    "from langchain_opentutorial import set_env\n",
    "\n",
    "set_env(\n",
    "    {\n",
    "        \"OPENAI_API_KEY\": \"\",\n",
    "        \"LANGCHAIN_API_KEY\": \"\",\n",
    "        \"LANGCHAIN_TRACING_V2\": \"true\",\n",
    "        \"LANGCHAIN_ENDPOINT\": \"https://api.smith.langchain.com\",\n",
    "        \"LANGCHAIN_PROJECT\": \"PandasDataFrameOutputParser\",\n",
    "    }\n",
    ")"
   ]
  },
  {
   "cell_type": "markdown",
   "id": "786a4a7a",
   "metadata": {},
   "source": [
    "You can alternatively set API keys such as `OPENAI_API_KEY` in a `.env` file and load them.\n",
    "\n",
    "[Note] This is not necessary if you've already set the required API keys in previous steps."
   ]
  },
  {
   "cell_type": "code",
   "execution_count": 4,
   "id": "89ddab6a",
   "metadata": {},
   "outputs": [
    {
     "data": {
      "text/plain": [
       "True"
      ]
     },
     "execution_count": 4,
     "metadata": {},
     "output_type": "execute_result"
    }
   ],
   "source": [
    "# Load API keys from .env file\n",
    "from dotenv import load_dotenv\n",
    "\n",
    "load_dotenv(\n",
    "    override=True, dotenv_path=\"../.env\"\n",
    ")  # override to my own in one-upper mother path"
   ]
  },
  {
   "cell_type": "code",
   "execution_count": 4,
   "id": "6c6d4c70",
   "metadata": {},
   "outputs": [
    {
     "name": "stdout",
     "output_type": "stream",
     "text": [
      "PandasDataFrameOutputParser project has been tracked at langsmith endpoint\n"
     ]
    }
   ],
   "source": [
    "import pprint\n",
    "from typing import Any, Dict\n",
    "import os\n",
    "import pandas as pd\n",
    "from langchain.output_parsers import PandasDataFrameOutputParser\n",
    "from langchain_core.prompts import PromptTemplate\n",
    "from langchain_openai import ChatOpenAI\n",
    "\n",
    "print(\n",
    "    f'{os.environ[\"LANGCHAIN_PROJECT\"]} project has been tracked at langsmith endpoint'\n",
    ")"
   ]
  },
  {
   "cell_type": "code",
   "execution_count": 5,
   "id": "8a500317",
   "metadata": {},
   "outputs": [],
   "source": [
    "# Initiate Langchain OpenAI model (recommend using gpt-4o-mini)\n",
    "# model = ChatOpenAI(temperature=0, model_name=\"gpt-4o-mini\")"
   ]
  },
  {
   "cell_type": "markdown",
   "id": "1a0ba0b8",
   "metadata": {},
   "source": [
    "## When input is `pd.DataFrame` or file."
   ]
  },
  {
   "cell_type": "markdown",
   "id": "38a9f23d",
   "metadata": {},
   "source": [
    "The `format_parser_output` function is used to convert parser output to dictionary format and format the output."
   ]
  },
  {
   "cell_type": "code",
   "execution_count": 6,
   "id": "d3dadcb4",
   "metadata": {},
   "outputs": [],
   "source": [
    "# Purpose: Only to print. It is a helper function.\n",
    "def format_parser_output(parser_output: Dict[str, Any]) -> None:\n",
    "    length_val = len(list(parser_output.values()))\n",
    "    if length_val == 1 and isinstance(parser_output.values, (int, float)):\n",
    "        return {\"result\": parser_output}\n",
    "        # Iterate around the \"keys\" of parser output (dict)\n",
    "    else:\n",
    "        for key in parser_output.keys():\n",
    "            parser_output[key] = parser_output[key].to_dict()\n",
    "            # Pretty Print\n",
    "            return pprint.PrettyPrinter(width=4, compact=True).pprint(parser_output)"
   ]
  },
  {
   "cell_type": "markdown",
   "id": "f2dca1ed",
   "metadata": {},
   "source": [
    "- Since \"typical\" `titanic.csv` data that had been brought up multiple times in such tutorials, it is boring \n",
    "- Let's get from [figshare.com](figshare.com)\n",
    "    - Data Link\n",
    "        - Permanent: [Air-Traffic-Passenger-Statistics-csv.csv](https://doi.org/10.6084/m9.figshare.24781905.v1)\n",
    "        - Website: [Air-Traffic-Passenger-Statistics-csv.csv](https://figshare.com/articles/dataset/Air-Traffic-Passenger-Statistics-csv_csv/24781905?file=43579620)\n"
   ]
  },
  {
   "cell_type": "code",
   "execution_count": 9,
   "id": "f4228af1",
   "metadata": {},
   "outputs": [
    {
     "data": {
      "text/html": [
       "<div>\n",
       "<style scoped>\n",
       "    .dataframe tbody tr th:only-of-type {\n",
       "        vertical-align: middle;\n",
       "    }\n",
       "\n",
       "    .dataframe tbody tr th {\n",
       "        vertical-align: top;\n",
       "    }\n",
       "\n",
       "    .dataframe thead th {\n",
       "        text-align: right;\n",
       "    }\n",
       "</style>\n",
       "<table border=\"1\" class=\"dataframe\">\n",
       "  <thead>\n",
       "    <tr style=\"text-align: right;\">\n",
       "      <th></th>\n",
       "      <th>Activity Period</th>\n",
       "      <th>Activity Period Start Date</th>\n",
       "      <th>Operating Airline</th>\n",
       "      <th>Operating Airline IATA Code</th>\n",
       "      <th>Published Airline</th>\n",
       "      <th>Published Airline IATA Code</th>\n",
       "      <th>GEO Summary</th>\n",
       "      <th>GEO Region</th>\n",
       "      <th>Activity Type Code</th>\n",
       "      <th>Price Category Code</th>\n",
       "      <th>Terminal</th>\n",
       "      <th>Boarding Area</th>\n",
       "      <th>Passenger Count</th>\n",
       "      <th>data_as_of</th>\n",
       "      <th>data_loaded_at</th>\n",
       "    </tr>\n",
       "  </thead>\n",
       "  <tbody>\n",
       "    <tr>\n",
       "      <th>0</th>\n",
       "      <td>199907</td>\n",
       "      <td>1999/07/01</td>\n",
       "      <td>ATA Airlines</td>\n",
       "      <td>TZ</td>\n",
       "      <td>ATA Airlines</td>\n",
       "      <td>TZ</td>\n",
       "      <td>Domestic</td>\n",
       "      <td>US</td>\n",
       "      <td>Deplaned</td>\n",
       "      <td>Low Fare</td>\n",
       "      <td>Terminal 1</td>\n",
       "      <td>B</td>\n",
       "      <td>31432</td>\n",
       "      <td>2023/11/20 07:01:34 AM</td>\n",
       "      <td>2023/11/20 07:02:25 AM</td>\n",
       "    </tr>\n",
       "    <tr>\n",
       "      <th>1</th>\n",
       "      <td>199907</td>\n",
       "      <td>1999/07/01</td>\n",
       "      <td>ATA Airlines</td>\n",
       "      <td>TZ</td>\n",
       "      <td>ATA Airlines</td>\n",
       "      <td>TZ</td>\n",
       "      <td>Domestic</td>\n",
       "      <td>US</td>\n",
       "      <td>Enplaned</td>\n",
       "      <td>Low Fare</td>\n",
       "      <td>Terminal 1</td>\n",
       "      <td>B</td>\n",
       "      <td>31353</td>\n",
       "      <td>2023/11/20 07:01:34 AM</td>\n",
       "      <td>2023/11/20 07:02:25 AM</td>\n",
       "    </tr>\n",
       "    <tr>\n",
       "      <th>2</th>\n",
       "      <td>199907</td>\n",
       "      <td>1999/07/01</td>\n",
       "      <td>ATA Airlines</td>\n",
       "      <td>TZ</td>\n",
       "      <td>ATA Airlines</td>\n",
       "      <td>TZ</td>\n",
       "      <td>Domestic</td>\n",
       "      <td>US</td>\n",
       "      <td>Thru / Transit</td>\n",
       "      <td>Low Fare</td>\n",
       "      <td>Terminal 1</td>\n",
       "      <td>B</td>\n",
       "      <td>2518</td>\n",
       "      <td>2023/11/20 07:01:34 AM</td>\n",
       "      <td>2023/11/20 07:02:25 AM</td>\n",
       "    </tr>\n",
       "    <tr>\n",
       "      <th>3</th>\n",
       "      <td>199907</td>\n",
       "      <td>1999/07/01</td>\n",
       "      <td>Aeroflot Russian International Airlines</td>\n",
       "      <td>NaN</td>\n",
       "      <td>Aeroflot Russian International Airlines</td>\n",
       "      <td>NaN</td>\n",
       "      <td>International</td>\n",
       "      <td>Europe</td>\n",
       "      <td>Deplaned</td>\n",
       "      <td>Other</td>\n",
       "      <td>Terminal 2</td>\n",
       "      <td>D</td>\n",
       "      <td>1324</td>\n",
       "      <td>2023/11/20 07:01:34 AM</td>\n",
       "      <td>2023/11/20 07:02:25 AM</td>\n",
       "    </tr>\n",
       "    <tr>\n",
       "      <th>4</th>\n",
       "      <td>199907</td>\n",
       "      <td>1999/07/01</td>\n",
       "      <td>Aeroflot Russian International Airlines</td>\n",
       "      <td>NaN</td>\n",
       "      <td>Aeroflot Russian International Airlines</td>\n",
       "      <td>NaN</td>\n",
       "      <td>International</td>\n",
       "      <td>Europe</td>\n",
       "      <td>Enplaned</td>\n",
       "      <td>Other</td>\n",
       "      <td>Terminal 2</td>\n",
       "      <td>D</td>\n",
       "      <td>1198</td>\n",
       "      <td>2023/11/20 07:01:34 AM</td>\n",
       "      <td>2023/11/20 07:02:25 AM</td>\n",
       "    </tr>\n",
       "  </tbody>\n",
       "</table>\n",
       "</div>"
      ],
      "text/plain": [
       "   Activity Period Activity Period Start Date  \\\n",
       "0           199907                 1999/07/01   \n",
       "1           199907                 1999/07/01   \n",
       "2           199907                 1999/07/01   \n",
       "3           199907                 1999/07/01   \n",
       "4           199907                 1999/07/01   \n",
       "\n",
       "                         Operating Airline Operating Airline IATA Code  \\\n",
       "0                             ATA Airlines                          TZ   \n",
       "1                             ATA Airlines                          TZ   \n",
       "2                             ATA Airlines                          TZ   \n",
       "3  Aeroflot Russian International Airlines                         NaN   \n",
       "4  Aeroflot Russian International Airlines                         NaN   \n",
       "\n",
       "                         Published Airline Published Airline IATA Code  \\\n",
       "0                             ATA Airlines                          TZ   \n",
       "1                             ATA Airlines                          TZ   \n",
       "2                             ATA Airlines                          TZ   \n",
       "3  Aeroflot Russian International Airlines                         NaN   \n",
       "4  Aeroflot Russian International Airlines                         NaN   \n",
       "\n",
       "     GEO Summary GEO Region Activity Type Code Price Category Code  \\\n",
       "0       Domestic         US           Deplaned            Low Fare   \n",
       "1       Domestic         US           Enplaned            Low Fare   \n",
       "2       Domestic         US     Thru / Transit            Low Fare   \n",
       "3  International     Europe           Deplaned               Other   \n",
       "4  International     Europe           Enplaned               Other   \n",
       "\n",
       "     Terminal Boarding Area  Passenger Count              data_as_of  \\\n",
       "0  Terminal 1             B            31432  2023/11/20 07:01:34 AM   \n",
       "1  Terminal 1             B            31353  2023/11/20 07:01:34 AM   \n",
       "2  Terminal 1             B             2518  2023/11/20 07:01:34 AM   \n",
       "3  Terminal 2             D             1324  2023/11/20 07:01:34 AM   \n",
       "4  Terminal 2             D             1198  2023/11/20 07:01:34 AM   \n",
       "\n",
       "           data_loaded_at  \n",
       "0  2023/11/20 07:02:25 AM  \n",
       "1  2023/11/20 07:02:25 AM  \n",
       "2  2023/11/20 07:02:25 AM  \n",
       "3  2023/11/20 07:02:25 AM  \n",
       "4  2023/11/20 07:02:25 AM  "
      ]
     },
     "execution_count": 9,
     "metadata": {},
     "output_type": "execute_result"
    }
   ],
   "source": [
    "# Define dataframe\n",
    "df = pd.read_csv(\"./data/Air-Traffic-Passenger-Statistics-csv.csv\")\n",
    "df.head()"
   ]
  },
  {
   "cell_type": "code",
   "execution_count": 10,
   "id": "45f2ade2",
   "metadata": {},
   "outputs": [
    {
     "data": {
      "text/plain": [
       "Index(['Activity Period', 'Activity Period Start Date', 'Operating Airline',\n",
       "       'Operating Airline IATA Code', 'Published Airline',\n",
       "       'Published Airline IATA Code', 'GEO Summary', 'GEO Region',\n",
       "       'Activity Type Code', 'Price Category Code', 'Terminal',\n",
       "       'Boarding Area', 'Passenger Count', 'data_as_of', 'data_loaded_at'],\n",
       "      dtype='object')"
      ]
     },
     "execution_count": 10,
     "metadata": {},
     "output_type": "execute_result"
    }
   ],
   "source": [
    "df.columns"
   ]
  },
  {
   "cell_type": "code",
   "execution_count": 11,
   "id": "106f387c",
   "metadata": {},
   "outputs": [],
   "source": [
    "df.columns = df.columns.str.strip().str.replace('\"', \"\").str.replace(\"'\", \"\")"
   ]
  },
  {
   "cell_type": "code",
   "execution_count": 12,
   "id": "436f7dea",
   "metadata": {},
   "outputs": [
    {
     "name": "stdout",
     "output_type": "stream",
     "text": [
      "The output should be formatted as a string as the operation, followed by a colon, followed by the column or row to be queried on, followed by optional array parameters.\n",
      "1. The column names are limited to the possible columns below.\n",
      "2. Arrays must either be a comma-separated list of numbers formatted as [1,3,5], or it must be in range of numbers formatted as [0..4].\n",
      "3. Remember that arrays are optional and not necessarily required.\n",
      "4. If the column is not in the possible columns or the operation is not a valid Pandas DataFrame operation, return why it is invalid as a sentence starting with either \"Invalid column\" or \"Invalid operation\".\n",
      "\n",
      "As an example, for the formats:\n",
      "1. String \"column:num_legs\" is a well-formatted instance which gets the column num_legs, where num_legs is a possible column.\n",
      "2. String \"row:1\" is a well-formatted instance which gets row 1.\n",
      "3. String \"column:num_legs[1,2]\" is a well-formatted instance which gets the column num_legs for rows 1 and 2, where num_legs is a possible column.\n",
      "4. String \"row:1[num_legs]\" is a well-formatted instance which gets row 1, but for just column num_legs, where num_legs is a possible column.\n",
      "5. String \"mean:num_legs[1..3]\" is a well-formatted instance which takes the mean of num_legs from rows 1 to 3, where num_legs is a possible column and mean is a valid Pandas DataFrame operation.\n",
      "6. String \"do_something:num_legs\" is a badly-formatted instance, where do_something is not a valid Pandas DataFrame operation.\n",
      "7. String \"mean:invalid_col\" is a badly-formatted instance, where invalid_col is not a possible column.\n",
      "\n",
      "Here are the possible columns:\n",
      "```\n",
      "Activity Period, Activity Period Start Date, Operating Airline, Operating Airline IATA Code, Published Airline, Published Airline IATA Code, GEO Summary, GEO Region, Activity Type Code, Price Category Code, Terminal, Boarding Area, Passenger Count, data_as_of, data_loaded_at\n",
      "```\n",
      "\n"
     ]
    }
   ],
   "source": [
    "# Set up a parser and inject instructions into the prompt template.\n",
    "parser = PandasDataFrameOutputParser(dataframe=df)\n",
    "\n",
    "# Print the parser's instructions.\n",
    "print(parser.get_format_instructions())"
   ]
  },
  {
   "cell_type": "markdown",
   "id": "bd2699de",
   "metadata": {},
   "source": [
    "### Example of looking up a value for a column."
   ]
  },
  {
   "cell_type": "code",
   "execution_count": 13,
   "id": "32937773",
   "metadata": {},
   "outputs": [
    {
     "name": "stdout",
     "output_type": "stream",
     "text": [
      "0        US\n",
      "1        US\n",
      "2        US\n",
      "3    Europe\n",
      "4    Europe\n",
      "Name: GEO Region, dtype: object\n"
     ]
    }
   ],
   "source": [
    "print(df[\"GEO Region\"].head())"
   ]
  },
  {
   "cell_type": "code",
   "execution_count": 14,
   "id": "1a5742c6",
   "metadata": {},
   "outputs": [
    {
     "data": {
      "text/plain": [
       "'GEO Region'"
      ]
     },
     "execution_count": 14,
     "metadata": {},
     "output_type": "execute_result"
    }
   ],
   "source": [
    "df.columns[7]"
   ]
  },
  {
   "cell_type": "code",
   "execution_count": 15,
   "id": "42688b23",
   "metadata": {},
   "outputs": [
    {
     "name": "stdout",
     "output_type": "stream",
     "text": [
      "{'GEO Region': 0        US\n",
      "1        US\n",
      "2        US\n",
      "3    Europe\n",
      "4    Europe\n",
      "Name: GEO Region, dtype: object}\n",
      "----\n",
      "----\n",
      "{'GEO Region': {0: 'US',\n",
      "                1: 'US',\n",
      "                2: 'US',\n",
      "                3: 'Europe',\n",
      "                4: 'Europe'}}\n"
     ]
    }
   ],
   "source": [
    "# Example of working with columns.\n",
    "\n",
    "df_query = \"column:GEO Region[0..4]\"  # Replace with your intended query\n",
    "output = parser.parse(df_query)\n",
    "print(output)\n",
    "print(\"----\")\n",
    "print(\"----\")\n",
    "format_parser_output(output)"
   ]
  },
  {
   "cell_type": "markdown",
   "id": "d4dd6636",
   "metadata": {},
   "source": [
    "### Example of a row lookup."
   ]
  },
  {
   "cell_type": "code",
   "execution_count": 16,
   "id": "867ced38",
   "metadata": {},
   "outputs": [
    {
     "name": "stdout",
     "output_type": "stream",
     "text": [
      "{'1': {'Activity Period': 199907,\n",
      "       'Activity Period Start Date': '1999/07/01',\n",
      "       'Activity Type Code': 'Enplaned',\n",
      "       'Boarding Area': 'B',\n",
      "       'GEO Region': 'US',\n",
      "       'GEO Summary': 'Domestic',\n",
      "       'Operating Airline': 'ATA '\n",
      "                            'Airlines',\n",
      "       'Operating Airline IATA Code': 'TZ',\n",
      "       'Passenger Count': 31353,\n",
      "       'Price Category Code': 'Low '\n",
      "                              'Fare',\n",
      "       'Published Airline': 'ATA '\n",
      "                            'Airlines',\n",
      "       'Published Airline IATA Code': 'TZ',\n",
      "       'Terminal': 'Terminal '\n",
      "                   '1',\n",
      "       'data_as_of': '2023/11/20 '\n",
      "                     '07:01:34 '\n",
      "                     'AM',\n",
      "       'data_loaded_at': '2023/11/20 '\n",
      "                         '07:02:25 '\n",
      "                         'AM'}}\n"
     ]
    }
   ],
   "source": [
    "# Example of retrieving first row\n",
    "df_query = \"row:1\"\n",
    "\n",
    "# Row lookup\n",
    "output = parser.parse(df_query)\n",
    "format_parser_output(output)"
   ]
  },
  {
   "cell_type": "markdown",
   "id": "a936bdcd",
   "metadata": {},
   "source": [
    "### Further Operations on Column"
   ]
  },
  {
   "cell_type": "code",
   "execution_count": 17,
   "id": "279e5c3c",
   "metadata": {},
   "outputs": [
    {
     "data": {
      "text/plain": [
       "0    31432\n",
       "1    31353\n",
       "2     2518\n",
       "3     1324\n",
       "4     1198\n",
       "Name: Passenger Count, dtype: int64"
      ]
     },
     "execution_count": 17,
     "metadata": {},
     "output_type": "execute_result"
    }
   ],
   "source": [
    "df[\"Passenger Count\"].head(5)"
   ]
  },
  {
   "cell_type": "code",
   "execution_count": 18,
   "id": "e479306f",
   "metadata": {},
   "outputs": [
    {
     "data": {
      "text/plain": [
       "13565.0"
      ]
     },
     "execution_count": 18,
     "metadata": {},
     "output_type": "execute_result"
    }
   ],
   "source": [
    "# Average passenger counts from 5 first rows\n",
    "df[\"Passenger Count\"].head(5).mean()"
   ]
  },
  {
   "cell_type": "code",
   "execution_count": 19,
   "id": "a26883b4",
   "metadata": {},
   "outputs": [
    {
     "name": "stdout",
     "output_type": "stream",
     "text": [
      "{'mean': 13565.0}\n"
     ]
    }
   ],
   "source": [
    "# Querying the same operation as above\n",
    "df_query = \"mean:Passenger Count[0..4]\"\n",
    "\n",
    "output = parser.parse(df_query)\n",
    "print(output)"
   ]
  },
  {
   "cell_type": "markdown",
   "id": "62e97f39",
   "metadata": {},
   "source": [
    "Next Example is using `value_counts()`"
   ]
  },
  {
   "cell_type": "code",
   "execution_count": 20,
   "id": "743b51ef",
   "metadata": {},
   "outputs": [
    {
     "data": {
      "text/html": [
       "<div>\n",
       "<style scoped>\n",
       "    .dataframe tbody tr th:only-of-type {\n",
       "        vertical-align: middle;\n",
       "    }\n",
       "\n",
       "    .dataframe tbody tr th {\n",
       "        vertical-align: top;\n",
       "    }\n",
       "\n",
       "    .dataframe thead th {\n",
       "        text-align: right;\n",
       "    }\n",
       "</style>\n",
       "<table border=\"1\" class=\"dataframe\">\n",
       "  <thead>\n",
       "    <tr style=\"text-align: right;\">\n",
       "      <th></th>\n",
       "      <th>Activity Period</th>\n",
       "      <th>Activity Period Start Date</th>\n",
       "      <th>Operating Airline</th>\n",
       "      <th>Operating Airline IATA Code</th>\n",
       "      <th>Published Airline</th>\n",
       "      <th>Published Airline IATA Code</th>\n",
       "      <th>GEO Summary</th>\n",
       "      <th>GEO Region</th>\n",
       "      <th>Activity Type Code</th>\n",
       "      <th>Price Category Code</th>\n",
       "      <th>Terminal</th>\n",
       "      <th>Boarding Area</th>\n",
       "      <th>Passenger Count</th>\n",
       "      <th>data_as_of</th>\n",
       "      <th>data_loaded_at</th>\n",
       "    </tr>\n",
       "  </thead>\n",
       "  <tbody>\n",
       "    <tr>\n",
       "      <th>0</th>\n",
       "      <td>199907</td>\n",
       "      <td>1999/07/01</td>\n",
       "      <td>ATA Airlines</td>\n",
       "      <td>TZ</td>\n",
       "      <td>ATA Airlines</td>\n",
       "      <td>TZ</td>\n",
       "      <td>Domestic</td>\n",
       "      <td>US</td>\n",
       "      <td>Deplaned</td>\n",
       "      <td>Low Fare</td>\n",
       "      <td>Terminal 1</td>\n",
       "      <td>B</td>\n",
       "      <td>31432</td>\n",
       "      <td>2023/11/20 07:01:34 AM</td>\n",
       "      <td>2023/11/20 07:02:25 AM</td>\n",
       "    </tr>\n",
       "    <tr>\n",
       "      <th>1</th>\n",
       "      <td>199907</td>\n",
       "      <td>1999/07/01</td>\n",
       "      <td>ATA Airlines</td>\n",
       "      <td>TZ</td>\n",
       "      <td>ATA Airlines</td>\n",
       "      <td>TZ</td>\n",
       "      <td>Domestic</td>\n",
       "      <td>US</td>\n",
       "      <td>Enplaned</td>\n",
       "      <td>Low Fare</td>\n",
       "      <td>Terminal 1</td>\n",
       "      <td>B</td>\n",
       "      <td>31353</td>\n",
       "      <td>2023/11/20 07:01:34 AM</td>\n",
       "      <td>2023/11/20 07:02:25 AM</td>\n",
       "    </tr>\n",
       "    <tr>\n",
       "      <th>2</th>\n",
       "      <td>199907</td>\n",
       "      <td>1999/07/01</td>\n",
       "      <td>ATA Airlines</td>\n",
       "      <td>TZ</td>\n",
       "      <td>ATA Airlines</td>\n",
       "      <td>TZ</td>\n",
       "      <td>Domestic</td>\n",
       "      <td>US</td>\n",
       "      <td>Thru / Transit</td>\n",
       "      <td>Low Fare</td>\n",
       "      <td>Terminal 1</td>\n",
       "      <td>B</td>\n",
       "      <td>2518</td>\n",
       "      <td>2023/11/20 07:01:34 AM</td>\n",
       "      <td>2023/11/20 07:02:25 AM</td>\n",
       "    </tr>\n",
       "    <tr>\n",
       "      <th>3</th>\n",
       "      <td>199907</td>\n",
       "      <td>1999/07/01</td>\n",
       "      <td>Aeroflot Russian International Airlines</td>\n",
       "      <td>NaN</td>\n",
       "      <td>Aeroflot Russian International Airlines</td>\n",
       "      <td>NaN</td>\n",
       "      <td>International</td>\n",
       "      <td>Europe</td>\n",
       "      <td>Deplaned</td>\n",
       "      <td>Other</td>\n",
       "      <td>Terminal 2</td>\n",
       "      <td>D</td>\n",
       "      <td>1324</td>\n",
       "      <td>2023/11/20 07:01:34 AM</td>\n",
       "      <td>2023/11/20 07:02:25 AM</td>\n",
       "    </tr>\n",
       "    <tr>\n",
       "      <th>4</th>\n",
       "      <td>199907</td>\n",
       "      <td>1999/07/01</td>\n",
       "      <td>Aeroflot Russian International Airlines</td>\n",
       "      <td>NaN</td>\n",
       "      <td>Aeroflot Russian International Airlines</td>\n",
       "      <td>NaN</td>\n",
       "      <td>International</td>\n",
       "      <td>Europe</td>\n",
       "      <td>Enplaned</td>\n",
       "      <td>Other</td>\n",
       "      <td>Terminal 2</td>\n",
       "      <td>D</td>\n",
       "      <td>1198</td>\n",
       "      <td>2023/11/20 07:01:34 AM</td>\n",
       "      <td>2023/11/20 07:02:25 AM</td>\n",
       "    </tr>\n",
       "  </tbody>\n",
       "</table>\n",
       "</div>"
      ],
      "text/plain": [
       "   Activity Period Activity Period Start Date  \\\n",
       "0           199907                 1999/07/01   \n",
       "1           199907                 1999/07/01   \n",
       "2           199907                 1999/07/01   \n",
       "3           199907                 1999/07/01   \n",
       "4           199907                 1999/07/01   \n",
       "\n",
       "                         Operating Airline Operating Airline IATA Code  \\\n",
       "0                             ATA Airlines                          TZ   \n",
       "1                             ATA Airlines                          TZ   \n",
       "2                             ATA Airlines                          TZ   \n",
       "3  Aeroflot Russian International Airlines                         NaN   \n",
       "4  Aeroflot Russian International Airlines                         NaN   \n",
       "\n",
       "                         Published Airline Published Airline IATA Code  \\\n",
       "0                             ATA Airlines                          TZ   \n",
       "1                             ATA Airlines                          TZ   \n",
       "2                             ATA Airlines                          TZ   \n",
       "3  Aeroflot Russian International Airlines                         NaN   \n",
       "4  Aeroflot Russian International Airlines                         NaN   \n",
       "\n",
       "     GEO Summary GEO Region Activity Type Code Price Category Code  \\\n",
       "0       Domestic         US           Deplaned            Low Fare   \n",
       "1       Domestic         US           Enplaned            Low Fare   \n",
       "2       Domestic         US     Thru / Transit            Low Fare   \n",
       "3  International     Europe           Deplaned               Other   \n",
       "4  International     Europe           Enplaned               Other   \n",
       "\n",
       "     Terminal Boarding Area  Passenger Count              data_as_of  \\\n",
       "0  Terminal 1             B            31432  2023/11/20 07:01:34 AM   \n",
       "1  Terminal 1             B            31353  2023/11/20 07:01:34 AM   \n",
       "2  Terminal 1             B             2518  2023/11/20 07:01:34 AM   \n",
       "3  Terminal 2             D             1324  2023/11/20 07:01:34 AM   \n",
       "4  Terminal 2             D             1198  2023/11/20 07:01:34 AM   \n",
       "\n",
       "           data_loaded_at  \n",
       "0  2023/11/20 07:02:25 AM  \n",
       "1  2023/11/20 07:02:25 AM  \n",
       "2  2023/11/20 07:02:25 AM  \n",
       "3  2023/11/20 07:02:25 AM  \n",
       "4  2023/11/20 07:02:25 AM  "
      ]
     },
     "execution_count": 20,
     "metadata": {},
     "output_type": "execute_result"
    }
   ],
   "source": [
    "df.head()"
   ]
  },
  {
   "cell_type": "code",
   "execution_count": 21,
   "id": "68a97d89",
   "metadata": {},
   "outputs": [
    {
     "ename": "OutputParserException",
     "evalue": "Request 'Calculate value_counts for `GEO` Region.' is not correctly formatted.                     Please refer to the format instructions.\nFor troubleshooting, visit: https://python.langchain.com/docs/troubleshooting/errors/OUTPUT_PARSING_FAILURE ",
     "output_type": "error",
     "traceback": [
      "\u001b[0;31m---------------------------------------------------------------------------\u001b[0m",
      "\u001b[0;31mOutputParserException\u001b[0m                     Traceback (most recent call last)",
      "Cell \u001b[0;32mIn[21], line 5\u001b[0m\n\u001b[1;32m      2\u001b[0m df_query \u001b[38;5;241m=\u001b[39m \u001b[38;5;124m\"\u001b[39m\u001b[38;5;124mCalculate value_counts for `GEO` Region.\u001b[39m\u001b[38;5;124m\"\u001b[39m\n\u001b[1;32m      4\u001b[0m \u001b[38;5;66;03m# Parse out the query\u001b[39;00m\n\u001b[0;32m----> 5\u001b[0m output \u001b[38;5;241m=\u001b[39m \u001b[43mparser\u001b[49m\u001b[38;5;241;43m.\u001b[39;49m\u001b[43mparse\u001b[49m\u001b[43m(\u001b[49m\u001b[43mdf_query\u001b[49m\u001b[43m)\u001b[49m\n\u001b[1;32m      7\u001b[0m \u001b[38;5;66;03m# Print out result\u001b[39;00m\n\u001b[1;32m      8\u001b[0m \u001b[38;5;28mprint\u001b[39m(output)\n",
      "File \u001b[0;32m~/Library/Caches/pypoetry/virtualenvs/langchain-opentutorial-BdlRz0c_-py3.11/lib/python3.11/site-packages/langchain/output_parsers/pandas_dataframe.py:85\u001b[0m, in \u001b[0;36mPandasDataFrameOutputParser.parse\u001b[0;34m(self, request)\u001b[0m\n\u001b[1;32m     83\u001b[0m splitted_request \u001b[38;5;241m=\u001b[39m request\u001b[38;5;241m.\u001b[39mstrip()\u001b[38;5;241m.\u001b[39msplit(\u001b[38;5;124m\"\u001b[39m\u001b[38;5;124m:\u001b[39m\u001b[38;5;124m\"\u001b[39m)\n\u001b[1;32m     84\u001b[0m \u001b[38;5;28;01mif\u001b[39;00m \u001b[38;5;28mlen\u001b[39m(splitted_request) \u001b[38;5;241m!=\u001b[39m \u001b[38;5;241m2\u001b[39m:\n\u001b[0;32m---> 85\u001b[0m     \u001b[38;5;28;01mraise\u001b[39;00m OutputParserException(\n\u001b[1;32m     86\u001b[0m         \u001b[38;5;124mf\u001b[39m\u001b[38;5;124m\"\u001b[39m\u001b[38;5;124mRequest \u001b[39m\u001b[38;5;124m'\u001b[39m\u001b[38;5;132;01m{\u001b[39;00mrequest\u001b[38;5;132;01m}\u001b[39;00m\u001b[38;5;124m'\u001b[39m\u001b[38;5;124m is not correctly formatted. \u001b[39m\u001b[38;5;130;01m\\\u001b[39;00m\n\u001b[1;32m     87\u001b[0m \u001b[38;5;124m            Please refer to the format instructions.\u001b[39m\u001b[38;5;124m\"\u001b[39m\n\u001b[1;32m     88\u001b[0m     )\n\u001b[1;32m     89\u001b[0m result \u001b[38;5;241m=\u001b[39m {}\n\u001b[1;32m     90\u001b[0m \u001b[38;5;28;01mtry\u001b[39;00m:\n",
      "\u001b[0;31mOutputParserException\u001b[0m: Request 'Calculate value_counts for `GEO` Region.' is not correctly formatted.                     Please refer to the format instructions.\nFor troubleshooting, visit: https://python.langchain.com/docs/troubleshooting/errors/OUTPUT_PARSING_FAILURE "
     ]
    }
   ],
   "source": [
    "# Wrongly formatted query\n",
    "df_query = \"Calculate value_counts for `GEO` Region.\"\n",
    "\n",
    "# Parse out the query\n",
    "output = parser.parse(df_query)\n",
    "\n",
    "# Print out result\n",
    "print(output)"
   ]
  },
  {
   "cell_type": "code",
   "execution_count": 22,
   "id": "313e6992",
   "metadata": {},
   "outputs": [
    {
     "name": "stdout",
     "output_type": "stream",
     "text": [
      "{'value_counts': Operating Airline\n",
      "United Airlines - Pre 07/01/2013    3670\n",
      "United Airlines                     3368\n",
      "SkyWest Airlines                    2028\n",
      "Alaska Airlines                     1790\n",
      "Delta Air Lines                      772\n",
      "                                    ... \n",
      "Pacific Aviation                       2\n",
      "Casino Express                         1\n",
      "Boeing Company                         1\n",
      "Samsic Airport America, LLC            1\n",
      "Harmony Airways                        1\n",
      "Name: count, Length: 134, dtype: int64}\n"
     ]
    }
   ],
   "source": [
    "# Well formatted query\n",
    "df_query = \"value_counts:Operating Airline\"\n",
    "\n",
    "# Parse out the query\n",
    "output = parser.parse(df_query)\n",
    "\n",
    "# Print out result\n",
    "print(output)"
   ]
  },
  {
   "cell_type": "code",
   "execution_count": 23,
   "id": "d7dd2f2b",
   "metadata": {},
   "outputs": [
    {
     "data": {
      "text/plain": [
       "Operating Airline\n",
       "United Airlines - Pre 07/01/2013    3670\n",
       "United Airlines                     3368\n",
       "SkyWest Airlines                    2028\n",
       "Alaska Airlines                     1790\n",
       "Delta Air Lines                      772\n",
       "                                    ... \n",
       "Pacific Aviation                       2\n",
       "Casino Express                         1\n",
       "Boeing Company                         1\n",
       "Samsic Airport America, LLC            1\n",
       "Harmony Airways                        1\n",
       "Name: count, Length: 134, dtype: int64"
      ]
     },
     "execution_count": 23,
     "metadata": {},
     "output_type": "execute_result"
    }
   ],
   "source": [
    "# Confirmed with the results\n",
    "df[\"Operating Airline\"].value_counts()"
   ]
  },
  {
   "cell_type": "markdown",
   "id": "794832dd",
   "metadata": {},
   "source": [
    "- Reflections \n",
    "    - Did not use the model"
   ]
  }
 ],
 "metadata": {
  "kernelspec": {
   "display_name": "langchain-opentutorial-BdlRz0c_-py3.11",
   "language": "python",
   "name": "python3"
  },
  "language_info": {
   "codemirror_mode": {
    "name": "ipython",
    "version": 3
   },
   "file_extension": ".py",
   "mimetype": "text/x-python",
   "name": "python",
   "nbconvert_exporter": "python",
   "pygments_lexer": "ipython3",
   "version": "3.11.11"
  }
 },
 "nbformat": 4,
 "nbformat_minor": 5
}
