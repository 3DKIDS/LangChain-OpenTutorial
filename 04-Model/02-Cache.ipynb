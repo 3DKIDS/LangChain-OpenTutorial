{
 "cells": [
  {
   "cell_type": "markdown",
   "metadata": {},
   "source": [
    "# Caching\n",
    "\n",
    "- Author: [Joseph](https://github.com/XaviereKU)\n",
    "- This is a part of [LangChain Open Tutorial](https://github.com/LangChain-OpenTutorial/LangChain-OpenTutorial)\n",
    "\n",
    "[![Open in Colab](https://colab.research.google.com/assets/colab-badge.svg)](https://colab.research.google.com/github/langchain-ai/langchain-academy/blob/main/module-4/sub-graph.ipynb) [![Open in LangChain Academy](https://cdn.prod.website-files.com/65b8cd72835ceeacd4449a53/66e9eba12c7b7688aa3dbb5e_LCA-badge-green.svg)](https://academy.langchain.com/courses/take/intro-to-langgraph/lessons/58239937-lesson-2-sub-graphs)\n",
    "\n",
    "## Overview\n",
    "\n",
    "`LangChain` provides optional caching layer for LLMs.\n",
    "\n",
    "This is useful for two reasons:\n",
    "- When requesting the same completions multiple times, it can **reduce the number of API calls** to the LLM provider and thus save costs.\n",
    "- By **reduing the number of API calls** to the LLM provider, it can **improve the running time of the application.**\n",
    "\n",
    "In this tutorial, we will use gpt-3.5-turbo OpenAI API and utilize two kinds of cache, **InMemoryCache** and **SQLite Cache** .  \n",
    "At end of each section we will compare wall times between before and after caching.\n",
    "\n",
    "Optionally, we will use local LLM served with VLLM.\n",
    "\n",
    "### Table of Contents\n",
    "\n",
    "- [Overview](#overview)\n",
    "- [Environement Setup](#environment-setup)\n",
    "- [InMemoryCache](#in-memory-cache)\n",
    "- [SQlite Cache](#sqlite-cache)\n",
    "- [(Optional) With local model](#optional-with-local-model)\n",
    "- [(Optional) InMemoryCache + Local LLM](#optional-inmemorycache--local-llm)\n",
    "- [(Optional) SQLite Cache + Local LLM](#optional-sqlite-cache--local-llm)\n",
    "----"
   ]
  },
  {
   "cell_type": "markdown",
   "metadata": {},
   "source": [
    "## Environment Setup\n",
    "\n",
    "Set up the environment. You may refer to [Environment Setup](https://wikidocs.net/257836) for more details.\n",
    "\n",
    "**[Note]**\n",
    "- `langchain-opentutorial` is a package that provides a set of easy-to-use environment setup, useful functions and utilities for tutorials. \n",
    "- You can checkout the [`langchain-opentutorial`](https://github.com/LangChain-OpenTutorial/langchain-opentutorial-pypi) for more details."
   ]
  },
  {
   "cell_type": "code",
   "execution_count": 1,
   "metadata": {},
   "outputs": [],
   "source": [
    "%%capture --no-stderr\n",
    "!pip install langchain-opentutorial"
   ]
  },
  {
   "cell_type": "code",
   "execution_count": 2,
   "metadata": {},
   "outputs": [],
   "source": [
    "# Install required packages\n",
    "from langchain_opentutorial import package\n",
    "\n",
    "package.install(\n",
    "    [\n",
    "        \"langsmith\",\n",
    "        \"langchain\",\n",
    "        \"langchain_core\",\n",
    "        \"langchain-anthropic\",\n",
    "        \"langchain_community\",\n",
    "        \"langchain_text_splitters\",\n",
    "        \"langchain_openai\",\n",
    "        # \"vllm\", # this is for optional section\n",
    "    ],\n",
    "    verbose=False,\n",
    "    upgrade=False,\n",
    ")"
   ]
  },
  {
   "cell_type": "code",
   "execution_count": 3,
   "metadata": {},
   "outputs": [
    {
     "name": "stdout",
     "output_type": "stream",
     "text": [
      "Environment variables have been set successfully.\n"
     ]
    }
   ],
   "source": [
    "# Set environment variables\n",
    "from langchain_opentutorial import set_env\n",
    "\n",
    "set_env(\n",
    "    {\n",
    "        \"OPENAI_API_KEY\": \"Your API KEY\",\n",
    "        \"LANGCHAIN_API_KEY\": \"\",\n",
    "        \"LANGCHAIN_TRACING_V2\": \"true\",\n",
    "        \"LANGCHAIN_ENDPOINT\": \"https://api.smith.langchain.com\",\n",
    "        \"LANGCHAIN_PROJECT\": \"Caching\",\n",
    "    }\n",
    ")"
   ]
  },
  {
   "cell_type": "code",
   "execution_count": null,
   "metadata": {},
   "outputs": [
    {
     "data": {
      "text/plain": [
       "False"
      ]
     },
     "execution_count": 4,
     "metadata": {},
     "output_type": "execute_result"
    }
   ],
   "source": [
    "# Alternatively, one can set environmental variables with load_dotenv\n",
    "from dotenv import load_dotenv\n",
    "\n",
    "\n",
    "\n",
    "load_dotenv()"
   ]
  },
  {
   "cell_type": "code",
   "execution_count": 6,
   "metadata": {},
   "outputs": [],
   "source": [
    "from langchain_openai import ChatOpenAI\n",
    "from langchain_core.prompts import PromptTemplate\n",
    "\n",
    "# Create model\n",
    "llm = ChatOpenAI(model_name=\"gpt-3.5-turbo\")\n",
    "\n",
    "# Generate prompt\n",
    "prompt = PromptTemplate.from_template(\n",
    "    \"Sumarize about the {country} in about 200 characters\"\n",
    ")\n",
    "\n",
    "# Create chain\n",
    "chain = prompt | llm"
   ]
  },
  {
   "cell_type": "code",
   "execution_count": 7,
   "metadata": {},
   "outputs": [
    {
     "name": "stderr",
     "output_type": "stream",
     "text": [
      "c:\\Users\\harry\\AppData\\Local\\pypoetry\\Cache\\virtualenvs\\langchain-opentutorial-6kFp1u2S-py3.11\\Lib\\site-packages\\langsmith\\client.py:256: LangSmithMissingAPIKeyWarning: API key must be provided when using hosted LangSmith API\n",
      "  warnings.warn(\n",
      "Failed to multipart ingest runs: langsmith.utils.LangSmithAuthError: Authentication failed for https://api.smith.langchain.com/runs/multipart. HTTPError('401 Client Error: Unauthorized for url: https://api.smith.langchain.com/runs/multipart', '{\"detail\":\"Invalid token\"}')trace=70f8b79c-2576-4959-8387-7bb865d0d251,id=70f8b79c-2576-4959-8387-7bb865d0d251; trace=70f8b79c-2576-4959-8387-7bb865d0d251,id=65861779-ce78-4325-9650-9f3351d71323; trace=70f8b79c-2576-4959-8387-7bb865d0d251,id=b6724e0d-c4ae-4fa4-9470-a942d4969426\n"
     ]
    },
    {
     "name": "stdout",
     "output_type": "stream",
     "text": [
      "South Korea is a highly developed country in East Asia known for its advanced technology, vibrant culture, and booming economy. It is home to major tech companies like Samsung and LG, and boasts a rich history and stunning natural landscapes.\n",
      "CPU times: total: 109 ms\n",
      "Wall time: 1.01 s\n"
     ]
    },
    {
     "name": "stderr",
     "output_type": "stream",
     "text": [
      "Failed to multipart ingest runs: langsmith.utils.LangSmithAuthError: Authentication failed for https://api.smith.langchain.com/runs/multipart. HTTPError('401 Client Error: Unauthorized for url: https://api.smith.langchain.com/runs/multipart', '{\"detail\":\"Invalid token\"}')trace=70f8b79c-2576-4959-8387-7bb865d0d251,id=70f8b79c-2576-4959-8387-7bb865d0d251; trace=70f8b79c-2576-4959-8387-7bb865d0d251,id=b6724e0d-c4ae-4fa4-9470-a942d4969426\n",
      "Failed to multipart ingest runs: langsmith.utils.LangSmithAuthError: Authentication failed for https://api.smith.langchain.com/runs/multipart. HTTPError('401 Client Error: Unauthorized for url: https://api.smith.langchain.com/runs/multipart', '{\"detail\":\"Invalid token\"}')trace=b5b95852-b438-4dd0-991a-44933b7478dc,id=b5b95852-b438-4dd0-991a-44933b7478dc; trace=b5b95852-b438-4dd0-991a-44933b7478dc,id=528f3e22-1dc2-43b2-ac5b-e833398fff8e; trace=b5b95852-b438-4dd0-991a-44933b7478dc,id=f65f6a12-9817-48c2-9ad2-4caf13ac71a0\n",
      "Failed to multipart ingest runs: langsmith.utils.LangSmithAuthError: Authentication failed for https://api.smith.langchain.com/runs/multipart. HTTPError('401 Client Error: Unauthorized for url: https://api.smith.langchain.com/runs/multipart', '{\"detail\":\"Invalid token\"}')trace=b5b95852-b438-4dd0-991a-44933b7478dc,id=b5b95852-b438-4dd0-991a-44933b7478dc; trace=b5b95852-b438-4dd0-991a-44933b7478dc,id=f65f6a12-9817-48c2-9ad2-4caf13ac71a0\n",
      "Failed to multipart ingest runs: langsmith.utils.LangSmithAuthError: Authentication failed for https://api.smith.langchain.com/runs/multipart. HTTPError('401 Client Error: Unauthorized for url: https://api.smith.langchain.com/runs/multipart', '{\"detail\":\"Invalid token\"}')trace=9aef1528-6d41-4b42-9d03-a86c51d4e2ce,id=9aef1528-6d41-4b42-9d03-a86c51d4e2ce; trace=9aef1528-6d41-4b42-9d03-a86c51d4e2ce,id=d0def9a2-e99d-4aa1-9942-93900ce4eeb6; trace=9aef1528-6d41-4b42-9d03-a86c51d4e2ce,id=ebe4c0f6-7fad-4c6a-abaa-44bd83928558\n",
      "Failed to multipart ingest runs: langsmith.utils.LangSmithAuthError: Authentication failed for https://api.smith.langchain.com/runs/multipart. HTTPError('401 Client Error: Unauthorized for url: https://api.smith.langchain.com/runs/multipart', '{\"detail\":\"Invalid token\"}')trace=7dd7ae09-9309-4318-870f-f1e06cfd1447,id=7dd7ae09-9309-4318-870f-f1e06cfd1447; trace=7dd7ae09-9309-4318-870f-f1e06cfd1447,id=ba0bea18-452c-4e88-b601-8374a15c7823; trace=7dd7ae09-9309-4318-870f-f1e06cfd1447,id=3f5fc872-4a05-47c3-9e22-53a1f24ca6af\n",
      "Failed to multipart ingest runs: langsmith.utils.LangSmithAuthError: Authentication failed for https://api.smith.langchain.com/runs/multipart. HTTPError('401 Client Error: Unauthorized for url: https://api.smith.langchain.com/runs/multipart', '{\"detail\":\"Invalid token\"}')trace=7dd7ae09-9309-4318-870f-f1e06cfd1447,id=7dd7ae09-9309-4318-870f-f1e06cfd1447; trace=7dd7ae09-9309-4318-870f-f1e06cfd1447,id=3f5fc872-4a05-47c3-9e22-53a1f24ca6af\n",
      "Failed to multipart ingest runs: langsmith.utils.LangSmithAuthError: Authentication failed for https://api.smith.langchain.com/runs/multipart. HTTPError('401 Client Error: Unauthorized for url: https://api.smith.langchain.com/runs/multipart', '{\"detail\":\"Invalid token\"}')trace=e3755103-2eb0-46aa-9779-e5caacfbd481,id=e3755103-2eb0-46aa-9779-e5caacfbd481; trace=e3755103-2eb0-46aa-9779-e5caacfbd481,id=661f96e0-d8ce-4992-9407-df18e135d56f; trace=e3755103-2eb0-46aa-9779-e5caacfbd481,id=c946d3c2-ca02-4ddd-a6f9-2c2532b0eeb6\n",
      "Failed to multipart ingest runs: langsmith.utils.LangSmithAuthError: Authentication failed for https://api.smith.langchain.com/runs/multipart. HTTPError('401 Client Error: Unauthorized for url: https://api.smith.langchain.com/runs/multipart', '{\"detail\":\"Invalid token\"}')trace=e3755103-2eb0-46aa-9779-e5caacfbd481,id=e3755103-2eb0-46aa-9779-e5caacfbd481; trace=e3755103-2eb0-46aa-9779-e5caacfbd481,id=c946d3c2-ca02-4ddd-a6f9-2c2532b0eeb6\n",
      "Failed to multipart ingest runs: langsmith.utils.LangSmithAuthError: Authentication failed for https://api.smith.langchain.com/runs/multipart. HTTPError('401 Client Error: Unauthorized for url: https://api.smith.langchain.com/runs/multipart', '{\"detail\":\"Invalid token\"}')trace=c8a15006-6726-42ad-a30a-724a2971e702,id=c8a15006-6726-42ad-a30a-724a2971e702; trace=c8a15006-6726-42ad-a30a-724a2971e702,id=e2d7884e-a349-4863-ace6-c1ce03435b13; trace=c8a15006-6726-42ad-a30a-724a2971e702,id=547c5dad-206a-4e91-822d-862ffdeeeffc\n",
      "Failed to multipart ingest runs: langsmith.utils.LangSmithAuthError: Authentication failed for https://api.smith.langchain.com/runs/multipart. HTTPError('401 Client Error: Unauthorized for url: https://api.smith.langchain.com/runs/multipart', '{\"detail\":\"Invalid token\"}')trace=c8a15006-6726-42ad-a30a-724a2971e702,id=c8a15006-6726-42ad-a30a-724a2971e702; trace=c8a15006-6726-42ad-a30a-724a2971e702,id=547c5dad-206a-4e91-822d-862ffdeeeffc\n",
      "Failed to multipart ingest runs: langsmith.utils.LangSmithAuthError: Authentication failed for https://api.smith.langchain.com/runs/multipart. HTTPError('401 Client Error: Unauthorized for url: https://api.smith.langchain.com/runs/multipart', '{\"detail\":\"Invalid token\"}')trace=bc48930b-5e52-4fd8-9ee4-4d4a0758a8d9,id=bc48930b-5e52-4fd8-9ee4-4d4a0758a8d9; trace=bc48930b-5e52-4fd8-9ee4-4d4a0758a8d9,id=20f60390-a5c6-4dad-9e9d-0b432df110c3; trace=bc48930b-5e52-4fd8-9ee4-4d4a0758a8d9,id=b9b063d4-78d6-40d5-867f-d1470a083f03\n",
      "Failed to multipart ingest runs: langsmith.utils.LangSmithAuthError: Authentication failed for https://api.smith.langchain.com/runs/multipart. HTTPError('401 Client Error: Unauthorized for url: https://api.smith.langchain.com/runs/multipart', '{\"detail\":\"Invalid token\"}')trace=ba8267c5-118f-4898-b8e8-e2898ef94c75,id=ba8267c5-118f-4898-b8e8-e2898ef94c75; trace=ba8267c5-118f-4898-b8e8-e2898ef94c75,id=2a8a543f-71c8-4181-841f-9111be3a1106; trace=ba8267c5-118f-4898-b8e8-e2898ef94c75,id=3890f0c0-5660-4279-a604-cef45baa484b\n",
      "Failed to multipart ingest runs: langsmith.utils.LangSmithAuthError: Authentication failed for https://api.smith.langchain.com/runs/multipart. HTTPError('401 Client Error: Unauthorized for url: https://api.smith.langchain.com/runs/multipart', '{\"detail\":\"Invalid token\"}')trace=ba8267c5-118f-4898-b8e8-e2898ef94c75,id=3890f0c0-5660-4279-a604-cef45baa484b; trace=ba8267c5-118f-4898-b8e8-e2898ef94c75,id=ba8267c5-118f-4898-b8e8-e2898ef94c75\n",
      "Failed to multipart ingest runs: langsmith.utils.LangSmithAuthError: Authentication failed for https://api.smith.langchain.com/runs/multipart. HTTPError('401 Client Error: Unauthorized for url: https://api.smith.langchain.com/runs/multipart', '{\"detail\":\"Invalid token\"}')trace=efd5b10b-3363-4b72-a8ec-8921bb330d77,id=efd5b10b-3363-4b72-a8ec-8921bb330d77; trace=efd5b10b-3363-4b72-a8ec-8921bb330d77,id=bd2ae355-752f-4d55-9590-2421da30317a\n",
      "Failed to multipart ingest runs: langsmith.utils.LangSmithAuthError: Authentication failed for https://api.smith.langchain.com/runs/multipart. HTTPError('401 Client Error: Unauthorized for url: https://api.smith.langchain.com/runs/multipart', '{\"detail\":\"Invalid token\"}')trace=b918cce6-46ac-4fc5-a279-15301dbd2a14,id=b918cce6-46ac-4fc5-a279-15301dbd2a14; trace=b918cce6-46ac-4fc5-a279-15301dbd2a14,id=0f000201-40d0-4660-b8db-4891643448f6; trace=b918cce6-46ac-4fc5-a279-15301dbd2a14,id=3e5e3758-60d7-4705-bbcf-b6a48bb32315\n",
      "Failed to multipart ingest runs: langsmith.utils.LangSmithAuthError: Authentication failed for https://api.smith.langchain.com/runs/multipart. HTTPError('401 Client Error: Unauthorized for url: https://api.smith.langchain.com/runs/multipart', '{\"detail\":\"Invalid token\"}')trace=b918cce6-46ac-4fc5-a279-15301dbd2a14,id=3e5e3758-60d7-4705-bbcf-b6a48bb32315; trace=b918cce6-46ac-4fc5-a279-15301dbd2a14,id=b918cce6-46ac-4fc5-a279-15301dbd2a14\n",
      "Failed to multipart ingest runs: langsmith.utils.LangSmithAuthError: Authentication failed for https://api.smith.langchain.com/runs/multipart. HTTPError('401 Client Error: Unauthorized for url: https://api.smith.langchain.com/runs/multipart', '{\"detail\":\"Invalid token\"}')trace=80325615-aae8-48f1-afcc-bd5001ba690c,id=80325615-aae8-48f1-afcc-bd5001ba690c; trace=80325615-aae8-48f1-afcc-bd5001ba690c,id=f1455d0f-3dfe-4ad0-a6a7-6889c9c0f312\n"
     ]
    }
   ],
   "source": [
    "%%time\n",
    "# Invoke chain\n",
    "response = chain.invoke({\"country\": \"South Korea\"})\n",
    "print(response.content)"
   ]
  },
  {
   "cell_type": "markdown",
   "metadata": {},
   "source": [
    "## InMemoryCache\n",
    "First, cache the answer to the same question using InMemoryCache."
   ]
  },
  {
   "cell_type": "code",
   "execution_count": 8,
   "metadata": {},
   "outputs": [],
   "source": [
    "from langchain.globals import set_llm_cache\n",
    "from langchain.cache import InMemoryCache\n",
    "\n",
    "# Set InMemoryCache\n",
    "set_llm_cache(InMemoryCache())"
   ]
  },
  {
   "cell_type": "code",
   "execution_count": 9,
   "metadata": {},
   "outputs": [
    {
     "name": "stdout",
     "output_type": "stream",
     "text": [
      "South Korea, located in East Asia, is known for its advanced technology, dynamic culture, and booming economy. It is home to K-pop, kimchi, and beautiful landscapes. The country has a rich history, delicious cuisine, and a strong emphasis on education.\n",
      "CPU times: total: 15.6 ms\n",
      "Wall time: 950 ms\n"
     ]
    }
   ],
   "source": [
    "%%time\n",
    "# Invoke chain\n",
    "response = chain.invoke({\"country\": \"South Korea\"})\n",
    "print(response.content)"
   ]
  },
  {
   "cell_type": "markdown",
   "metadata": {},
   "source": [
    "Now we invoke the chain with the same question."
   ]
  },
  {
   "cell_type": "code",
   "execution_count": 10,
   "metadata": {},
   "outputs": [
    {
     "name": "stdout",
     "output_type": "stream",
     "text": [
      "South Korea, located in East Asia, is known for its advanced technology, dynamic culture, and booming economy. It is home to K-pop, kimchi, and beautiful landscapes. The country has a rich history, delicious cuisine, and a strong emphasis on education.\n",
      "CPU times: total: 0 ns\n",
      "Wall time: 3.15 ms\n"
     ]
    }
   ],
   "source": [
    "%%time\n",
    "# Invoke chain\n",
    "response = chain.invoke({\"country\": \"South Korea\"})\n",
    "print(response.content)"
   ]
  },
  {
   "cell_type": "markdown",
   "metadata": {},
   "source": [
    "Note that if we set InMemoryCache again, the cache will be lost and the wall time will increase"
   ]
  },
  {
   "cell_type": "code",
   "execution_count": 11,
   "metadata": {},
   "outputs": [],
   "source": [
    "set_llm_cache(InMemoryCache())"
   ]
  },
  {
   "cell_type": "code",
   "execution_count": 12,
   "metadata": {},
   "outputs": [
    {
     "name": "stdout",
     "output_type": "stream",
     "text": [
      "South Korea is a vibrant and modern country in East Asia known for its technological advancements, rich cultural heritage, and delicious cuisine. It is home to bustling cities like Seoul, beautiful natural landscapes, and a strong economy driven by industries such as technology, automotive, and entertainment.\n",
      "CPU times: total: 0 ns\n",
      "Wall time: 988 ms\n"
     ]
    }
   ],
   "source": [
    "%%time\n",
    "# Invoke chain\n",
    "response = chain.invoke({\"country\": \"South Korea\"})\n",
    "print(response.content)"
   ]
  },
  {
   "cell_type": "markdown",
   "metadata": {},
   "source": [
    "## SQLite Cache\n",
    "Now, we cache the answer to the same question by using SQLite cache."
   ]
  },
  {
   "cell_type": "code",
   "execution_count": 13,
   "metadata": {},
   "outputs": [],
   "source": [
    "from langchain_community.cache import SQLiteCache\n",
    "from langchain_core.globals import set_llm_cache\n",
    "import os\n",
    "\n",
    "# Create cache directory\n",
    "if not os.path.exists(\"cache\"):\n",
    "    os.makedirs(\"cache\")\n",
    "\n",
    "# Set SQLiteCache\n",
    "set_llm_cache(SQLiteCache(database_path=\"cache/llm_cache.db\"))"
   ]
  },
  {
   "cell_type": "code",
   "execution_count": 14,
   "metadata": {},
   "outputs": [
    {
     "name": "stdout",
     "output_type": "stream",
     "text": [
      "South Korea is a technologically advanced country in East Asia known for its booming economy, vibrant culture, and delicious cuisine. It is home to global companies like Samsung and Hyundai, as well as historical sites like Gyeongbokgung Palace and the DMZ. The country has a rich history and is a popular destination for tourists seeking a mix of traditional and modern experiences.\n",
      "CPU times: total: 15.6 ms\n",
      "Wall time: 1.12 s\n"
     ]
    }
   ],
   "source": [
    "%%time\n",
    "# Invoke chain\n",
    "response = chain.invoke({\"country\": \"South Korea\"})\n",
    "print(response.content)"
   ]
  },
  {
   "cell_type": "markdown",
   "metadata": {},
   "source": [
    "Now we invoke the chain with the same question."
   ]
  },
  {
   "cell_type": "code",
   "execution_count": 15,
   "metadata": {},
   "outputs": [
    {
     "name": "stdout",
     "output_type": "stream",
     "text": [
      "South Korea is a technologically advanced country in East Asia known for its booming economy, vibrant culture, and delicious cuisine. It is home to global companies like Samsung and Hyundai, as well as historical sites like Gyeongbokgung Palace and the DMZ. The country has a rich history and is a popular destination for tourists seeking a mix of traditional and modern experiences.\n",
      "CPU times: total: 391 ms\n",
      "Wall time: 398 ms\n"
     ]
    }
   ],
   "source": [
    "%%time\n",
    "# Invoke chain\n",
    "response = chain.invoke({\"country\": \"South Korea\"})\n",
    "print(response.content)"
   ]
  },
  {
   "cell_type": "markdown",
   "metadata": {},
   "source": [
    "Note that if we use SQLite Cache, setting caching again does not delete store cache"
   ]
  },
  {
   "cell_type": "code",
   "execution_count": 16,
   "metadata": {},
   "outputs": [],
   "source": [
    "set_llm_cache(SQLiteCache(database_path=\"cache/llm_cache.db\"))"
   ]
  },
  {
   "cell_type": "code",
   "execution_count": 17,
   "metadata": {},
   "outputs": [
    {
     "name": "stdout",
     "output_type": "stream",
     "text": [
      "South Korea is a technologically advanced country in East Asia known for its booming economy, vibrant culture, and delicious cuisine. It is home to global companies like Samsung and Hyundai, as well as historical sites like Gyeongbokgung Palace and the DMZ. The country has a rich history and is a popular destination for tourists seeking a mix of traditional and modern experiences.\n",
      "CPU times: total: 0 ns\n",
      "Wall time: 4 ms\n"
     ]
    }
   ],
   "source": [
    "%%time\n",
    "# Invoke chain\n",
    "response = chain.invoke({\"country\": \"South Korea\"})\n",
    "print(response.content)"
   ]
  },
  {
   "cell_type": "markdown",
   "metadata": {},
   "source": [
    "## (Optional) With local model\n",
    "In this optional section, we utilize `docker` to serve local LLM model.\n",
    "Note that this used miniconda to set environment easily.\n",
    "\n",
    "### Device & Serving information\n",
    "- CPU : AMD 5600X\n",
    "- OS : Windows 10 Pro\n",
    "- RAM : 32 Gb\n",
    "- GPU : Nividia 3080Ti, 12GB VRAM\n",
    "- CUDA : 12.6\n",
    "- Driver Version : 560.94\n",
    "- docker image : nvidia/cuda:12.4.1-cudnn-devel-ubuntu20.04\n",
    "- model : Qwen/Qwen2.5-0.5B-Instruct\n",
    "- Python version : 3.10\n",
    "- docker run script :\n",
    "    ```\n",
    "    docker run -itd --name vllm --gpus all --entrypoint /bin/bash -p 6001:8888 nvidia/cuda:12.4.1-cudnn-devel-ubuntu20.04\n",
    "    ```\n",
    "- vllm serving script : \n",
    "    ```\n",
    "    python3 -m vllm.entrypoints.openai.api_server --model='Qwen/Qwen2.5-0.5B-Instruct' --served-model-name 'qwen-2.5' --port 8888 --host 0.0.0.0 --gpu-memory-utilization 0.80 --max-model-len 4096 --swap-space 1 --dtype bfloat16 --tensor-parallel-size 1 \n",
    "    ```"
   ]
  },
  {
   "cell_type": "code",
   "execution_count": 18,
   "metadata": {},
   "outputs": [],
   "source": [
    "from langchain_community.llms import VLLMOpenAI\n",
    "\n",
    "# create model using OpenAI compatible class VLLMOpenAI\n",
    "llm = VLLMOpenAI(\n",
    "    model=\"qwen-2.5\", openai_api_key=\"EMPTY\", openai_api_base=\"http://localhost:6001/v1\"\n",
    ")\n",
    "\n",
    "# Generate prompt\n",
    "prompt = PromptTemplate.from_template(\n",
    "    \"Sumarize about the {country} in about 200 characters\"\n",
    ")\n",
    "\n",
    "# Create chain\n",
    "chain = prompt | llm"
   ]
  },
  {
   "cell_type": "markdown",
   "metadata": {},
   "source": [
    "## (Optional) InMemoryCache + Local LLM\n",
    "Same InMemoryCache section above, we set InMemoryCache."
   ]
  },
  {
   "cell_type": "code",
   "execution_count": 19,
   "metadata": {},
   "outputs": [],
   "source": [
    "from langchain.globals import set_llm_cache\n",
    "from langchain.cache import InMemoryCache\n",
    "\n",
    "# Set InMemoryCache\n",
    "set_llm_cache(InMemoryCache())"
   ]
  },
  {
   "cell_type": "markdown",
   "metadata": {},
   "source": [
    "Invoke chain with local LLM, do note that we print **response** not **response.content**"
   ]
  },
  {
   "cell_type": "code",
   "execution_count": 20,
   "metadata": {},
   "outputs": [
    {
     "name": "stdout",
     "output_type": "stream",
     "text": [
      ".\n",
      "South Korea is a country in East Asia, with a population of approximately 55.2 million as of 2023. It borders North Korea to the east, Japan to the northeast, and China to the southeast. The country is known for its advanced technology, leading industries, and significant contributions to South Korean culture. It is often referred to as the \"Globe and a Couple\" due to its diverse landscapes, rich history, and frontiers with neighboring countries. South Korea's economy is growing, with a strong technological sector and a strong economy, making it a significant player on the global stage. Overall, South Korea is a significant global player, with a rich history, advanced technology, and a cultural influence. With its advanced technology and unique culture, South Korea is a fascinating country to explore. Its diverse landscapes, rich history, and remarkable economic performance have made it a popular destination for travelers. South Korea's contribution to the global economy and its strong technological sector have made it a significant player on the world stage. Its cultural influence and trade partnerships have created a unique culture that is hard to replicate elsewhere. South Korea's diverse landscapes, rich history, and technological advancements have made it a popular destination for travelers. Its cultural influence, trade partnerships, and\n",
      "CPU times: total: 15.6 ms\n",
      "Wall time: 1.03 s\n"
     ]
    }
   ],
   "source": [
    "%%time\n",
    "# Invoke chain\n",
    "response = chain.invoke({\"country\": \"South Korea\"})\n",
    "print(response)"
   ]
  },
  {
   "cell_type": "markdown",
   "metadata": {},
   "source": [
    "Now we invoke chain again, with the same question."
   ]
  },
  {
   "cell_type": "code",
   "execution_count": 21,
   "metadata": {},
   "outputs": [
    {
     "name": "stdout",
     "output_type": "stream",
     "text": [
      ".\n",
      "South Korea is a country in East Asia, with a population of approximately 55.2 million as of 2023. It borders North Korea to the east, Japan to the northeast, and China to the southeast. The country is known for its advanced technology, leading industries, and significant contributions to South Korean culture. It is often referred to as the \"Globe and a Couple\" due to its diverse landscapes, rich history, and frontiers with neighboring countries. South Korea's economy is growing, with a strong technological sector and a strong economy, making it a significant player on the global stage. Overall, South Korea is a significant global player, with a rich history, advanced technology, and a cultural influence. With its advanced technology and unique culture, South Korea is a fascinating country to explore. Its diverse landscapes, rich history, and remarkable economic performance have made it a popular destination for travelers. South Korea's contribution to the global economy and its strong technological sector have made it a significant player on the world stage. Its cultural influence and trade partnerships have created a unique culture that is hard to replicate elsewhere. South Korea's diverse landscapes, rich history, and technological advancements have made it a popular destination for travelers. Its cultural influence, trade partnerships, and\n",
      "CPU times: total: 0 ns\n",
      "Wall time: 2.61 ms\n"
     ]
    }
   ],
   "source": [
    "%%time\n",
    "# Invoke chain\n",
    "response = chain.invoke({\"country\": \"South Korea\"})\n",
    "print(response)"
   ]
  },
  {
   "cell_type": "markdown",
   "metadata": {},
   "source": [
    "## (Optional) SQLite Cache + Local LLM\n",
    "Same as SQLite Cache section above, set SQLite Cache.  \n",
    "Note that we set db name to be **vllm_cache.db** to distinguish from the cache used in SQLite Cache section."
   ]
  },
  {
   "cell_type": "code",
   "execution_count": 23,
   "metadata": {},
   "outputs": [],
   "source": [
    "from langchain_community.cache import SQLiteCache\n",
    "from langchain_core.globals import set_llm_cache\n",
    "import os\n",
    "\n",
    "# Create cache directory\n",
    "if not os.path.exists(\"cache\"):\n",
    "    os.makedirs(\"cache\")\n",
    "\n",
    "# Set SQLiteCache\n",
    "set_llm_cache(SQLiteCache(database_path=\"cache/vllm_cache.db\"))"
   ]
  },
  {
   "cell_type": "markdown",
   "metadata": {},
   "source": [
    "Invoke chain with local LLM, again, note that we print **response** not **response.content**"
   ]
  },
  {
   "cell_type": "code",
   "execution_count": 24,
   "metadata": {},
   "outputs": [
    {
     "name": "stdout",
     "output_type": "stream",
     "text": [
      ".\n",
      "\n",
      "South Korea, a nation that prides itself on its history, culture, and natural beauty. Known for its bustling cityscapes, scenic valleys, and delicious cuisine. A major player in South East Asia and a global hub for technology, fashion, and entertainment. Home to industries like electronics, automotive, and media. With a strong economy, South Korea is among the top economies in the world, known for its efficient and inclusive societies. A country that has been a significant player in global politics for decades. The country is also home to many influential figures like Kim Jong-un and Kim Jong-un, who have led North Korea and the country’s military. Known for its national sports, including football (soccer), baseball, and gymnastics. South Korea is also home to many museums, art galleries, and historical sites, showcasing the country’s rich cultural heritage. The country is a leader in technology, with many leading companies based in the South Korean capital, Seoul. The South Korean economy, despite global challenges, continues to be resilient and strong, with an average annual growth rate of 2.5%. The country has a diverse population and is known for its high standard of living, which is a source of pride for many South Koreans. With a strong tradition of education\n",
      "CPU times: total: 0 ns\n",
      "Wall time: 920 ms\n"
     ]
    }
   ],
   "source": [
    "%%time\n",
    "# Invoke chain\n",
    "response = chain.invoke({\"country\": \"South Korea\"})\n",
    "print(response)"
   ]
  },
  {
   "cell_type": "markdown",
   "metadata": {},
   "source": [
    "Now we invoke chain again, with the same question."
   ]
  },
  {
   "cell_type": "code",
   "execution_count": 25,
   "metadata": {},
   "outputs": [
    {
     "name": "stdout",
     "output_type": "stream",
     "text": [
      ".\n",
      "\n",
      "South Korea, a nation that prides itself on its history, culture, and natural beauty. Known for its bustling cityscapes, scenic valleys, and delicious cuisine. A major player in South East Asia and a global hub for technology, fashion, and entertainment. Home to industries like electronics, automotive, and media. With a strong economy, South Korea is among the top economies in the world, known for its efficient and inclusive societies. A country that has been a significant player in global politics for decades. The country is also home to many influential figures like Kim Jong-un and Kim Jong-un, who have led North Korea and the country’s military. Known for its national sports, including football (soccer), baseball, and gymnastics. South Korea is also home to many museums, art galleries, and historical sites, showcasing the country’s rich cultural heritage. The country is a leader in technology, with many leading companies based in the South Korean capital, Seoul. The South Korean economy, despite global challenges, continues to be resilient and strong, with an average annual growth rate of 2.5%. The country has a diverse population and is known for its high standard of living, which is a source of pride for many South Koreans. With a strong tradition of education\n",
      "CPU times: total: 0 ns\n",
      "Wall time: 3 ms\n"
     ]
    }
   ],
   "source": [
    "%%time\n",
    "# Invoke chain\n",
    "response = chain.invoke({\"country\": \"South Korea\"})\n",
    "print(response)"
   ]
  },
  {
   "cell_type": "code",
   "execution_count": null,
   "metadata": {},
   "outputs": [],
   "source": []
  }
 ],
 "metadata": {
  "kernelspec": {
   "display_name": "langchain-opentutorial-6kFp1u2S-py3.11",
   "language": "python",
   "name": "python3"
  },
  "language_info": {
   "codemirror_mode": {
    "name": "ipython",
    "version": 3
   },
   "file_extension": ".py",
   "mimetype": "text/x-python",
   "name": "python",
   "nbconvert_exporter": "python",
   "pygments_lexer": "ipython3",
   "version": "3.11.9"
  }
 },
 "nbformat": 4,
 "nbformat_minor": 4
}
