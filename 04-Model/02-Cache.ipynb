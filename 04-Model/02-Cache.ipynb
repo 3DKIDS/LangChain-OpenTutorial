{
 "cells": [
  {
   "cell_type": "markdown",
   "metadata": {},
   "source": [
    "# Caching\n",
    "\n",
    "- Author: [Joseph](https://github.com/XaviereKU)\n",
    "- This is a part of [LangChain Open Tutorial](https://github.com/LangChain-OpenTutorial/LangChain-OpenTutorial)\n",
    "\n",
    "[![Open in Colab](https://colab.research.google.com/assets/colab-badge.svg)](https://colab.research.google.com/github/langchain-ai/langchain-academy/blob/main/module-4/sub-graph.ipynb) [![Open in LangChain Academy](https://cdn.prod.website-files.com/65b8cd72835ceeacd4449a53/66e9eba12c7b7688aa3dbb5e_LCA-badge-green.svg)](https://academy.langchain.com/courses/take/intro-to-langgraph/lessons/58239937-lesson-2-sub-graphs)\n",
    "\n",
    "## Overview\n",
    "\n",
    "`LangChain` provides optional caching layer for LLMs.\n",
    "\n",
    "This is useful for two reasons:\n",
    "- When requesting the same completions multiple times, it can **reduce the number of API calls** to the LLM provider and thus save costs.\n",
    "- By **reduing the number of API calls** to the LLM provider, it can **improve the running time of the application.**\n",
    "\n",
    "In this tutorial, we will use gpt-3.5-turbo OpenAI API and utilize two kinds of cache, **InMemoryCache** and **SQLite Cache** .  \n",
    "At end of each section we will compare wall times between before and after caching.\n",
    "\n",
    "Optionally, we will use local LLM served with VLLM.\n",
    "\n",
    "### Table of Contents\n",
    "\n",
    "- [Overview](#overview)\n",
    "- [Environement Setup](#environment-setup)\n",
    "- [InMemoryCache](#in-memory-cache)\n",
    "- [SQlite Cache](#sqlite-cache)\n",
    "- [(Optional) With local model](#optional-with-local-model)\n",
    "- [(Optional) InMemoryCache + Local LLM](#optional-inmemorycache--local-llm)\n",
    "- [(Optional) SQLite Cache + Local LLM](#optional-sqlite-cache--local-llm)\n",
    "----"
   ]
  },
  {
   "cell_type": "markdown",
   "metadata": {},
   "source": [
    "## Environment Setup\n",
    "\n",
    "Set up the environment. You may refer to [Environment Setup](https://wikidocs.net/257836) for more details.\n",
    "\n",
    "**[Note]**\n",
    "- `langchain-opentutorial` is a package that provides a set of easy-to-use environment setup, useful functions and utilities for tutorials. \n",
    "- You can checkout the [`langchain-opentutorial`](https://github.com/LangChain-OpenTutorial/langchain-opentutorial-pypi) for more details."
   ]
  },
  {
   "cell_type": "code",
   "execution_count": 1,
   "metadata": {},
   "outputs": [],
   "source": [
    "%%capture --no-stderr\n",
    "!pip install langchain-opentutorial"
   ]
  },
  {
   "cell_type": "code",
   "execution_count": 2,
   "metadata": {},
   "outputs": [],
   "source": [
    "# Install required packages\n",
    "from langchain_opentutorial import package\n",
    "\n",
    "package.install(\n",
    "    [\n",
    "        \"langsmith\",\n",
    "        \"langchain\",\n",
    "        \"langchain_core\",\n",
    "        \"langchain-anthropic\",\n",
    "        \"langchain_community\",\n",
    "        \"langchain_text_splitters\",\n",
    "        \"langchain_openai\",\n",
    "        # \"vllm\", # this is for optional section\n",
    "    ],\n",
    "    verbose=False,\n",
    "    upgrade=False,\n",
    ")"
   ]
  },
  {
   "cell_type": "code",
   "execution_count": 3,
   "metadata": {},
   "outputs": [
    {
     "name": "stdout",
     "output_type": "stream",
     "text": [
      "Environment variables have been set successfully.\n"
     ]
    }
   ],
   "source": [
    "# Set environment variables\n",
    "from langchain_opentutorial import set_env\n",
    "\n",
    "set_env(\n",
    "    {\n",
    "        \"OPENAI_API_KEY\": \"Your API KEY\",\n",
    "        \"LANGCHAIN_API_KEY\": \"\",\n",
    "        \"LANGCHAIN_TRACING_V2\": \"true\",\n",
    "        \"LANGCHAIN_ENDPOINT\": \"https://api.smith.langchain.com\",\n",
    "        \"LANGCHAIN_PROJECT\": \"Caching\",\n",
    "    }\n",
    ")"
   ]
  },
  {
   "cell_type": "markdown",
   "metadata": {},
   "source": [
    "Alternatively, one can set environmental variables with load_dotenv"
   ]
  },
  {
   "cell_type": "code",
   "execution_count": 3,
   "metadata": {},
   "outputs": [
    {
     "data": {
      "text/plain": [
       "True"
      ]
     },
     "execution_count": 3,
     "metadata": {},
     "output_type": "execute_result"
    }
   ],
   "source": [
    "from dotenv import load_dotenv\n",
    "\n",
    "\n",
    "load_dotenv()"
   ]
  },
  {
   "cell_type": "code",
   "execution_count": 4,
   "metadata": {},
   "outputs": [],
   "source": [
    "from langchain_openai import ChatOpenAI\n",
    "from langchain_core.prompts import PromptTemplate\n",
    "\n",
    "# Create model\n",
    "llm = ChatOpenAI(model_name=\"gpt-4o-mini\")\n",
    "\n",
    "# Generate prompt\n",
    "prompt = PromptTemplate.from_template(\n",
    "    \"Sumarize about the {country} in about 200 characters\"\n",
    ")\n",
    "\n",
    "# Create chain\n",
    "chain = prompt | llm"
   ]
  },
  {
   "cell_type": "code",
   "execution_count": 5,
   "metadata": {},
   "outputs": [
    {
     "name": "stdout",
     "output_type": "stream",
     "text": [
      "South Korea is a vibrant nation known for its technological advancements, rich culture, and dynamic economy. It boasts K-pop, delicious cuisine, and historic sites, with Seoul as its bustling capital.\n",
      "CPU times: user 17.1 ms, sys: 3.51 ms, total: 20.6 ms\n",
      "Wall time: 2.64 s\n"
     ]
    }
   ],
   "source": [
    "%%time\n",
    "# Invoke chain\n",
    "response = chain.invoke({\"country\": \"South Korea\"})\n",
    "print(response.content)"
   ]
  },
  {
   "cell_type": "markdown",
   "metadata": {},
   "source": [
    "## InMemoryCache\n",
    "First, cache the answer to the same question using InMemoryCache."
   ]
  },
  {
   "cell_type": "code",
   "execution_count": 12,
   "metadata": {},
   "outputs": [],
   "source": [
    "from langchain_core.globals import set_llm_cache\n",
    "from langchain_core.caches import InMemoryCache\n",
    "\n",
    "# Set InMemoryCache\n",
    "set_llm_cache(InMemoryCache())"
   ]
  },
  {
   "cell_type": "code",
   "execution_count": 13,
   "metadata": {},
   "outputs": [
    {
     "name": "stdout",
     "output_type": "stream",
     "text": [
      "South Korea is a vibrant East Asian nation known for its rich history, advanced technology, K-pop culture, and delicious cuisine. It has a strong economy and is a global leader in innovation and education.\n",
      "CPU times: user 9.66 ms, sys: 2.33 ms, total: 12 ms\n",
      "Wall time: 1.32 s\n"
     ]
    }
   ],
   "source": [
    "%%time\n",
    "# Invoke chain\n",
    "response = chain.invoke({\"country\": \"South Korea\"})\n",
    "print(response.content)"
   ]
  },
  {
   "cell_type": "markdown",
   "metadata": {},
   "source": [
    "Now we invoke the chain with the same question."
   ]
  },
  {
   "cell_type": "code",
   "execution_count": 14,
   "metadata": {},
   "outputs": [
    {
     "name": "stdout",
     "output_type": "stream",
     "text": [
      "South Korea is a vibrant East Asian nation known for its rich history, advanced technology, K-pop culture, and delicious cuisine. It has a strong economy and is a global leader in innovation and education.\n",
      "CPU times: user 510 μs, sys: 32 μs, total: 542 μs\n",
      "Wall time: 524 μs\n"
     ]
    }
   ],
   "source": [
    "%%time\n",
    "# Invoke chain\n",
    "response = chain.invoke({\"country\": \"South Korea\"})\n",
    "print(response.content)"
   ]
  },
  {
   "cell_type": "markdown",
   "metadata": {},
   "source": [
    "Note that if we set InMemoryCache again, the cache will be lost and the wall time will increase"
   ]
  },
  {
   "cell_type": "code",
   "execution_count": 15,
   "metadata": {},
   "outputs": [],
   "source": [
    "set_llm_cache(InMemoryCache())"
   ]
  },
  {
   "cell_type": "code",
   "execution_count": 16,
   "metadata": {},
   "outputs": [
    {
     "name": "stdout",
     "output_type": "stream",
     "text": [
      "South Korea, located on the Korean Peninsula, is known for its rich culture, advanced technology, and vibrant economy. Major cities include Seoul and Busan, famous for K-pop, cuisine, and historical sites.\n",
      "CPU times: user 5.37 ms, sys: 1.81 ms, total: 7.18 ms\n",
      "Wall time: 1.3 s\n"
     ]
    }
   ],
   "source": [
    "%%time\n",
    "# Invoke chain\n",
    "response = chain.invoke({\"country\": \"South Korea\"})\n",
    "print(response.content)"
   ]
  },
  {
   "cell_type": "markdown",
   "metadata": {},
   "source": [
    "## SQLite Cache\n",
    "Now, we cache the answer to the same question by using SQLite cache."
   ]
  },
  {
   "cell_type": "code",
   "execution_count": 17,
   "metadata": {},
   "outputs": [],
   "source": [
    "from langchain_community.cache import SQLiteCache\n",
    "from langchain_core.globals import set_llm_cache\n",
    "import os\n",
    "\n",
    "# Create cache directory\n",
    "if not os.path.exists(\"cache\"):\n",
    "    os.makedirs(\"cache\")\n",
    "\n",
    "# Set SQLiteCache\n",
    "set_llm_cache(SQLiteCache(database_path=\"cache/llm_cache.db\"))"
   ]
  },
  {
   "cell_type": "code",
   "execution_count": 18,
   "metadata": {},
   "outputs": [
    {
     "name": "stdout",
     "output_type": "stream",
     "text": [
      "South Korea, located on the Korean Peninsula, is a vibrant nation known for its rich culture, advanced technology, and global influence in entertainment, particularly K-pop and cinema. Its capital is Seoul.\n",
      "CPU times: user 12.5 ms, sys: 3 ms, total: 15.5 ms\n",
      "Wall time: 1.35 s\n"
     ]
    }
   ],
   "source": [
    "%%time\n",
    "# Invoke chain\n",
    "response = chain.invoke({\"country\": \"South Korea\"})\n",
    "print(response.content)"
   ]
  },
  {
   "cell_type": "markdown",
   "metadata": {},
   "source": [
    "Now we invoke the chain with the same question."
   ]
  },
  {
   "cell_type": "code",
   "execution_count": 19,
   "metadata": {},
   "outputs": [
    {
     "name": "stdout",
     "output_type": "stream",
     "text": [
      "South Korea, located on the Korean Peninsula, is a vibrant nation known for its rich culture, advanced technology, and global influence in entertainment, particularly K-pop and cinema. Its capital is Seoul.\n",
      "CPU times: user 40.1 ms, sys: 24.7 ms, total: 64.8 ms\n",
      "Wall time: 63.4 ms\n"
     ]
    }
   ],
   "source": [
    "%%time\n",
    "# Invoke chain\n",
    "response = chain.invoke({\"country\": \"South Korea\"})\n",
    "print(response.content)"
   ]
  },
  {
   "cell_type": "markdown",
   "metadata": {},
   "source": [
    "Note that if we use SQLite Cache, setting caching again does not delete store cache"
   ]
  },
  {
   "cell_type": "code",
   "execution_count": 20,
   "metadata": {},
   "outputs": [],
   "source": [
    "set_llm_cache(SQLiteCache(database_path=\"cache/llm_cache.db\"))"
   ]
  },
  {
   "cell_type": "code",
   "execution_count": 21,
   "metadata": {},
   "outputs": [
    {
     "name": "stdout",
     "output_type": "stream",
     "text": [
      "South Korea, located on the Korean Peninsula, is a vibrant nation known for its rich culture, advanced technology, and global influence in entertainment, particularly K-pop and cinema. Its capital is Seoul.\n",
      "CPU times: user 3.61 ms, sys: 1.39 ms, total: 5 ms\n",
      "Wall time: 3.86 ms\n"
     ]
    }
   ],
   "source": [
    "%%time\n",
    "# Invoke chain\n",
    "response = chain.invoke({\"country\": \"South Korea\"})\n",
    "print(response.content)"
   ]
  },
  {
   "cell_type": "markdown",
   "metadata": {},
   "source": [
    "## (Optional) With local model\n",
    "In this optional section, we utilize `docker` to serve local LLM model.\n",
    "Note that this used miniconda to set environment easily.\n",
    "\n",
    "### Device & Serving information\n",
    "- CPU : AMD 5600X\n",
    "- OS : Windows 10 Pro\n",
    "- RAM : 32 Gb\n",
    "- GPU : Nividia 3080Ti, 12GB VRAM\n",
    "- CUDA : 12.6\n",
    "- Driver Version : 560.94\n",
    "- docker image : nvidia/cuda:12.4.1-cudnn-devel-ubuntu20.04\n",
    "- model : Qwen/Qwen2.5-0.5B-Instruct\n",
    "- Python version : 3.10\n",
    "- docker run script :\n",
    "    ```\n",
    "    docker run -itd --name vllm --gpus all --entrypoint /bin/bash -p 6001:8888 nvidia/cuda:12.4.1-cudnn-devel-ubuntu20.04\n",
    "    ```\n",
    "- vllm serving script : \n",
    "    ```\n",
    "    python3 -m vllm.entrypoints.openai.api_server --model='Qwen/Qwen2.5-0.5B-Instruct' --served-model-name 'qwen-2.5' --port 8888 --host 0.0.0.0 --gpu-memory-utilization 0.80 --max-model-len 4096 --swap-space 1 --dtype bfloat16 --tensor-parallel-size 1 \n",
    "    ```"
   ]
  },
  {
   "cell_type": "code",
   "execution_count": 18,
   "metadata": {},
   "outputs": [],
   "source": [
    "from langchain_community.llms import VLLMOpenAI\n",
    "\n",
    "# create model using OpenAI compatible class VLLMOpenAI\n",
    "llm = VLLMOpenAI(\n",
    "    model=\"qwen-2.5\", openai_api_key=\"EMPTY\", openai_api_base=\"http://localhost:6001/v1\"\n",
    ")\n",
    "\n",
    "# Generate prompt\n",
    "prompt = PromptTemplate.from_template(\n",
    "    \"Sumarize about the {country} in about 200 characters\"\n",
    ")\n",
    "\n",
    "# Create chain\n",
    "chain = prompt | llm"
   ]
  },
  {
   "cell_type": "markdown",
   "metadata": {},
   "source": [
    "## (Optional) InMemoryCache + Local LLM\n",
    "Same InMemoryCache section above, we set InMemoryCache."
   ]
  },
  {
   "cell_type": "code",
   "execution_count": 22,
   "metadata": {},
   "outputs": [],
   "source": [
    "from langchain_core.globals import set_llm_cache\n",
    "from langchain_core.caches import InMemoryCache\n",
    "\n",
    "# Set InMemoryCache\n",
    "set_llm_cache(InMemoryCache())"
   ]
  },
  {
   "cell_type": "markdown",
   "metadata": {},
   "source": [
    "Invoke chain with local LLM, do note that we print **response** not **response.content**"
   ]
  },
  {
   "cell_type": "code",
   "execution_count": 23,
   "metadata": {},
   "outputs": [
    {
     "name": "stdout",
     "output_type": "stream",
     "text": [
      "content='South Korea, located on the Korean Peninsula, is known for its vibrant culture, advanced technology, and strong economy. Major cities include Seoul, Busan, and Incheon, with influences from K-pop and traditional heritage.' additional_kwargs={'refusal': None} response_metadata={'token_usage': {'completion_tokens': 45, 'prompt_tokens': 19, 'total_tokens': 64, 'completion_tokens_details': {'accepted_prediction_tokens': 0, 'audio_tokens': 0, 'reasoning_tokens': 0, 'rejected_prediction_tokens': 0}, 'prompt_tokens_details': {'audio_tokens': 0, 'cached_tokens': 0}}, 'model_name': 'gpt-4o-mini-2024-07-18', 'system_fingerprint': 'fp_d02d531b47', 'finish_reason': 'stop', 'logprobs': None} id='run-95a28c46-5a1b-49ea-92ad-7e77809c452a-0' usage_metadata={'input_tokens': 19, 'output_tokens': 45, 'total_tokens': 64, 'input_token_details': {'audio': 0, 'cache_read': 0}, 'output_token_details': {'audio': 0, 'reasoning': 0}}\n",
      "CPU times: user 9.55 ms, sys: 3.33 ms, total: 12.9 ms\n",
      "Wall time: 1.4 s\n"
     ]
    }
   ],
   "source": [
    "%%time\n",
    "# Invoke chain\n",
    "response = chain.invoke({\"country\": \"South Korea\"})\n",
    "print(response)"
   ]
  },
  {
   "cell_type": "markdown",
   "metadata": {},
   "source": [
    "Now we invoke chain again, with the same question."
   ]
  },
  {
   "cell_type": "code",
   "execution_count": 24,
   "metadata": {},
   "outputs": [
    {
     "name": "stdout",
     "output_type": "stream",
     "text": [
      "content='South Korea, located on the Korean Peninsula, is known for its vibrant culture, advanced technology, and strong economy. Major cities include Seoul, Busan, and Incheon, with influences from K-pop and traditional heritage.' additional_kwargs={'refusal': None} response_metadata={'token_usage': {'completion_tokens': 45, 'prompt_tokens': 19, 'total_tokens': 64, 'completion_tokens_details': {'accepted_prediction_tokens': 0, 'audio_tokens': 0, 'reasoning_tokens': 0, 'rejected_prediction_tokens': 0}, 'prompt_tokens_details': {'audio_tokens': 0, 'cached_tokens': 0}}, 'model_name': 'gpt-4o-mini-2024-07-18', 'system_fingerprint': 'fp_d02d531b47', 'finish_reason': 'stop', 'logprobs': None} id='run-95a28c46-5a1b-49ea-92ad-7e77809c452a-0' usage_metadata={'input_tokens': 19, 'output_tokens': 45, 'total_tokens': 64, 'input_token_details': {'audio': 0, 'cache_read': 0}, 'output_token_details': {'audio': 0, 'reasoning': 0}}\n",
      "CPU times: user 948 μs, sys: 88 μs, total: 1.04 ms\n",
      "Wall time: 1.01 ms\n"
     ]
    }
   ],
   "source": [
    "%%time\n",
    "# Invoke chain\n",
    "response = chain.invoke({\"country\": \"South Korea\"})\n",
    "print(response)"
   ]
  },
  {
   "cell_type": "markdown",
   "metadata": {},
   "source": [
    "## (Optional) SQLite Cache + Local LLM\n",
    "Same as SQLite Cache section above, set SQLite Cache.  \n",
    "Note that we set db name to be **vllm_cache.db** to distinguish from the cache used in SQLite Cache section."
   ]
  },
  {
   "cell_type": "code",
   "execution_count": 25,
   "metadata": {},
   "outputs": [],
   "source": [
    "from langchain_community.cache import SQLiteCache\n",
    "from langchain_core.globals import set_llm_cache\n",
    "import os\n",
    "\n",
    "# Create cache directory\n",
    "if not os.path.exists(\"cache\"):\n",
    "    os.makedirs(\"cache\")\n",
    "\n",
    "# Set SQLiteCache\n",
    "set_llm_cache(SQLiteCache(database_path=\"cache/vllm_cache.db\"))"
   ]
  },
  {
   "cell_type": "markdown",
   "metadata": {},
   "source": [
    "Invoke chain with local LLM, again, note that we print **response** not **response.content**"
   ]
  },
  {
   "cell_type": "code",
   "execution_count": 26,
   "metadata": {},
   "outputs": [
    {
     "name": "stdout",
     "output_type": "stream",
     "text": [
      "content=\"South Korea, located in East Asia, is known for its vibrant culture, advanced technology, and economic strength. It's famous for K-pop, Korean cuisine, and historical sites, blending tradition with modernity.\" additional_kwargs={'refusal': None} response_metadata={'token_usage': {'completion_tokens': 42, 'prompt_tokens': 19, 'total_tokens': 61, 'completion_tokens_details': {'accepted_prediction_tokens': 0, 'audio_tokens': 0, 'reasoning_tokens': 0, 'rejected_prediction_tokens': 0}, 'prompt_tokens_details': {'audio_tokens': 0, 'cached_tokens': 0}}, 'model_name': 'gpt-4o-mini-2024-07-18', 'system_fingerprint': 'fp_0aa8d3e20b', 'finish_reason': 'stop', 'logprobs': None} id='run-2659da82-c36a-48b8-be70-3f163ef2312a-0' usage_metadata={'input_tokens': 19, 'output_tokens': 42, 'total_tokens': 61, 'input_token_details': {'audio': 0, 'cache_read': 0}, 'output_token_details': {'audio': 0, 'reasoning': 0}}\n",
      "CPU times: user 13.9 ms, sys: 4.15 ms, total: 18 ms\n",
      "Wall time: 1.74 s\n"
     ]
    }
   ],
   "source": [
    "%%time\n",
    "# Invoke chain\n",
    "response = chain.invoke({\"country\": \"South Korea\"})\n",
    "print(response)"
   ]
  },
  {
   "cell_type": "markdown",
   "metadata": {},
   "source": [
    "Now we invoke chain again, with the same question."
   ]
  },
  {
   "cell_type": "code",
   "execution_count": 27,
   "metadata": {},
   "outputs": [
    {
     "name": "stdout",
     "output_type": "stream",
     "text": [
      "content=\"South Korea, located in East Asia, is known for its vibrant culture, advanced technology, and economic strength. It's famous for K-pop, Korean cuisine, and historical sites, blending tradition with modernity.\" additional_kwargs={'refusal': None} response_metadata={'token_usage': {'completion_tokens': 42, 'prompt_tokens': 19, 'total_tokens': 61, 'completion_tokens_details': {'accepted_prediction_tokens': 0, 'audio_tokens': 0, 'reasoning_tokens': 0, 'rejected_prediction_tokens': 0}, 'prompt_tokens_details': {'audio_tokens': 0, 'cached_tokens': 0}}, 'model_name': 'gpt-4o-mini-2024-07-18', 'system_fingerprint': 'fp_0aa8d3e20b', 'finish_reason': 'stop', 'logprobs': None} id='run-2659da82-c36a-48b8-be70-3f163ef2312a-0' usage_metadata={'input_tokens': 19, 'output_tokens': 42, 'total_tokens': 61, 'input_token_details': {'audio': 0, 'cache_read': 0}, 'output_token_details': {'audio': 0, 'reasoning': 0}}\n",
      "CPU times: user 2.21 ms, sys: 800 μs, total: 3.01 ms\n",
      "Wall time: 2.29 ms\n"
     ]
    }
   ],
   "source": [
    "%%time\n",
    "# Invoke chain\n",
    "response = chain.invoke({\"country\": \"South Korea\"})\n",
    "print(response)"
   ]
  }
 ],
 "metadata": {
  "kernelspec": {
   "display_name": "langchain-opentutorial-6kFp1u2S-py3.11",
   "language": "python",
   "name": "python3"
  },
  "language_info": {
   "codemirror_mode": {
    "name": "ipython",
    "version": 3
   },
   "file_extension": ".py",
   "mimetype": "text/x-python",
   "name": "python",
   "nbconvert_exporter": "python",
   "pygments_lexer": "ipython3",
   "version": "3.11.11"
  }
 },
 "nbformat": 4,
 "nbformat_minor": 4
}
