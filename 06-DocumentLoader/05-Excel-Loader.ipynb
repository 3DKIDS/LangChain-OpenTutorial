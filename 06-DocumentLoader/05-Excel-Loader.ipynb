{
 "cells": [
  {
   "cell_type": "markdown",
   "id": "ffff1f1f7edce75e",
   "metadata": {},
   "source": [
    "# Excel File Loading in LangChain\n",
    "\n",
    "- Author: [Hwayoung Cha](https://github.com/forwardyoung)\n",
    "- Design: []()\n",
    "- Peer Review: [teddylee777](https://github.com/teddylee777), [jhboyo](https://github.com/jhboyo)\n",
    "- This is a part of [LangChain Open Tutorial](https://github.com/LangChain-OpenTutorial/LangChain-OpenTutorial)\n",
    "\n",
    "[![Open in Colab](https://colab.research.google.com/assets/colab-badge.svg)](https://colab.research.google.com/github/langchain-ai/langchain-academy/blob/main/module-4/sub-graph.ipynb) [![Open in LangChain Academy](https://cdn.prod.website-files.com/65b8cd72835ceeacd4449a53/66e9eba12c7b7688aa3dbb5e_LCA-badge-green.svg)](https://academy.langchain.com/courses/take/intro-to-langgraph/lessons/58239937-lesson-2-sub-graphs)\n",
    "\n",
    "## Overview\n",
    "\n",
    "This tutorial covers the process of loading and handling Excel files in `LangChain`.\n",
    "\n",
    "It focuses on two primary methods: `UnstructuredExcelLoader` for raw text extraction and `DataFrameLoader` for structured data processing.\n",
    "\n",
    "The guide aims to help developers effectively integrate Excel data into their `LangChain` projects, covering both basic and advanced usage scenarios.\n",
    "\n",
    "### Table of Contents\n",
    "\n",
    "- [Overview](#overview)\n",
    "- [Environement Setup](#environment-setup)\n",
    "- [UnstructedExcelLoader](#UnstructedExcelLoader)\n",
    "- [DataFrameLoader](#DataFrameLoader)\n",
    "----"
   ]
  },
  {
   "cell_type": "markdown",
   "id": "61d6dfb9165a8a5c",
   "metadata": {},
   "source": [
    "## Environment Setup\n",
    "\n",
    "Set up the environment. You may refer to [Environment Setup](https://wikidocs.net/257836) for more details.\n",
    "\n",
    "**[Note]**\n",
    "- `langchain-opentutorial` is a package that provides a set of easy-to-use environment setup, useful functions and utilities for tutorials. \n",
    "- You can checkout the [`langchain-opentutorial`](https://github.com/LangChain-OpenTutorial/langchain-opentutorial-pypi) for more details."
   ]
  },
  {
   "cell_type": "code",
   "id": "d2e8882060efa1ea",
   "metadata": {
    "ExecuteTime": {
     "end_time": "2025-01-03T04:55:49.740767Z",
     "start_time": "2025-01-03T04:55:45.832088Z"
    }
   },
   "source": [
    "%%capture --no-stderr\n",
    "%pip install langchain-opentutorial"
   ],
   "outputs": [
    {
     "name": "stderr",
     "output_type": "stream",
     "text": [
      "\n",
      "[notice] A new release of pip is available: 23.1 -> 24.3.1\n",
      "[notice] To update, run: python.exe -m pip install --upgrade pip\n"
     ]
    }
   ],
   "execution_count": 1
  },
  {
   "cell_type": "code",
   "id": "ea721609cfbfab70",
   "metadata": {
    "ExecuteTime": {
     "end_time": "2025-01-03T04:55:59.377041Z",
     "start_time": "2025-01-03T04:55:49.742771Z"
    }
   },
   "source": [
    "# Install required packages\n",
    "from langchain_opentutorial import package\n",
    "\n",
    "package.install(\n",
    "    [\n",
    "        \"langchain_community\",\n",
    "        \"unstructured\",\n",
    "        \"openpyxl\"\n",
    "    ],\n",
    "    verbose=False,\n",
    "    upgrade=False,\n",
    ")"
   ],
   "outputs": [],
   "execution_count": 2
  },
  {
   "cell_type": "markdown",
   "id": "e3552429c2252ddc",
   "metadata": {},
   "source": [
    "## UnstructedExcelLoader\n",
    "\n",
    "`UnstructedExcelLoader` is used to load `Microsoft Excel` files.\n",
    "\n",
    "This loader works with both `xlsx` and `xls` files.\n",
    "\n",
    "When the loader is used in `\"elements\"` mode, an HTML representation of the Excel file is provided under the `text_as_html` key in the document metadata."
   ]
  },
  {
   "cell_type": "code",
   "id": "49f04d7628772561",
   "metadata": {
    "ExecuteTime": {
     "end_time": "2025-01-03T04:55:59.381856Z",
     "start_time": "2025-01-03T04:55:59.377908Z"
    }
   },
   "source": [
    "# install\n",
    "# !pip install -qU langchain-community unstructured openpyxl"
   ],
   "outputs": [],
   "execution_count": 3
  },
  {
   "cell_type": "code",
   "id": "edf68cf0efa0ce27",
   "metadata": {
    "ExecuteTime": {
     "end_time": "2025-01-03T04:56:03.843510Z",
     "start_time": "2025-01-03T04:55:59.382969Z"
    }
   },
   "source": [
    "import sys\n",
    "from langchain_community.document_loaders import UnstructuredExcelLoader\n",
    "\n",
    "# Set recursion limit\n",
    "sys.setrecursionlimit(10**6)    \n",
    "\n",
    "# Create UnstructuredExcelLoader \n",
    "loader = UnstructuredExcelLoader(\"./data/titanic.xlsx\", mode=\"elements\")\n",
    "\n",
    "# Load a document\n",
    "docs = loader.load()\n",
    "\n",
    "# Print the number of documents\n",
    "print(len(docs))"
   ],
   "outputs": [
    {
     "name": "stdout",
     "output_type": "stream",
     "text": [
      "1\n"
     ]
    }
   ],
   "execution_count": 4
  },
  {
   "cell_type": "markdown",
   "id": "4953c041db717589",
   "metadata": {},
   "source": [
    "This confirms that one document has been loaded.\n",
    "\n",
    "The `page_content` contains the data from each row, while the `text_as_html` in the `metadata` stores the data in HTML format."
   ]
  },
  {
   "cell_type": "code",
   "id": "81447e1ba5a5b4a2",
   "metadata": {
    "ExecuteTime": {
     "end_time": "2025-01-03T04:56:03.849267Z",
     "start_time": "2025-01-03T04:56:03.845512Z"
    }
   },
   "source": [
    "# Print the document\n",
    "print(docs[0].page_content[:200])"
   ],
   "outputs": [
    {
     "name": "stdout",
     "output_type": "stream",
     "text": [
      "PassengerId Survived Pclass Name Sex Age SibSp Parch Ticket Fare Cabin Embarked 1 0 3 Braund, Mr. Owen Harris male 22 1 0 A/5 21171 7.25 S 2 1 1 Cumings, Mrs. John Bradley (Florence Briggs Thayer) fem\n"
     ]
    }
   ],
   "execution_count": 5
  },
  {
   "cell_type": "code",
   "id": "a9cf4f7c409fd937",
   "metadata": {
    "ExecuteTime": {
     "end_time": "2025-01-03T04:56:03.854186Z",
     "start_time": "2025-01-03T04:56:03.850272Z"
    }
   },
   "source": [
    "# Print the text_as_html of metadata\n",
    "print(docs[0].metadata[\"text_as_html\"][:1000])"
   ],
   "outputs": [
    {
     "name": "stdout",
     "output_type": "stream",
     "text": [
      "<table><tr><td>PassengerId</td><td>Survived</td><td>Pclass</td><td>Name</td><td>Sex</td><td>Age</td><td>SibSp</td><td>Parch</td><td>Ticket</td><td>Fare</td><td>Cabin</td><td>Embarked</td></tr><tr><td>1</td><td>0</td><td>3</td><td>Braund, Mr. Owen Harris</td><td>male</td><td>22</td><td>1</td><td>0</td><td>A/5 21171</td><td>7.25</td><td/><td>S</td></tr><tr><td>2</td><td>1</td><td>1</td><td>Cumings, Mrs. John Bradley (Florence Briggs Thayer)</td><td>female</td><td>38</td><td>1</td><td>0</td><td>PC 17599</td><td>71.2833</td><td>C85</td><td>C</td></tr><tr><td>3</td><td>1</td><td>3</td><td>Heikkinen, Miss. Laina</td><td>female</td><td>26</td><td>0</td><td>0</td><td>STON/O2. 3101282</td><td>7.925</td><td/><td>S</td></tr><tr><td>4</td><td>1</td><td>1</td><td>Futrelle, Mrs. Jacques Heath (Lily May Peel)</td><td>female</td><td>35</td><td>1</td><td>0</td><td>113803</td><td>53.1</td><td>C123</td><td>S</td></tr><tr><td>5</td><td>0</td><td>3</td><td>Allen, Mr. William Henry</td><td>male</td><td>35</\n"
     ]
    }
   ],
   "execution_count": 6
  },
  {
   "metadata": {},
   "cell_type": "markdown",
   "source": "![text_as_html](./assets/05-Excel-Loader-text-as-html.png)",
   "id": "cce664281d9d57f4"
  },
  {
   "cell_type": "markdown",
   "id": "9ed860d9960d54a7",
   "metadata": {},
   "source": [
    "## DataFrameLoader\n",
    "\n",
    "- Similar to CSV files, we can load Excel files by using the `read_excel()` function to create a DataFrame, and then load it."
   ]
  },
  {
   "cell_type": "code",
   "id": "eb49d72b095ede6b",
   "metadata": {
    "ExecuteTime": {
     "end_time": "2025-01-03T04:56:03.951950Z",
     "start_time": "2025-01-03T04:56:03.855192Z"
    }
   },
   "source": [
    "import pandas as pd\n",
    "\n",
    "# read the Excel file\n",
    "df = pd.read_excel(\"./data/titanic.xlsx\")"
   ],
   "outputs": [],
   "execution_count": 7
  },
  {
   "cell_type": "code",
   "id": "a8a978b795661c4",
   "metadata": {
    "ExecuteTime": {
     "end_time": "2025-01-03T04:56:03.998725Z",
     "start_time": "2025-01-03T04:56:03.953240Z"
    }
   },
   "source": [
    "from langchain_community.document_loaders import DataFrameLoader\n",
    "\n",
    "# Set up DataFrame loader, specifying the page content column\n",
    "loader = DataFrameLoader(df, page_content_column=\"Name\")\n",
    "\n",
    "# Load the document\n",
    "docs = loader.load()\n",
    "\n",
    "# Print the data\n",
    "print(docs[0].page_content)\n",
    "\n",
    "# Print the metadata\n",
    "print(docs[0].metadata)"
   ],
   "outputs": [
    {
     "name": "stdout",
     "output_type": "stream",
     "text": [
      "Braund, Mr. Owen Harris\n",
      "{'PassengerId': 1, 'Survived': 0, 'Pclass': 3, 'Sex': 'male', 'Age': 22.0, 'SibSp': 1, 'Parch': 0, 'Ticket': 'A/5 21171', 'Fare': 7.25, 'Cabin': nan, 'Embarked': 'S'}\n"
     ]
    }
   ],
   "execution_count": 8
  }
 ],
 "metadata": {
  "kernelspec": {
   "display_name": "Python 3 (ipykernel)",
   "language": "python",
   "name": "python3"
  },
  "language_info": {
   "codemirror_mode": {
    "name": "ipython",
    "version": 3
   },
   "file_extension": ".py",
   "mimetype": "text/x-python",
   "name": "python",
   "nbconvert_exporter": "python",
   "pygments_lexer": "ipython3",
   "version": "3.11.3"
  }
 },
 "nbformat": 4,
 "nbformat_minor": 5
}
