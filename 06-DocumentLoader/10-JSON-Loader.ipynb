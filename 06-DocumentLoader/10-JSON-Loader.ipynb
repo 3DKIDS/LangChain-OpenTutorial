{
 "cells": [
  {
   "cell_type": "markdown",
   "metadata": {},
   "source": [
    "# JSON Loader\n",
    "\n",
    "Let's look at how to load files with the `.json` extension using a loader.\n",
    "\n",
    "- Author: [leebeanbin](https://github.com/leebeanbin)\n",
    "- Peer Review: [Teddy Lee](https://github.com/teddylee777)\n",
    "- This is a part of [LangChain Open Tutorial](https://github.com/LangChain-OpenTutorial/LangChain-OpenTutorial/tree/main/06-DocumentLoader)\n",
    "\n",
    "[![Open in Colab](https://colab.research.google.com/assets/colab-badge.svg)](https://colab.research.google.com/github/langchain-ai/langchain-academy/blob/main/module-4/sub-graph.ipynb) [![Open in LangChain Academy](https://cdn.prod.website-files.com/65b8cd72835ceeacd4449a53/66e9eba12c7b7688aa3dbb5e_LCA-badge-green.svg)](https://academy.langchain.com/courses/take/intro-to-langgraph/lessons/58239937-lesson-2-sub-graphs)\n",
    "\n",
    "## Overview\n",
    "This tutorial demonstrates how to use LangChain's JSONLoader to load and process JSON files. We'll explore how to extract specific data from structured JSON files using jq-style queries.\n",
    "\n",
    "### Table of Contents\n",
    "- [Overview](#overview)\n",
    "- [Environment Setup](#environment-setup)\n",
    "- [Generate JSON Data](#generate-json-data)\n",
    "- [JSONLoader](#jsonloader)\n",
    "  \n",
    "When you want to extract values under the content field within the message key of JSON data, you can easily do this using JSONLoader as shown below.\n",
    "\n",
    "\n",
    "### References\n",
    "\n",
    "- https://python.langchain.com/docs/how_to/document_loader_json/"
   ]
  },
  {
   "cell_type": "markdown",
   "metadata": {},
   "source": [
    "## Environment Setup\n",
    "\n",
    "Set up the environment. You may refer to [Environment Setup](https://wikidocs.net/257836) for more details.\n",
    "\n",
    "**[Note]**\n",
    "- `langchain-opentutorial` is a package that provides a set of easy-to-use environment setup, useful functions and utilities for tutorials. \n",
    "- You can checkout the [`langchain-opentutorial`](https://github.com/LangChain-OpenTutorial/langchain-opentutorial-pypi) for more details."
   ]
  },
  {
   "cell_type": "code",
   "execution_count": 1,
   "metadata": {},
   "outputs": [
    {
     "name": "stderr",
     "output_type": "stream",
     "text": [
      "\n",
      "\u001b[1m[\u001b[0m\u001b[34;49mnotice\u001b[0m\u001b[1;39;49m]\u001b[0m\u001b[39;49m A new release of pip is available: \u001b[0m\u001b[31;49m24.2\u001b[0m\u001b[39;49m -> \u001b[0m\u001b[32;49m24.3.1\u001b[0m\n",
      "\u001b[1m[\u001b[0m\u001b[34;49mnotice\u001b[0m\u001b[1;39;49m]\u001b[0m\u001b[39;49m To update, run: \u001b[0m\u001b[32;49mpip install --upgrade pip\u001b[0m\n"
     ]
    }
   ],
   "source": [
    "# Install required packages\n",
    "from langchain_opentutorial import package\n",
    "\n",
    "package.install(\n",
    "    [\n",
    "        \"langsmith\",\n",
    "        \"langchain\",\n",
    "        \"langchain_openai\",\n",
    "        \"langchain_community\",\n",
    "        \"jq\",\n",
    "    ],\n",
    "    verbose=False,\n",
    "    upgrade=False,\n",
    ")"
   ]
  },
  {
   "cell_type": "code",
   "execution_count": 2,
   "metadata": {},
   "outputs": [
    {
     "name": "stdout",
     "output_type": "stream",
     "text": [
      "Environment variables have been set successfully.\n"
     ]
    }
   ],
   "source": [
    "# Set environment variables\n",
    "from langchain_opentutorial import set_env\n",
    "\n",
    "set_env(\n",
    "    {\n",
    "        \"OPENAI_API_KEY\": \"\",\n",
    "        \"LANGCHAIN_API_KEY\": \"\",\n",
    "        \"LANGCHAIN_TRACING_V2\": \"true\",\n",
    "        \"LANGCHAIN_ENDPOINT\": \"https://api.smith.langchain.com\",\n",
    "        \"LANGCHAIN_PROJECT\": \"JSON-Loader\",\n",
    "    }\n",
    ")"
   ]
  },
  {
   "cell_type": "markdown",
   "metadata": {},
   "source": [
    "You can alternatively set `OPENAI_API_KEY` in `.env` file and load it. \n",
    "\n",
    "[Note] This is not necessary if you've already set `OPENAI_API_KEY` in previous steps."
   ]
  },
  {
   "cell_type": "code",
   "execution_count": 3,
   "metadata": {},
   "outputs": [
    {
     "data": {
      "text/plain": [
       "True"
      ]
     },
     "execution_count": 3,
     "metadata": {},
     "output_type": "execute_result"
    }
   ],
   "source": [
    "from dotenv import load_dotenv\n",
    "\n",
    "load_dotenv(override=True)"
   ]
  },
  {
   "cell_type": "markdown",
   "metadata": {},
   "source": [
    "## Generate JSON Data\n",
    "\n",
    "if you want to generate JSON data, you can use the following code.\n"
   ]
  },
  {
   "cell_type": "code",
   "execution_count": 4,
   "metadata": {},
   "outputs": [
    {
     "name": "stdout",
     "output_type": "stream",
     "text": [
      "Generated and saved JSON data:\n",
      "{'people': [{'address': {'city': 'Springfield',\n",
      "                         'country': 'USA',\n",
      "                         'state': 'IL',\n",
      "                         'street': '123 Maple St',\n",
      "                         'zip': '62701'},\n",
      "             'age': 28,\n",
      "             'contact': {'email': 'alice.johnson@example.com',\n",
      "                         'phone': '+1234567890'},\n",
      "             'interesting_info': {'pet': {'name': 'Buddy', 'type': 'dog'},\n",
      "                                  'travel_history': ['France',\n",
      "                                                     'Japan',\n",
      "                                                     'Brazil']},\n",
      "             'name': {'first': 'Alice', 'last': 'Johnson'},\n",
      "             'personal_preferences': {'favorite_color': 'blue',\n",
      "                                      'favorite_food': 'Italian',\n",
      "                                      'hobbies': ['reading',\n",
      "                                                  'hiking',\n",
      "                                                  'cooking'],\n",
      "                                      'languages_spoken': ['English',\n",
      "                                                           'Spanish']}},\n",
      "            {'address': {'city': 'Seattle',\n",
      "                         'country': 'USA',\n",
      "                         'state': 'WA',\n",
      "                         'street': '456 Oak Ave',\n",
      "                         'zip': '98101'},\n",
      "             'age': 34,\n",
      "             'contact': {'email': 'michael.smith@example.com',\n",
      "                         'phone': '+9876543210'},\n",
      "             'interesting_info': {'pet': {'name': 'Whiskers', 'type': 'cat'},\n",
      "                                  'travel_history': ['Canada',\n",
      "                                                     'Australia',\n",
      "                                                     'Italy']},\n",
      "             'name': {'first': 'Michael', 'last': 'Smith'},\n",
      "             'personal_preferences': {'favorite_color': 'green',\n",
      "                                      'favorite_food': 'Sushi',\n",
      "                                      'hobbies': ['gaming',\n",
      "                                                  'photography',\n",
      "                                                  'running'],\n",
      "                                      'languages_spoken': ['English',\n",
      "                                                           'Japanese']}},\n",
      "            {'address': {'city': 'Austin',\n",
      "                         'country': 'USA',\n",
      "                         'state': 'TX',\n",
      "                         'street': '789 Pine Rd',\n",
      "                         'zip': '73301'},\n",
      "             'age': 22,\n",
      "             'contact': {'email': 'sophia.williams@example.com',\n",
      "                         'phone': '+5432167890'},\n",
      "             'interesting_info': {'pet': {'name': 'Chirpy', 'type': 'bird'},\n",
      "                                  'travel_history': ['Germany',\n",
      "                                                     'Spain',\n",
      "                                                     'Thailand']},\n",
      "             'name': {'first': 'Sophia', 'last': 'Williams'},\n",
      "             'personal_preferences': {'favorite_color': 'red',\n",
      "                                      'favorite_food': 'Mexican',\n",
      "                                      'hobbies': ['drawing',\n",
      "                                                  'traveling',\n",
      "                                                  'dancing'],\n",
      "                                      'languages_spoken': ['English',\n",
      "                                                           'French']}},\n",
      "            {'address': {'city': 'Miami',\n",
      "                         'country': 'USA',\n",
      "                         'state': 'FL',\n",
      "                         'street': '321 Birch Blvd',\n",
      "                         'zip': '33101'},\n",
      "             'age': 45,\n",
      "             'contact': {'email': 'david.brown@example.com',\n",
      "                         'phone': '+3216549870'},\n",
      "             'interesting_info': {'pet': {'name': 'Nemo', 'type': 'fish'},\n",
      "                                  'travel_history': ['Mexico',\n",
      "                                                     'Cuba',\n",
      "                                                     'Bahamas']},\n",
      "             'name': {'first': 'David', 'last': 'Brown'},\n",
      "             'personal_preferences': {'favorite_color': 'yellow',\n",
      "                                      'favorite_food': 'BBQ',\n",
      "                                      'hobbies': ['fishing',\n",
      "                                                  'golfing',\n",
      "                                                  'gardening'],\n",
      "                                      'languages_spoken': ['English']}},\n",
      "            {'address': {'city': 'Los Angeles',\n",
      "                         'country': 'USA',\n",
      "                         'state': 'CA',\n",
      "                         'street': '654 Cedar Ln',\n",
      "                         'zip': '90001'},\n",
      "             'age': 29,\n",
      "             'contact': {'email': 'emma.davis@example.com',\n",
      "                         'phone': '+6543210987'},\n",
      "             'interesting_info': {'pet': {'name': 'Fluffy', 'type': 'rabbit'},\n",
      "                                  'travel_history': ['India',\n",
      "                                                     'Egypt',\n",
      "                                                     'Greece']},\n",
      "             'name': {'first': 'Emma', 'last': 'Davis'},\n",
      "             'personal_preferences': {'favorite_color': 'purple',\n",
      "                                      'favorite_food': 'Thai',\n",
      "                                      'hobbies': ['yoga',\n",
      "                                                  'writing',\n",
      "                                                  'traveling'],\n",
      "                                      'languages_spoken': ['English',\n",
      "                                                           'Italian']}}]}\n"
     ]
    }
   ],
   "source": [
    "from langchain.prompts import PromptTemplate\n",
    "from langchain_openai import ChatOpenAI\n",
    "from pathlib import Path\n",
    "from dotenv import load_dotenv\n",
    "from pprint import pprint\n",
    "import json\n",
    "import os\n",
    "\n",
    "# Load .env file\n",
    "load_dotenv()\n",
    "\n",
    "# Initialize ChatOpenAI\n",
    "llm = ChatOpenAI(\n",
    "    model=\"gpt-4o-mini\",\n",
    "    temperature=0.7,\n",
    "    model_kwargs={\"response_format\": {\"type\": \"json_object\"}},\n",
    ")\n",
    "\n",
    "# Create prompt template\n",
    "prompt = PromptTemplate(\n",
    "    input_variables=[],\n",
    "    template=\"\"\"Generate a JSON array containing detailed personal information for 5 people. \n",
    "        Include various fields like name, age, contact details, address, personal preferences, and any other interesting information you think would be relevant.\"\"\",\n",
    ")\n",
    "\n",
    "# Create and invoke runnable sequence using the new pipe syntax\n",
    "response = (prompt | llm).invoke({})\n",
    "generated_data = json.loads(response.content)\n",
    "\n",
    "# Save to JSON file\n",
    "current_dir = Path().absolute()\n",
    "data_dir = current_dir / \"data\"\n",
    "data_dir.mkdir(exist_ok=True)\n",
    "\n",
    "file_path = data_dir / \"people.json\"\n",
    "with open(file_path, \"w\", encoding=\"utf-8\") as f:\n",
    "    json.dump(generated_data, f, ensure_ascii=False, indent=2)\n",
    "\n",
    "print(\"Generated and saved JSON data:\")\n",
    "pprint(generated_data)"
   ]
  },
  {
   "cell_type": "markdown",
   "metadata": {},
   "source": [
    "The case of loading JSON data is as follows when you want to load your own JSON data."
   ]
  },
  {
   "cell_type": "code",
   "execution_count": 5,
   "metadata": {},
   "outputs": [
    {
     "name": "stdout",
     "output_type": "stream",
     "text": [
      "{'people': [{'address': {'city': 'Springfield',\n",
      "                         'country': 'USA',\n",
      "                         'state': 'IL',\n",
      "                         'street': '123 Maple St',\n",
      "                         'zip': '62701'},\n",
      "             'age': 28,\n",
      "             'contact': {'email': 'alice.johnson@example.com',\n",
      "                         'phone': '+1234567890'},\n",
      "             'interesting_info': {'pet': {'name': 'Buddy', 'type': 'dog'},\n",
      "                                  'travel_history': ['France',\n",
      "                                                     'Japan',\n",
      "                                                     'Brazil']},\n",
      "             'name': {'first': 'Alice', 'last': 'Johnson'},\n",
      "             'personal_preferences': {'favorite_color': 'blue',\n",
      "                                      'favorite_food': 'Italian',\n",
      "                                      'hobbies': ['reading',\n",
      "                                                  'hiking',\n",
      "                                                  'cooking'],\n",
      "                                      'languages_spoken': ['English',\n",
      "                                                           'Spanish']}},\n",
      "            {'address': {'city': 'Seattle',\n",
      "                         'country': 'USA',\n",
      "                         'state': 'WA',\n",
      "                         'street': '456 Oak Ave',\n",
      "                         'zip': '98101'},\n",
      "             'age': 34,\n",
      "             'contact': {'email': 'michael.smith@example.com',\n",
      "                         'phone': '+9876543210'},\n",
      "             'interesting_info': {'pet': {'name': 'Whiskers', 'type': 'cat'},\n",
      "                                  'travel_history': ['Canada',\n",
      "                                                     'Australia',\n",
      "                                                     'Italy']},\n",
      "             'name': {'first': 'Michael', 'last': 'Smith'},\n",
      "             'personal_preferences': {'favorite_color': 'green',\n",
      "                                      'favorite_food': 'Sushi',\n",
      "                                      'hobbies': ['gaming',\n",
      "                                                  'photography',\n",
      "                                                  'running'],\n",
      "                                      'languages_spoken': ['English',\n",
      "                                                           'Japanese']}},\n",
      "            {'address': {'city': 'Austin',\n",
      "                         'country': 'USA',\n",
      "                         'state': 'TX',\n",
      "                         'street': '789 Pine Rd',\n",
      "                         'zip': '73301'},\n",
      "             'age': 22,\n",
      "             'contact': {'email': 'sophia.williams@example.com',\n",
      "                         'phone': '+5432167890'},\n",
      "             'interesting_info': {'pet': {'name': 'Chirpy', 'type': 'bird'},\n",
      "                                  'travel_history': ['Germany',\n",
      "                                                     'Spain',\n",
      "                                                     'Thailand']},\n",
      "             'name': {'first': 'Sophia', 'last': 'Williams'},\n",
      "             'personal_preferences': {'favorite_color': 'red',\n",
      "                                      'favorite_food': 'Mexican',\n",
      "                                      'hobbies': ['drawing',\n",
      "                                                  'traveling',\n",
      "                                                  'dancing'],\n",
      "                                      'languages_spoken': ['English',\n",
      "                                                           'French']}},\n",
      "            {'address': {'city': 'Miami',\n",
      "                         'country': 'USA',\n",
      "                         'state': 'FL',\n",
      "                         'street': '321 Birch Blvd',\n",
      "                         'zip': '33101'},\n",
      "             'age': 45,\n",
      "             'contact': {'email': 'david.brown@example.com',\n",
      "                         'phone': '+3216549870'},\n",
      "             'interesting_info': {'pet': {'name': 'Nemo', 'type': 'fish'},\n",
      "                                  'travel_history': ['Mexico',\n",
      "                                                     'Cuba',\n",
      "                                                     'Bahamas']},\n",
      "             'name': {'first': 'David', 'last': 'Brown'},\n",
      "             'personal_preferences': {'favorite_color': 'yellow',\n",
      "                                      'favorite_food': 'BBQ',\n",
      "                                      'hobbies': ['fishing',\n",
      "                                                  'golfing',\n",
      "                                                  'gardening'],\n",
      "                                      'languages_spoken': ['English']}},\n",
      "            {'address': {'city': 'Los Angeles',\n",
      "                         'country': 'USA',\n",
      "                         'state': 'CA',\n",
      "                         'street': '654 Cedar Ln',\n",
      "                         'zip': '90001'},\n",
      "             'age': 29,\n",
      "             'contact': {'email': 'emma.davis@example.com',\n",
      "                         'phone': '+6543210987'},\n",
      "             'interesting_info': {'pet': {'name': 'Fluffy', 'type': 'rabbit'},\n",
      "                                  'travel_history': ['India',\n",
      "                                                     'Egypt',\n",
      "                                                     'Greece']},\n",
      "             'name': {'first': 'Emma', 'last': 'Davis'},\n",
      "             'personal_preferences': {'favorite_color': 'purple',\n",
      "                                      'favorite_food': 'Thai',\n",
      "                                      'hobbies': ['yoga',\n",
      "                                                  'writing',\n",
      "                                                  'traveling'],\n",
      "                                      'languages_spoken': ['English',\n",
      "                                                           'Italian']}}]}\n"
     ]
    }
   ],
   "source": [
    "import json\n",
    "from pathlib import Path\n",
    "from pprint import pprint\n",
    "\n",
    "\n",
    "file_path = \"data/people.json\"\n",
    "data = json.loads(Path(file_path).read_text())\n",
    "\n",
    "pprint(data)"
   ]
  },
  {
   "cell_type": "code",
   "execution_count": 6,
   "metadata": {},
   "outputs": [
    {
     "name": "stdout",
     "output_type": "stream",
     "text": [
      "<class 'dict'>\n"
     ]
    }
   ],
   "source": [
    "print(type(data))"
   ]
  },
  {
   "cell_type": "markdown",
   "metadata": {},
   "source": [
    "## JSONLoader\n",
    "\n",
    "When you want to extract values under the content field within the message key of JSON data, you can easily do this using JSONLoader as shown below."
   ]
  },
  {
   "cell_type": "code",
   "execution_count": 7,
   "metadata": {},
   "outputs": [
    {
     "name": "stdout",
     "output_type": "stream",
     "text": [
      "[Document(metadata={'source': '/Users/teddy/Documents/GitHub/LangChain-OpenTutorial/06-DocumentLoader/data/people.json', 'seq_num': 1}, page_content='{\"name\": {\"first\": \"Alice\", \"last\": \"Johnson\"}, \"age\": 28, \"contact\": {\"email\": \"alice.johnson@example.com\", \"phone\": \"+1234567890\"}, \"address\": {\"street\": \"123 Maple St\", \"city\": \"Springfield\", \"state\": \"IL\", \"zip\": \"62701\", \"country\": \"USA\"}, \"personal_preferences\": {\"hobbies\": [\"reading\", \"hiking\", \"cooking\"], \"favorite_food\": \"Italian\", \"favorite_color\": \"blue\", \"languages_spoken\": [\"English\", \"Spanish\"]}, \"interesting_info\": {\"pet\": {\"type\": \"dog\", \"name\": \"Buddy\"}, \"travel_history\": [\"France\", \"Japan\", \"Brazil\"]}}'),\n",
      " Document(metadata={'source': '/Users/teddy/Documents/GitHub/LangChain-OpenTutorial/06-DocumentLoader/data/people.json', 'seq_num': 2}, page_content='{\"name\": {\"first\": \"Michael\", \"last\": \"Smith\"}, \"age\": 34, \"contact\": {\"email\": \"michael.smith@example.com\", \"phone\": \"+9876543210\"}, \"address\": {\"street\": \"456 Oak Ave\", \"city\": \"Seattle\", \"state\": \"WA\", \"zip\": \"98101\", \"country\": \"USA\"}, \"personal_preferences\": {\"hobbies\": [\"gaming\", \"photography\", \"running\"], \"favorite_food\": \"Sushi\", \"favorite_color\": \"green\", \"languages_spoken\": [\"English\", \"Japanese\"]}, \"interesting_info\": {\"pet\": {\"type\": \"cat\", \"name\": \"Whiskers\"}, \"travel_history\": [\"Canada\", \"Australia\", \"Italy\"]}}'),\n",
      " Document(metadata={'source': '/Users/teddy/Documents/GitHub/LangChain-OpenTutorial/06-DocumentLoader/data/people.json', 'seq_num': 3}, page_content='{\"name\": {\"first\": \"Sophia\", \"last\": \"Williams\"}, \"age\": 22, \"contact\": {\"email\": \"sophia.williams@example.com\", \"phone\": \"+5432167890\"}, \"address\": {\"street\": \"789 Pine Rd\", \"city\": \"Austin\", \"state\": \"TX\", \"zip\": \"73301\", \"country\": \"USA\"}, \"personal_preferences\": {\"hobbies\": [\"drawing\", \"traveling\", \"dancing\"], \"favorite_food\": \"Mexican\", \"favorite_color\": \"red\", \"languages_spoken\": [\"English\", \"French\"]}, \"interesting_info\": {\"pet\": {\"type\": \"bird\", \"name\": \"Chirpy\"}, \"travel_history\": [\"Germany\", \"Spain\", \"Thailand\"]}}'),\n",
      " Document(metadata={'source': '/Users/teddy/Documents/GitHub/LangChain-OpenTutorial/06-DocumentLoader/data/people.json', 'seq_num': 4}, page_content='{\"name\": {\"first\": \"David\", \"last\": \"Brown\"}, \"age\": 45, \"contact\": {\"email\": \"david.brown@example.com\", \"phone\": \"+3216549870\"}, \"address\": {\"street\": \"321 Birch Blvd\", \"city\": \"Miami\", \"state\": \"FL\", \"zip\": \"33101\", \"country\": \"USA\"}, \"personal_preferences\": {\"hobbies\": [\"fishing\", \"golfing\", \"gardening\"], \"favorite_food\": \"BBQ\", \"favorite_color\": \"yellow\", \"languages_spoken\": [\"English\"]}, \"interesting_info\": {\"pet\": {\"type\": \"fish\", \"name\": \"Nemo\"}, \"travel_history\": [\"Mexico\", \"Cuba\", \"Bahamas\"]}}'),\n",
      " Document(metadata={'source': '/Users/teddy/Documents/GitHub/LangChain-OpenTutorial/06-DocumentLoader/data/people.json', 'seq_num': 5}, page_content='{\"name\": {\"first\": \"Emma\", \"last\": \"Davis\"}, \"age\": 29, \"contact\": {\"email\": \"emma.davis@example.com\", \"phone\": \"+6543210987\"}, \"address\": {\"street\": \"654 Cedar Ln\", \"city\": \"Los Angeles\", \"state\": \"CA\", \"zip\": \"90001\", \"country\": \"USA\"}, \"personal_preferences\": {\"hobbies\": [\"yoga\", \"writing\", \"traveling\"], \"favorite_food\": \"Thai\", \"favorite_color\": \"purple\", \"languages_spoken\": [\"English\", \"Italian\"]}, \"interesting_info\": {\"pet\": {\"type\": \"rabbit\", \"name\": \"Fluffy\"}, \"travel_history\": [\"India\", \"Egypt\", \"Greece\"]}}')]\n"
     ]
    }
   ],
   "source": [
    "from langchain_community.document_loaders import JSONLoader\n",
    "\n",
    "# Create JSONLoader\n",
    "loader = JSONLoader(\n",
    "    file_path=\"data/people.json\",\n",
    "    jq_schema=\".people[]\",  # Access each item in the people array\n",
    "    text_content=False,\n",
    ")\n",
    "\n",
    "# Example: extract only contact_details\n",
    "# loader = JSONLoader(\n",
    "#     file_path=\"data/people.json\",\n",
    "#     jq_schema=\".people[].contact_details\",\n",
    "#     text_content=False,\n",
    "# )\n",
    "\n",
    "# Or extract only hobbies from personal_preferences\n",
    "# loader = JSONLoader(\n",
    "#     file_path=\"data/people.json\",\n",
    "#     jq_schema=\".people[].personal_preferences.hobbies\",\n",
    "#     text_content=False,\n",
    "# )\n",
    "\n",
    "# Load documents\n",
    "docs = loader.load()\n",
    "pprint(docs)"
   ]
  }
 ],
 "metadata": {
  "kernelspec": {
   "display_name": "langchain-opentutorial-LGorndcz-py3.11",
   "language": "python",
   "name": "python3"
  },
  "language_info": {
   "codemirror_mode": {
    "name": "ipython",
    "version": 3
   },
   "file_extension": ".py",
   "mimetype": "text/x-python",
   "name": "python",
   "nbconvert_exporter": "python",
   "pygments_lexer": "ipython3",
   "version": "3.11.10"
  }
 },
 "nbformat": 4,
 "nbformat_minor": 2
}
