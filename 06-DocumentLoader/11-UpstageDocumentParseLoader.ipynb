{
  "cells": [
    {
      "cell_type": "markdown",
      "metadata": {},
      "source": [
        "# UpstageDocumentParseLoader \n",
        "- Author: [Taylor(Jihyun Kim)](https://github.com/Taylor0819)\n",
        "- Design: \n",
        "- Peer Review : [JoonHo Kim](https://github.com/jhboyo), [Jaemin Hong](https://github.com/geminii01), [leebeanbin](https://github.com/leebeanbin), [Dooil Kwak](https://github.com/back2zion)\n",
        "- This is a part of [LangChain Open Tutorial](https://github.com/LangChain-OpenTutorial/LangChain-OpenTutorial)\n",
        "\n",
        "[![Open in Colab](https://colab.research.google.com/assets/colab-badge.svg)](https://colab.research.google.com/github/LangChain-OpenTutorial/LangChain-OpenTutorial/blob/main/06-DocumentLoader/12-UpstageDocumentParseLoader.ipynb) [![Open in GitHub](https://img.shields.io/badge/Open%20in%20GitHub-181717?style=flat-square&logo=github&logoColor=white)](https://github.com/LangChain-OpenTutorial/LangChain-OpenTutorial/blob/main/06-DocumentLoader/12-UpstageDocumentParseLoader.ipynb)\n"
      ]
    },
    {
      "cell_type": "markdown",
      "metadata": {},
      "source": [
        "## Overview \n",
        "\n",
        "The `UpstageDocumentParseLoader` is a robust document analysis tool designed by Upstage that seamlessly integrates with the LangChain framework as a document loader. It specializes in transforming documents into structured HTML by analyzing their layout and content.\n",
        "\n",
        "**Key Features** :\n",
        "\n",
        "-\tComprehensive Layout Analysis : \n",
        "\tAnalyzes and identifies structural elements like headings, paragraphs, tables, and images across various document formats (e.g., PDFs, images).\n",
        "\n",
        "-\tAutomated Structural Recognition : \n",
        "\tAutomatically detects and serializes document elements based on reading order for accurate conversion to HTML.\n",
        "\n",
        "-\tOptional OCR Support : \n",
        "\tIncludes optical character recognition for handling scanned or image-based documents. The OCR mode supports:\n",
        "\t\n",
        "\t`force`: Extracts text from images using OCR.\n",
        "\t\n",
        "\t`auto`: Extracts text from PDFs (throws an error if the input is not in PDF format).\n",
        "\n",
        "By recognizing and preserving the relationships between document elements, the `UpstageDocumentParseLoader` enables precise and context-aware document analysis.\n",
        "\n",
        "**Migration from Layout Analysis** :\n",
        "Upstage has launched Document Parse to replace Layout Analysis! Document Parse now supports a wider range of document types, markdown output, chart detection, equation recognition, and additional features planned for upcoming releases. The last version of Layout Analysis, layout-analysis-0.4.0, will be officially discontinued by November 10, 2024."
      ]
    },
    {
      "cell_type": "markdown",
      "metadata": {},
      "source": [
        "### Table of Contents \n",
        "\n",
        "- [Overview](#overview)\n",
        "- [Key Changes from Layout Analysis](#key-changes-from-layout-analysis)\n",
        "- [Environment Setup](#environment-setup)\n",
        "- [UpstageDocumentParseLoader Key Parameters](#upstagedocumentparseloader-key-parameters)\n",
        "- [Usage Example](#usage-example)"
      ]
    },
    {
      "cell_type": "markdown",
      "metadata": {},
      "source": [
        "### Key Changes from Layout Analysis\n",
        "\n",
        "**Changes to Existing Options** :\n",
        "1. `use_ocr` → `ocr` \n",
        "   \n",
        "   `use_ocr` option has been replaced with `ocr`. Instead of `True/False`, it now accepts `\"force\"` or `\"auto\"` for more precise control.\n",
        "\n",
        "2. `output_type` → `output_format`\n",
        "   \n",
        "   `output_type` option has been renamed to `output_format` for specifying the format of the output.\n",
        "\n",
        "3. `exclude` → `base64_encoding`\n",
        "\n",
        "    The `exclude` option has been replaced with `base64_encoding`. While `exclude` was used to exclude specific elements from the output, `base64_encoding` specifies whether to encode elements of certain categories in Base64.\n",
        "   "
      ]
    },
    {
      "cell_type": "markdown",
      "metadata": {},
      "source": [
        "### References\n",
        "- [UpstageDocumentParseLoader](https://python.langchain.com/api_reference/upstage/document_parse/langchain_upstage.document_parse.UpstageDocumentParseLoader.html)\n",
        "- [UpstageLayoutAnalysisLoader](https://python.langchain.com/api_reference/upstage/layout_analysis/langchain_upstage.layout_analysis.UpstageLayoutAnalysisLoader.html)\n",
        "- [Upstage Migrate to Document Parse from Layout Analysis](https://console.upstage.ai/docs/capabilities/document-parse/migration-dp)"
      ]
    },
    {
      "cell_type": "markdown",
      "metadata": {},
      "source": [
        "----"
      ]
    },
    {
      "cell_type": "markdown",
      "metadata": {},
      "source": [
        "## Environment Setup\n",
        "Set up the environment. You may refer to [Environment Setup](https://wikidocs.net/257836) for more details.\n",
        "\n",
        "**[Note]** \n",
        "\n",
        "- `langchain-opentutorial` is a package that provides a set of easy-to-use environment setup, useful functions and utilities for tutorials.\n",
        "- You can checkout the [`langchain-opentutorial`](https://github.com/LangChain-OpenTutorial/langchain-opentutorial-pypi) for more details.\n",
        "\n",
        "\n",
        "### API Key Configuration\n",
        "To use `UpstageDocumentParseLoader`, you need to [obtain a Upstage API key](https://console.upstage.ai/api-keys).\n",
        "\n",
        "Once you have your API key, set it as the value for the variable `UPSTAGE_API_KEY`.\n"
      ]
    },
    {
      "cell_type": "code",
      "execution_count": 21,
      "metadata": {},
      "outputs": [],
      "source": [
        "%%capture --no-stderr\n",
        "%pip install langchain-opentutorial"
      ]
    },
    {
      "cell_type": "code",
      "execution_count": 22,
      "metadata": {},
      "outputs": [],
      "source": [
        "# Install required packages\n",
        "from langchain_opentutorial import package\n",
        "\n",
        "package.install(\n",
        "    [\n",
        "        \"langsmith\",\n",
        "        \"langchain_upstage\",\n",
        "    ],\n",
        "    verbose=False,\n",
        "    upgrade=False,\n",
        ")"
      ]
    },
    {
      "cell_type": "code",
      "execution_count": 23,
      "metadata": {},
      "outputs": [
        {
          "name": "stdout",
          "output_type": "stream",
          "text": [
            "Environment variables have been set successfully.\n"
          ]
        }
      ],
      "source": [
        "# Set environment variables\n",
        "from langchain_opentutorial import set_env\n",
        "\n",
        "set_env(\n",
        "    {\n",
        "        \"UPSTAGE_API_KEY\": \"\",\n",
        "        \"LANGCHAIN_API_KEY\": \"\",\n",
        "        \"LANGCHAIN_TRACING_V2\": \"true\",\n",
        "        \"LANGCHAIN_ENDPOINT\": \"https://api.smith.langchain.com\",\n",
        "        \"LANGCHAIN_PROJECT\": \"12-UpstageDocumentParseLoader\",\n",
        "    }\n",
        ")"
      ]
    },
    {
      "cell_type": "markdown",
      "metadata": {},
      "source": [
        "You can alternatively set `UPSTAGE_API_KEY` in .env file and load it.\n",
        "\n",
        "[Note] This is not necessary if you've already set `UPSTAGE_API_KEY` in previous steps."
      ]
    },
    {
      "cell_type": "code",
      "execution_count": 24,
      "metadata": {},
      "outputs": [
        {
          "data": {
            "text/plain": [
              "True"
            ]
          },
          "execution_count": 24,
          "metadata": {},
          "output_type": "execute_result"
        }
      ],
      "source": [
        "from dotenv import load_dotenv\n",
        "\n",
        "load_dotenv(override=True)"
      ]
    },
    {
      "cell_type": "markdown",
      "metadata": {},
      "source": [
        "## UpstageDocumentParseLoader Key Parameters\n",
        "\n",
        "- `file_path` : Path(s) to the document(s) to be analyzed\n",
        "- `split` : Document splitting mode [default: 'none', 'element', 'page']\n",
        "- `model` : Model name for document parsing [default: 'document-parse']\n",
        "- `ocr` : OCR mode [\"force\" (always OCR), \"auto\" (PDF-only)]\n",
        "- `output_format` : Format of the analysis results [default: 'html', 'text', 'markdown']\n",
        "- `coordinates` : Include OCR coordinates in the output [default: True]\n",
        "- `base64_encoding` : List of element categories to be base64-encoded ['paragraph', 'table', 'figure', 'header', 'footer', 'list', 'chart', '...']"
      ]
    },
    {
      "cell_type": "markdown",
      "metadata": {},
      "source": [
        "## Usage Example\n",
        "Let's try running a code example here using `UpstageDocumentParseLoader`.\n",
        "\n",
        "### Data Preparation\n",
        "\n",
        "In this tutorial, we will use the following pdf file:\n",
        "\n",
        "- Download Link: [Modular-RAG: Transforming RAG Systems into LEGO-like Reconfigurable Frameworks](https://arxiv.org/abs/2407.21059)\n",
        "- File name: Modular RAG_ Transforming RAG Systems into LEGO-like Reconfigurable Frameworks.pdf\n",
        "- File path: ./data/Modular RAG_ Transforming RAG Systems into LEGO-like Reconfigurable Frameworks.pdf\n",
        "\n",
        "After downloading the PDF file from the provided link, create a data folder in the current directory and save the PDF file into that folder.\n"
      ]
    },
    {
      "cell_type": "code",
      "execution_count": 25,
      "metadata": {},
      "outputs": [],
      "source": [
        "from langchain_upstage import UpstageDocumentParseLoader\n",
        "\n",
        "# file path\n",
        "file_path = \"./data/Modular RAG_ Transforming RAG Systems into LEGO-like Reconfigurable Frameworks.pdf\"\n",
        "\n",
        "# Configure the document loader\n",
        "loader = UpstageDocumentParseLoader(\n",
        "    file_path,\n",
        "    output_format=\"html\",\n",
        "    split=\"page\",\n",
        "    ocr=\"auto\",\n",
        "    coordinates=True,\n",
        "    base64_encoding=[\"chart\"],\n",
        ")\n",
        "\n",
        "# Load the document\n",
        "docs = loader.load()\n",
        "\n",
        "# Print the results\n",
        "for doc in docs[:2]:\n",
        "    print(doc)"
      ]
    }
  ],
  "metadata": {
    "kernelspec": {
      "display_name": "langchain-opentutorial-F0L5SJfm-py3.11",
      "language": "python",
      "name": "python3"
    },
    "language_info": {
      "codemirror_mode": {
        "name": "ipython",
        "version": 3
      },
      "file_extension": ".py",
      "mimetype": "text/x-python",
      "name": "python",
      "nbconvert_exporter": "python",
      "pygments_lexer": "ipython3",
      "version": "3.11.11"
    }
  },
  "nbformat": 4,
  "nbformat_minor": 2
}
