{
 "cells": [
  {
   "cell_type": "markdown",
   "metadata": {},
   "source": [
    "# Character Text Splitter \n",
    "\n",
    "- Author: [hellohotkey](https://github.com/hellohotkey)\n",
    "- Design: \n",
    "- Peer Review: \n",
    "- This is a part of [LangChain Open Tutorial](https://github.com/LangChain-OpenTutorial/LangChain-OpenTutorial)\n",
    "\n",
    "[![Open in Colab](https://colab.research.google.com/assets/colab-badge.svg)](https://colab.research.google.com/github/langchain-ai/langchain-academy/blob/main/module-4/sub-graph.ipynb) [![Open in LangChain Academy](https://cdn.prod.website-files.com/65b8cd72835ceeacd4449a53/66e9eba12c7b7688aa3dbb5e_LCA-badge-green.svg)](https://academy.langchain.com/courses/take/intro-to-langgraph/lessons/58239937-lesson-2-sub-graphs)\n",
    "\n",
    "## Overview\n",
    "\n",
    "Text splitting is a crucial step in document processing with LangChain. \n",
    "\n",
    "The `CharacterTextSplitter` offers efficient text chunking that provides several key benefits:\n",
    "\n",
    "- **Token Limits:** Overcomes LLM context window size restrictions\n",
    "- **Search Optimization:** Enables more precise chunk-level retrieval\n",
    "- **Memory Efficiency:** Processes large documents effectively\n",
    "- **Context Preservation:** Maintains textual coherence through `chunk_overlap`\n",
    "\n",
    "This tutorial explores practical implementation of text splitting through core methods like `split_text()` and `create_documents()`, including advanced features such as metadata handling.\n",
    "\n",
    "### Table of Contents\n",
    "\n",
    "- [Overview](#overview)\n",
    "- [Environement Setup](#environment-setup)\n",
    "- [Reading the Input File](#reading-the-input-file)\n",
    "- [Preview File Contents](#preview-file-contents) \n",
    "- [Configure Text Splitter](#configure-text-splitter)\n",
    "- [Create and Display Document Chunks](#create-and-display-document-chunks)\n",
    "- [Working with Metadata](#working-with-metadata)\n",
    "- [Using split_text() Method](#using-split_text-method)\n",
    "\n",
    "\n",
    "### References\n",
    "\n",
    "- [LangChain TextSplitter](https://python.langchain.com/api_reference/text_splitters/base/langchain_text_splitters.base.TextSplitter.html)\n",
    "- [LangChain CharacterTextSplitter](https://python.langchain.com/api_reference/text_splitters/character/langchain_text_splitters.character.CharacterTextSplitter.html)\n",
    "----"
   ]
  }
 ],
 "metadata": {
  "language_info": {
   "name": "python"
  }
 },
 "nbformat": 4,
 "nbformat_minor": 2
}
